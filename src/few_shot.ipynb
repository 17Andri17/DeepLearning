{
 "cells": [
  {
   "cell_type": "code",
   "execution_count": 69,
   "metadata": {},
   "outputs": [],
   "source": [
    "import random\n",
    "\n",
    "import numpy as np\n",
    "import torch\n",
    "import torch.nn as nn\n",
    "import torch.optim as optim\n",
    "import torchvision\n",
    "import torchvision.transforms as transforms\n",
    "from torch.utils.data import DataLoader, Subset\n",
    "from torchvision import models\n",
    "from torchvision.models import resnet101\n",
    "from tqdm import tqdm"
   ]
  },
  {
   "cell_type": "code",
   "execution_count": 70,
   "metadata": {},
   "outputs": [],
   "source": [
    "cinic_directory = 'C:/Users/Dell/.cache/kagglehub/datasets/mengcius/cinic10/versions/1'\n",
    "cinic_mean = [0.47889522, 0.47227842, 0.43047404]\n",
    "cinic_std = [0.24205776, 0.23828046, 0.25874835]\n",
    "\n",
    "transform = transforms.Compose([\n",
    "    transforms.ToTensor(),\n",
    "    transforms.Normalize(mean=cinic_mean,std=cinic_std)\n",
    "])\n",
    "\n",
    "transform_augment_advanced = transforms.Compose([\n",
    "    transforms.RandomCrop(32, padding=4),\n",
    "    transforms.RandomHorizontalFlip(),\n",
    "    transforms.RandomRotation(15),\n",
    "    transforms.ColorJitter(brightness=0.2, contrast=0.2),\n",
    "    transforms.ToTensor(),\n",
    "    transforms.Normalize(mean=cinic_mean,std=cinic_std),\n",
    "    transforms.RandomErasing(p=0.5, scale=(0.02, 0.2), ratio=(0.3, 3.3), value=0)\n",
    "])\n",
    "\n",
    "\n",
    "cinic_train = DataLoader(\n",
    "    torchvision.datasets.ImageFolder(cinic_directory + '/train', transform=transform),\n",
    "    batch_size=128, shuffle=True)\n",
    "cinic_valid = DataLoader(\n",
    "    torchvision.datasets.ImageFolder(cinic_directory + '/valid', transform=transform),\n",
    "    batch_size=128, shuffle=False)"
   ]
  },
  {
   "cell_type": "code",
   "execution_count": 71,
   "metadata": {},
   "outputs": [],
   "source": [
    "def train(model, device, cinic_train, num_epochs = 10, lr=0.0001):\n",
    "    criterion = nn.CrossEntropyLoss()\n",
    "    optimizer = optim.Adam(model.parameters(), lr=lr, weight_decay=0.001)\n",
    "\n",
    "    for epoch in range(num_epochs):\n",
    "        model.train()\n",
    "        running_loss = 0.0\n",
    "        correct = 0\n",
    "        total = 0\n",
    "\n",
    "        train_loader_tqdm = tqdm(cinic_train, desc=f\"Epoka {epoch+1}/{num_epochs}\")\n",
    "\n",
    "        for images, labels in train_loader_tqdm:\n",
    "            images, labels = images.to(device), labels.to(device)\n",
    "            \n",
    "            optimizer.zero_grad()\n",
    "            outputs = model(images)\n",
    "            loss = criterion(outputs, labels)\n",
    "            loss.backward()\n",
    "            optimizer.step()\n",
    "            \n",
    "            running_loss += loss.item()\n",
    "            \n",
    "            _, predicted = torch.max(outputs, 1)\n",
    "            total += labels.size(0)\n",
    "            correct += (predicted == labels).sum().item()\n",
    "            \n",
    "            train_loader_tqdm.set_postfix(loss=loss.item())\n",
    "\n",
    "        avg_loss = running_loss / len(cinic_train)\n",
    "        accuracy = 100 * correct / total\n",
    "        print(f\"Epoka [{epoch+1}/{num_epochs}], Strata: {avg_loss:.4f}, Dokładność: {accuracy:.2f}%\")\n",
    "\n",
    "    print(\"Trenowanie zakończone!\")"
   ]
  },
  {
   "cell_type": "code",
   "execution_count": 72,
   "metadata": {},
   "outputs": [],
   "source": [
    "def test(model, device, cinic_valid):\n",
    "    model.eval()\n",
    "    correct = 0\n",
    "    total = 0\n",
    "\n",
    "    with torch.no_grad():\n",
    "        for images, labels in cinic_valid:\n",
    "            images, labels = images.to(device), labels.to(device)\n",
    "            outputs = model(images)\n",
    "            _, predicted = torch.max(outputs, 1)\n",
    "            total += labels.size(0)\n",
    "            correct += (predicted == labels).sum().item()\n",
    "\n",
    "    print(f\"Dokładność na zbiorze walidacyjnym: {100 * correct / total:.2f}%\")"
   ]
  },
  {
   "cell_type": "code",
   "execution_count": 73,
   "metadata": {},
   "outputs": [],
   "source": [
    "def get_few_shot_subset(dataset, num_classes=10, shots_per_class=90):\n",
    "    targets = np.array(dataset.targets)\n",
    "    \n",
    "    unique_classes = np.unique(targets)\n",
    "    selected_classes = random.sample(list(unique_classes), num_classes)\n",
    "    \n",
    "    few_shot_indices = []\n",
    "    for c in selected_classes:\n",
    "        class_indices = np.where(targets == c)[0]\n",
    "        sampled_indices = random.sample(class_indices.tolist(), min(shots_per_class, len(class_indices)))\n",
    "        few_shot_indices.extend(sampled_indices)\n",
    "    \n",
    "    return Subset(dataset, few_shot_indices)\n",
    "\n",
    "cinic_train_dataset = torchvision.datasets.ImageFolder(cinic_directory + '/train', transform=transform)\n",
    "few_shot_train = get_few_shot_subset(cinic_train_dataset, num_classes=10, shots_per_class=10)\n",
    "\n",
    "few_shot_loader = DataLoader(few_shot_train, batch_size=10, shuffle=True)"
   ]
  },
  {
   "cell_type": "code",
   "execution_count": 77,
   "metadata": {},
   "outputs": [],
   "source": [
    "class FewShotModel(nn.Module):\n",
    "    def __init__(self, backbone=resnet101(weights=models.ResNet101_Weights.IMAGENET1K_V1), num_classes=10):\n",
    "        super().__init__()\n",
    "        self.encoder = nn.Sequential(*list(backbone.children())[:-1])\n",
    "        self.fc = nn.Linear(2048, num_classes)\n",
    "\n",
    "    def forward(self, x):\n",
    "        x = self.encoder(x)\n",
    "        x = torch.flatten(x, start_dim=1)\n",
    "        return self.fc(x)"
   ]
  },
  {
   "cell_type": "code",
   "execution_count": 78,
   "metadata": {},
   "outputs": [],
   "source": [
    "# device = torch.device(\"cuda\" if torch.cuda.is_available() else \"cpu\")\n",
    "device = torch.device(\"cpu\")\n",
    "model = FewShotModel(num_classes=10).to(device)"
   ]
  },
  {
   "cell_type": "code",
   "execution_count": 79,
   "metadata": {},
   "outputs": [
    {
     "name": "stderr",
     "output_type": "stream",
     "text": [
      "Epoka 1/10: 100%|██████████| 10/10 [00:03<00:00,  2.94it/s, loss=2.26]\n"
     ]
    },
    {
     "name": "stdout",
     "output_type": "stream",
     "text": [
      "Epoka [1/10], Strata: 2.4241, Dokładność: 11.00%\n"
     ]
    },
    {
     "name": "stderr",
     "output_type": "stream",
     "text": [
      "Epoka 2/10: 100%|██████████| 10/10 [00:03<00:00,  3.05it/s, loss=1.96]\n"
     ]
    },
    {
     "name": "stdout",
     "output_type": "stream",
     "text": [
      "Epoka [2/10], Strata: 1.9891, Dokładność: 31.00%\n"
     ]
    },
    {
     "name": "stderr",
     "output_type": "stream",
     "text": [
      "Epoka 3/10: 100%|██████████| 10/10 [00:03<00:00,  2.94it/s, loss=1.53]\n"
     ]
    },
    {
     "name": "stdout",
     "output_type": "stream",
     "text": [
      "Epoka [3/10], Strata: 1.6578, Dokładność: 51.00%\n"
     ]
    },
    {
     "name": "stderr",
     "output_type": "stream",
     "text": [
      "Epoka 4/10: 100%|██████████| 10/10 [00:03<00:00,  2.90it/s, loss=1.07]\n"
     ]
    },
    {
     "name": "stdout",
     "output_type": "stream",
     "text": [
      "Epoka [4/10], Strata: 1.4230, Dokładność: 58.00%\n"
     ]
    },
    {
     "name": "stderr",
     "output_type": "stream",
     "text": [
      "Epoka 5/10: 100%|██████████| 10/10 [00:03<00:00,  2.92it/s, loss=0.952]\n"
     ]
    },
    {
     "name": "stdout",
     "output_type": "stream",
     "text": [
      "Epoka [5/10], Strata: 1.0439, Dokładność: 80.00%\n"
     ]
    },
    {
     "name": "stderr",
     "output_type": "stream",
     "text": [
      "Epoka 6/10: 100%|██████████| 10/10 [00:03<00:00,  2.87it/s, loss=1.12]\n"
     ]
    },
    {
     "name": "stdout",
     "output_type": "stream",
     "text": [
      "Epoka [6/10], Strata: 0.9312, Dokładność: 81.00%\n"
     ]
    },
    {
     "name": "stderr",
     "output_type": "stream",
     "text": [
      "Epoka 7/10: 100%|██████████| 10/10 [00:03<00:00,  2.87it/s, loss=0.885]\n"
     ]
    },
    {
     "name": "stdout",
     "output_type": "stream",
     "text": [
      "Epoka [7/10], Strata: 0.8002, Dokładność: 81.00%\n"
     ]
    },
    {
     "name": "stderr",
     "output_type": "stream",
     "text": [
      "Epoka 8/10: 100%|██████████| 10/10 [00:03<00:00,  2.73it/s, loss=0.6] \n"
     ]
    },
    {
     "name": "stdout",
     "output_type": "stream",
     "text": [
      "Epoka [8/10], Strata: 0.6064, Dokładność: 86.00%\n"
     ]
    },
    {
     "name": "stderr",
     "output_type": "stream",
     "text": [
      "Epoka 9/10: 100%|██████████| 10/10 [00:03<00:00,  2.77it/s, loss=0.744]\n"
     ]
    },
    {
     "name": "stdout",
     "output_type": "stream",
     "text": [
      "Epoka [9/10], Strata: 0.6338, Dokładność: 84.00%\n"
     ]
    },
    {
     "name": "stderr",
     "output_type": "stream",
     "text": [
      "Epoka 10/10: 100%|██████████| 10/10 [00:03<00:00,  2.92it/s, loss=0.26]"
     ]
    },
    {
     "name": "stdout",
     "output_type": "stream",
     "text": [
      "Epoka [10/10], Strata: 0.4639, Dokładność: 93.00%\n",
      "Trenowanie zakończone!\n"
     ]
    },
    {
     "name": "stderr",
     "output_type": "stream",
     "text": [
      "\n"
     ]
    }
   ],
   "source": [
    "train(model, device, few_shot_loader, num_epochs=10)"
   ]
  },
  {
   "cell_type": "code",
   "execution_count": 80,
   "metadata": {},
   "outputs": [
    {
     "name": "stdout",
     "output_type": "stream",
     "text": [
      "Dokładność na zbiorze walidacyjnym: 24.45%\n"
     ]
    }
   ],
   "source": [
    "test(model, device, cinic_valid)"
   ]
  }
 ],
 "metadata": {
  "kernelspec": {
   "display_name": "Python 3",
   "language": "python",
   "name": "python3"
  },
  "language_info": {
   "codemirror_mode": {
    "name": "ipython",
    "version": 3
   },
   "file_extension": ".py",
   "mimetype": "text/x-python",
   "name": "python",
   "nbconvert_exporter": "python",
   "pygments_lexer": "ipython3",
   "version": "3.11.9"
  }
 },
 "nbformat": 4,
 "nbformat_minor": 2
}
