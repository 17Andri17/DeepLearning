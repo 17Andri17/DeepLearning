{
 "cells": [
  {
   "cell_type": "code",
   "execution_count": 1,
   "metadata": {},
   "outputs": [],
   "source": [
    "import matplotlib.pyplot as plt\n",
    "import numpy as np\n",
    "import torch\n",
    "import torch.nn as nn\n",
    "import torch.optim as optim\n",
    "import torchvision\n",
    "import torchvision.transforms as transforms\n",
    "from scipy.stats import mode\n",
    "from torch.utils.data import DataLoader\n",
    "from torchvision import models\n",
    "from tqdm import tqdm"
   ]
  },
  {
   "cell_type": "code",
   "execution_count": 2,
   "metadata": {},
   "outputs": [],
   "source": [
    "cinic_directory = 'C:/Users/Dell/.cache/kagglehub/datasets/mengcius/cinic10/versions/1'\n",
    "cinic_mean = [0.47889522, 0.47227842, 0.43047404]\n",
    "cinic_std = [0.24205776, 0.23828046, 0.25874835]\n",
    "\n",
    "transform_augment = transforms.Compose([\n",
    "    transforms.RandomCrop(32, padding=4),\n",
    "    transforms.RandomHorizontalFlip(),\n",
    "    transforms.RandomRotation(15),\n",
    "    transforms.ColorJitter(brightness=0.2, contrast=0.2),\n",
    "    transforms.ToTensor(),\n",
    "    transforms.Normalize(mean=cinic_mean, std=cinic_std)\n",
    "])\n",
    "\n",
    "transform_augment_advanced = transforms.Compose([\n",
    "    transforms.RandomCrop(32, padding=4),\n",
    "    transforms.RandomHorizontalFlip(),\n",
    "    transforms.RandomRotation(15),\n",
    "    transforms.ColorJitter(brightness=0.2, contrast=0.2),\n",
    "    transforms.ToTensor(),\n",
    "    transforms.Normalize(mean=cinic_mean, std=cinic_std),\n",
    "    transforms.RandomErasing(p=0.5, scale=(0.02, 0.2), ratio=(0.3, 3.3), value=0)\n",
    "])\n",
    "\n",
    "transform_crop = transforms.Compose([\n",
    "    transforms.RandomCrop(32, padding=4),\n",
    "    transforms.ToTensor(),\n",
    "    transforms.Normalize(mean=cinic_mean, std=cinic_std)\n",
    "])\n",
    "\n",
    "transform_flip = transforms.Compose([\n",
    "    transforms.RandomHorizontalFlip(),\n",
    "    transforms.ToTensor(),\n",
    "    transforms.Normalize(mean=cinic_mean, std=cinic_std)\n",
    "])\n",
    "\n",
    "transform_rotation = transforms.Compose([\n",
    "    transforms.RandomRotation(15),\n",
    "    transforms.ToTensor(),\n",
    "    transforms.Normalize(mean=cinic_mean, std=cinic_std)\n",
    "])\n",
    "\n",
    "transform_colorJitter = transforms.Compose([\n",
    "    transforms.ColorJitter(brightness=0.2, contrast=0.2),\n",
    "    transforms.ToTensor(),\n",
    "    transforms.Normalize(mean=cinic_mean, std=cinic_std)\n",
    "])\n",
    "\n",
    "transform = transforms.Compose([\n",
    "    transforms.ToTensor(),\n",
    "    transforms.Normalize(mean=cinic_mean, std=cinic_std)\n",
    "])\n",
    "\n",
    "transform_cutOut = transforms.Compose([\n",
    "    transforms.ToTensor(),\n",
    "    transforms.Normalize(mean=cinic_mean, std=cinic_std),\n",
    "    transforms.RandomErasing(p=0.5, scale=(0.02, 0.2), ratio=(0.3, 3.3), value=0)\n",
    "])\n",
    "\n",
    "cinic_train = DataLoader(\n",
    "    torchvision.datasets.ImageFolder(cinic_directory + '/train', transform=transform),\n",
    "    batch_size=128, shuffle=True)\n",
    "cinic_valid = DataLoader(\n",
    "    torchvision.datasets.ImageFolder(cinic_directory + '/valid', transform=transform),\n",
    "    batch_size=128, shuffle=False)\n",
    "\n",
    "cinic_train_augment = DataLoader(\n",
    "    torchvision.datasets.ImageFolder(cinic_directory + '/train', transform=transform_augment),\n",
    "    batch_size=128, shuffle=True)\n",
    "cinic_train_crop = DataLoader(\n",
    "    torchvision.datasets.ImageFolder(cinic_directory + '/train', transform=transform_crop),\n",
    "    batch_size=128, shuffle=True)\n",
    "cinic_train_flip = DataLoader(\n",
    "    torchvision.datasets.ImageFolder(cinic_directory + '/train', transform=transform_flip),\n",
    "    batch_size=128, shuffle=True)\n",
    "cinic_train_rotation = DataLoader(\n",
    "    torchvision.datasets.ImageFolder(cinic_directory + '/train', transform=transform_rotation),\n",
    "    batch_size=128, shuffle=True)\n",
    "cinic_train_colorJitter = DataLoader(\n",
    "    torchvision.datasets.ImageFolder(cinic_directory + '/train', transform=transform_colorJitter),\n",
    "    batch_size=128, shuffle=True)\n",
    "cinic_train_augment_advanced = DataLoader(\n",
    "    torchvision.datasets.ImageFolder(cinic_directory + '/train', transform=transform_augment_advanced),\n",
    "    batch_size=128, shuffle=True)\n",
    "cinic_train_cutOut = DataLoader(\n",
    "    torchvision.datasets.ImageFolder(cinic_directory + '/train', transform=transform_cutOut),\n",
    "    batch_size=128, shuffle=True)"
   ]
  },
  {
   "cell_type": "code",
   "execution_count": 3,
   "metadata": {},
   "outputs": [
    {
     "name": "stdout",
     "output_type": "stream",
     "text": [
      "torch.Size([3, 32, 32])\n"
     ]
    },
    {
     "data": {
      "image/png": "[encoded data removed]",
      "text/plain": [
       "<Figure size 50x50 with 1 Axes>"
      ]
     },
     "metadata": {},
     "output_type": "display_data"
    },
    {
     "name": "stdout",
     "output_type": "stream",
     "text": [
      "Etykieta: 8\n"
     ]
    }
   ],
   "source": [
    "cinic_mean_tensor = torch.tensor(cinic_mean).view(3, 1, 1)\n",
    "cinic_std_tensor = torch.tensor(cinic_std).view(3, 1, 1)\n",
    "\n",
    "\n",
    "def imshow(img):\n",
    "    print(img.size())\n",
    "    img = img * cinic_std_tensor + cinic_mean_tensor  # Odwracamy normalizację\n",
    "    npimg = img.numpy()\n",
    "    plt.figure(figsize=(0.5, 0.5))\n",
    "    plt.imshow(np.transpose(npimg, (1, 2, 0)))\n",
    "    plt.show()\n",
    "\n",
    "\n",
    "data_iter = iter(cinic_train)\n",
    "images, labels = next(data_iter)\n",
    "\n",
    "imshow(images[0])\n",
    "print(\"Etykieta:\", labels[0].item())"
   ]
  },
  {
   "cell_type": "code",
   "execution_count": 4,
   "metadata": {},
   "outputs": [],
   "source": [
    "def train(model, device, cinic_train, num_epochs=10):\n",
    "    criterion = nn.CrossEntropyLoss()\n",
    "    optimizer = optim.Adam(model.parameters(), lr=0.0001, weight_decay=0.001)\n",
    "\n",
    "    for epoch in range(num_epochs):\n",
    "        model.train()\n",
    "        running_loss = 0.0\n",
    "        correct = 0\n",
    "        total = 0\n",
    "\n",
    "        train_loader_tqdm = tqdm(cinic_train, desc=f\"Epoka {epoch + 1}/{num_epochs}\")\n",
    "\n",
    "        for images, labels in train_loader_tqdm:\n",
    "            images, labels = images.to(device), labels.to(device)\n",
    "\n",
    "            optimizer.zero_grad()\n",
    "            outputs = model(images)\n",
    "            loss = criterion(outputs, labels)\n",
    "            loss.backward()\n",
    "            optimizer.step()\n",
    "\n",
    "            running_loss += loss.item()\n",
    "\n",
    "            _, predicted = torch.max(outputs, 1)\n",
    "            total += labels.size(0)\n",
    "            correct += (predicted == labels).sum().item()\n",
    "\n",
    "            train_loader_tqdm.set_postfix(loss=loss.item())\n",
    "\n",
    "        avg_loss = running_loss / len(cinic_train)\n",
    "        accuracy = 100 * correct / total\n",
    "        print(f\"Epoka [{epoch + 1}/{num_epochs}], Strata: {avg_loss:.4f}, Dokładność: {accuracy:.2f}%\")\n",
    "\n",
    "    print(\"Trenowanie zakończone!\")"
   ]
  },
  {
   "cell_type": "code",
   "execution_count": 5,
   "metadata": {},
   "outputs": [],
   "source": [
    "def test(model, device, cinic_valid):\n",
    "    model.eval()\n",
    "    correct = 0\n",
    "    total = 0\n",
    "\n",
    "    with torch.no_grad():\n",
    "        for images, labels in cinic_valid:\n",
    "            images, labels = images.to(device), labels.to(device)\n",
    "            outputs = model(images)\n",
    "            _, predicted = torch.max(outputs, 1)\n",
    "            total += labels.size(0)\n",
    "            correct += (predicted == labels).sum().item()\n",
    "\n",
    "    print(f\"Dokładność na zbiorze walidacyjnym: {100 * correct / total:.2f}%\")"
   ]
  },
  {
   "cell_type": "markdown",
   "metadata": {},
   "source": [
    "### Simple Fully Connected NN"
   ]
  },
  {
   "cell_type": "code",
   "execution_count": 24,
   "metadata": {},
   "outputs": [],
   "source": [
    "class SimpleNN(nn.Module):\n",
    "    def __init__(self):\n",
    "        super(SimpleNN, self).__init__()\n",
    "        self.layers = nn.Sequential(\n",
    "            nn.Flatten(),\n",
    "            nn.Linear(3 * 32 * 32, 1024),\n",
    "            nn.ReLU(),\n",
    "            nn.Dropout(0.5),\n",
    "            nn.Linear(1024, 512),\n",
    "            nn.ReLU(),\n",
    "            nn.Dropout(0.5),\n",
    "            nn.Linear(512, 10)\n",
    "        )\n",
    "\n",
    "    def forward(self, x):\n",
    "        return self.layers(x)"
   ]
  },
  {
   "cell_type": "code",
   "execution_count": 25,
   "metadata": {},
   "outputs": [
    {
     "name": "stderr",
     "output_type": "stream",
     "text": [
      "Epoka 1/10: 100%|██████████| 704/704 [00:57<00:00, 12.30it/s, loss=1.73]\n"
     ]
    },
    {
     "name": "stdout",
     "output_type": "stream",
     "text": [
      "Epoka [1/10], Strata: 1.9092, Dokładność: 30.61%\n"
     ]
    },
    {
     "name": "stderr",
     "output_type": "stream",
     "text": [
      "Epoka 2/10: 100%|██████████| 704/704 [00:56<00:00, 12.48it/s, loss=1.57]\n"
     ]
    },
    {
     "name": "stdout",
     "output_type": "stream",
     "text": [
      "Epoka [2/10], Strata: 1.7786, Dokładność: 35.73%\n"
     ]
    },
    {
     "name": "stderr",
     "output_type": "stream",
     "text": [
      "Epoka 3/10: 100%|██████████| 704/704 [01:05<00:00, 10.70it/s, loss=1.86]\n"
     ]
    },
    {
     "name": "stdout",
     "output_type": "stream",
     "text": [
      "Epoka [3/10], Strata: 1.7245, Dokładność: 37.84%\n"
     ]
    },
    {
     "name": "stderr",
     "output_type": "stream",
     "text": [
      "Epoka 4/10: 100%|██████████| 704/704 [00:57<00:00, 12.22it/s, loss=1.46]\n"
     ]
    },
    {
     "name": "stdout",
     "output_type": "stream",
     "text": [
      "Epoka [4/10], Strata: 1.6868, Dokładność: 39.45%\n"
     ]
    },
    {
     "name": "stderr",
     "output_type": "stream",
     "text": [
      "Epoka 5/10: 100%|██████████| 704/704 [00:44<00:00, 15.78it/s, loss=1.69]\n"
     ]
    },
    {
     "name": "stdout",
     "output_type": "stream",
     "text": [
      "Epoka [5/10], Strata: 1.6590, Dokładność: 40.52%\n"
     ]
    },
    {
     "name": "stderr",
     "output_type": "stream",
     "text": [
      "Epoka 6/10: 100%|██████████| 704/704 [00:45<00:00, 15.52it/s, loss=1.4] \n"
     ]
    },
    {
     "name": "stdout",
     "output_type": "stream",
     "text": [
      "Epoka [6/10], Strata: 1.6361, Dokładność: 41.28%\n"
     ]
    },
    {
     "name": "stderr",
     "output_type": "stream",
     "text": [
      "Epoka 7/10: 100%|██████████| 704/704 [00:46<00:00, 15.04it/s, loss=1.49]\n"
     ]
    },
    {
     "name": "stdout",
     "output_type": "stream",
     "text": [
      "Epoka [7/10], Strata: 1.6136, Dokładność: 42.12%\n"
     ]
    },
    {
     "name": "stderr",
     "output_type": "stream",
     "text": [
      "Epoka 8/10: 100%|██████████| 704/704 [00:43<00:00, 16.15it/s, loss=1.46]\n"
     ]
    },
    {
     "name": "stdout",
     "output_type": "stream",
     "text": [
      "Epoka [8/10], Strata: 1.5950, Dokładność: 42.90%\n"
     ]
    },
    {
     "name": "stderr",
     "output_type": "stream",
     "text": [
      "Epoka 9/10: 100%|██████████| 704/704 [00:44<00:00, 15.96it/s, loss=1.33]\n"
     ]
    },
    {
     "name": "stdout",
     "output_type": "stream",
     "text": [
      "Epoka [9/10], Strata: 1.5782, Dokładność: 43.63%\n"
     ]
    },
    {
     "name": "stderr",
     "output_type": "stream",
     "text": [
      "Epoka 10/10: 100%|██████████| 704/704 [00:43<00:00, 16.11it/s, loss=1.47]\n"
     ]
    },
    {
     "name": "stdout",
     "output_type": "stream",
     "text": [
      "Epoka [10/10], Strata: 1.5657, Dokładność: 44.16%\n",
      "Trenowanie zakończone!\n"
     ]
    },
    {
     "name": "stderr",
     "output_type": "stream",
     "text": [
      "Epoka 1/10: 100%|██████████| 704/704 [00:51<00:00, 13.69it/s, loss=1.82]\n"
     ]
    },
    {
     "name": "stdout",
     "output_type": "stream",
     "text": [
      "Epoka [1/10], Strata: 1.9984, Dokładność: 26.20%\n"
     ]
    },
    {
     "name": "stderr",
     "output_type": "stream",
     "text": [
      "Epoka 2/10: 100%|██████████| 704/704 [00:52<00:00, 13.33it/s, loss=1.71]\n"
     ]
    },
    {
     "name": "stdout",
     "output_type": "stream",
     "text": [
      "Epoka [2/10], Strata: 1.8888, Dokładność: 30.82%\n"
     ]
    },
    {
     "name": "stderr",
     "output_type": "stream",
     "text": [
      "Epoka 3/10: 100%|██████████| 704/704 [00:50<00:00, 13.88it/s, loss=1.97]\n"
     ]
    },
    {
     "name": "stdout",
     "output_type": "stream",
     "text": [
      "Epoka [3/10], Strata: 1.8456, Dokładność: 32.62%\n"
     ]
    },
    {
     "name": "stderr",
     "output_type": "stream",
     "text": [
      "Epoka 4/10: 100%|██████████| 704/704 [00:51<00:00, 13.63it/s, loss=2.38]\n"
     ]
    },
    {
     "name": "stdout",
     "output_type": "stream",
     "text": [
      "Epoka [4/10], Strata: 1.8148, Dokładność: 33.94%\n"
     ]
    },
    {
     "name": "stderr",
     "output_type": "stream",
     "text": [
      "Epoka 5/10: 100%|██████████| 704/704 [00:53<00:00, 13.27it/s, loss=1.9] \n"
     ]
    },
    {
     "name": "stdout",
     "output_type": "stream",
     "text": [
      "Epoka [5/10], Strata: 1.7894, Dokładność: 34.91%\n"
     ]
    },
    {
     "name": "stderr",
     "output_type": "stream",
     "text": [
      "Epoka 6/10: 100%|██████████| 704/704 [01:27<00:00,  8.04it/s, loss=2.07]\n"
     ]
    },
    {
     "name": "stdout",
     "output_type": "stream",
     "text": [
      "Epoka [6/10], Strata: 1.7740, Dokładność: 35.53%\n"
     ]
    },
    {
     "name": "stderr",
     "output_type": "stream",
     "text": [
      "Epoka 7/10: 100%|██████████| 704/704 [01:33<00:00,  7.56it/s, loss=2.03]\n"
     ]
    },
    {
     "name": "stdout",
     "output_type": "stream",
     "text": [
      "Epoka [7/10], Strata: 1.7570, Dokładność: 36.07%\n"
     ]
    },
    {
     "name": "stderr",
     "output_type": "stream",
     "text": [
      "Epoka 8/10: 100%|██████████| 704/704 [01:25<00:00,  8.28it/s, loss=1.62]\n"
     ]
    },
    {
     "name": "stdout",
     "output_type": "stream",
     "text": [
      "Epoka [8/10], Strata: 1.7469, Dokładność: 36.40%\n"
     ]
    },
    {
     "name": "stderr",
     "output_type": "stream",
     "text": [
      "Epoka 9/10: 100%|██████████| 704/704 [00:51<00:00, 13.60it/s, loss=1.83]\n"
     ]
    },
    {
     "name": "stdout",
     "output_type": "stream",
     "text": [
      "Epoka [9/10], Strata: 1.7364, Dokładność: 36.85%\n"
     ]
    },
    {
     "name": "stderr",
     "output_type": "stream",
     "text": [
      "Epoka 10/10: 100%|██████████| 704/704 [00:51<00:00, 13.59it/s, loss=1.46]\n"
     ]
    },
    {
     "name": "stdout",
     "output_type": "stream",
     "text": [
      "Epoka [10/10], Strata: 1.7293, Dokładność: 37.04%\n",
      "Trenowanie zakończone!\n"
     ]
    },
    {
     "name": "stderr",
     "output_type": "stream",
     "text": [
      "Epoka 1/10: 100%|██████████| 704/704 [00:48<00:00, 14.41it/s, loss=1.59]\n"
     ]
    },
    {
     "name": "stdout",
     "output_type": "stream",
     "text": [
      "Epoka [1/10], Strata: 1.9077, Dokładność: 30.81%\n"
     ]
    },
    {
     "name": "stderr",
     "output_type": "stream",
     "text": [
      "Epoka 2/10: 100%|██████████| 704/704 [01:19<00:00,  8.87it/s, loss=1.78]\n"
     ]
    },
    {
     "name": "stdout",
     "output_type": "stream",
     "text": [
      "Epoka [2/10], Strata: 1.7861, Dokładność: 35.40%\n"
     ]
    },
    {
     "name": "stderr",
     "output_type": "stream",
     "text": [
      "Epoka 3/10: 100%|██████████| 704/704 [01:20<00:00,  8.69it/s, loss=1.28]\n"
     ]
    },
    {
     "name": "stdout",
     "output_type": "stream",
     "text": [
      "Epoka [3/10], Strata: 1.7344, Dokładność: 37.57%\n"
     ]
    },
    {
     "name": "stderr",
     "output_type": "stream",
     "text": [
      "Epoka 4/10: 100%|██████████| 704/704 [01:27<00:00,  8.03it/s, loss=2.04]\n"
     ]
    },
    {
     "name": "stdout",
     "output_type": "stream",
     "text": [
      "Epoka [4/10], Strata: 1.7032, Dokładność: 38.73%\n"
     ]
    },
    {
     "name": "stderr",
     "output_type": "stream",
     "text": [
      "Epoka 5/10: 100%|██████████| 704/704 [01:30<00:00,  7.81it/s, loss=1.43]\n"
     ]
    },
    {
     "name": "stdout",
     "output_type": "stream",
     "text": [
      "Epoka [5/10], Strata: 1.6772, Dokładność: 39.77%\n"
     ]
    },
    {
     "name": "stderr",
     "output_type": "stream",
     "text": [
      "Epoka 6/10: 100%|██████████| 704/704 [01:24<00:00,  8.29it/s, loss=1.71]\n"
     ]
    },
    {
     "name": "stdout",
     "output_type": "stream",
     "text": [
      "Epoka [6/10], Strata: 1.6574, Dokładność: 40.67%\n"
     ]
    },
    {
     "name": "stderr",
     "output_type": "stream",
     "text": [
      "Epoka 7/10: 100%|██████████| 704/704 [00:46<00:00, 15.16it/s, loss=1.66]\n"
     ]
    },
    {
     "name": "stdout",
     "output_type": "stream",
     "text": [
      "Epoka [7/10], Strata: 1.6391, Dokładność: 41.24%\n"
     ]
    },
    {
     "name": "stderr",
     "output_type": "stream",
     "text": [
      "Epoka 8/10: 100%|██████████| 704/704 [00:47<00:00, 14.75it/s, loss=1.44]\n"
     ]
    },
    {
     "name": "stdout",
     "output_type": "stream",
     "text": [
      "Epoka [8/10], Strata: 1.6249, Dokładność: 41.74%\n"
     ]
    },
    {
     "name": "stderr",
     "output_type": "stream",
     "text": [
      "Epoka 9/10: 100%|██████████| 704/704 [00:47<00:00, 14.67it/s, loss=2.44]\n"
     ]
    },
    {
     "name": "stdout",
     "output_type": "stream",
     "text": [
      "Epoka [9/10], Strata: 1.6136, Dokładność: 42.20%\n"
     ]
    },
    {
     "name": "stderr",
     "output_type": "stream",
     "text": [
      "Epoka 10/10: 100%|██████████| 704/704 [00:47<00:00, 14.97it/s, loss=1.43]\n"
     ]
    },
    {
     "name": "stdout",
     "output_type": "stream",
     "text": [
      "Epoka [10/10], Strata: 1.5987, Dokładność: 42.76%\n",
      "Trenowanie zakończone!\n"
     ]
    },
    {
     "name": "stderr",
     "output_type": "stream",
     "text": [
      "Epoka 1/10: 100%|██████████| 704/704 [00:51<00:00, 13.70it/s, loss=1.84]\n"
     ]
    },
    {
     "name": "stdout",
     "output_type": "stream",
     "text": [
      "Epoka [1/10], Strata: 1.9265, Dokładność: 29.62%\n"
     ]
    },
    {
     "name": "stderr",
     "output_type": "stream",
     "text": [
      "Epoka 2/10: 100%|██████████| 704/704 [00:56<00:00, 12.42it/s, loss=1.83]\n"
     ]
    },
    {
     "name": "stdout",
     "output_type": "stream",
     "text": [
      "Epoka [2/10], Strata: 1.8052, Dokładność: 34.74%\n"
     ]
    },
    {
     "name": "stderr",
     "output_type": "stream",
     "text": [
      "Epoka 3/10: 100%|██████████| 704/704 [00:55<00:00, 12.59it/s, loss=1.48]\n"
     ]
    },
    {
     "name": "stdout",
     "output_type": "stream",
     "text": [
      "Epoka [3/10], Strata: 1.7563, Dokładność: 36.66%\n"
     ]
    },
    {
     "name": "stderr",
     "output_type": "stream",
     "text": [
      "Epoka 4/10: 100%|██████████| 704/704 [00:49<00:00, 14.21it/s, loss=1.92]\n"
     ]
    },
    {
     "name": "stdout",
     "output_type": "stream",
     "text": [
      "Epoka [4/10], Strata: 1.7240, Dokładność: 37.90%\n"
     ]
    },
    {
     "name": "stderr",
     "output_type": "stream",
     "text": [
      "Epoka 5/10: 100%|██████████| 704/704 [00:48<00:00, 14.38it/s, loss=1.94]\n"
     ]
    },
    {
     "name": "stdout",
     "output_type": "stream",
     "text": [
      "Epoka [5/10], Strata: 1.6996, Dokładność: 38.77%\n"
     ]
    },
    {
     "name": "stderr",
     "output_type": "stream",
     "text": [
      "Epoka 6/10: 100%|██████████| 704/704 [00:50<00:00, 14.02it/s, loss=1.54]\n"
     ]
    },
    {
     "name": "stdout",
     "output_type": "stream",
     "text": [
      "Epoka [6/10], Strata: 1.6802, Dokładność: 39.54%\n"
     ]
    },
    {
     "name": "stderr",
     "output_type": "stream",
     "text": [
      "Epoka 7/10: 100%|██████████| 704/704 [00:49<00:00, 14.10it/s, loss=1.57]\n"
     ]
    },
    {
     "name": "stdout",
     "output_type": "stream",
     "text": [
      "Epoka [7/10], Strata: 1.6634, Dokładność: 40.24%\n"
     ]
    },
    {
     "name": "stderr",
     "output_type": "stream",
     "text": [
      "Epoka 8/10: 100%|██████████| 704/704 [00:51<00:00, 13.68it/s, loss=1.67]\n"
     ]
    },
    {
     "name": "stdout",
     "output_type": "stream",
     "text": [
      "Epoka [8/10], Strata: 1.6473, Dokładność: 40.54%\n"
     ]
    },
    {
     "name": "stderr",
     "output_type": "stream",
     "text": [
      "Epoka 9/10: 100%|██████████| 704/704 [00:50<00:00, 14.00it/s, loss=1.51]\n"
     ]
    },
    {
     "name": "stdout",
     "output_type": "stream",
     "text": [
      "Epoka [9/10], Strata: 1.6371, Dokładność: 40.95%\n"
     ]
    },
    {
     "name": "stderr",
     "output_type": "stream",
     "text": [
      "Epoka 10/10: 100%|██████████| 704/704 [00:49<00:00, 14.20it/s, loss=1.57]\n"
     ]
    },
    {
     "name": "stdout",
     "output_type": "stream",
     "text": [
      "Epoka [10/10], Strata: 1.6252, Dokładność: 41.34%\n",
      "Trenowanie zakończone!\n"
     ]
    },
    {
     "name": "stderr",
     "output_type": "stream",
     "text": [
      "Epoka 1/10: 100%|██████████| 704/704 [01:01<00:00, 11.43it/s, loss=1.89]\n"
     ]
    },
    {
     "name": "stdout",
     "output_type": "stream",
     "text": [
      "Epoka [1/10], Strata: 1.9209, Dokładność: 30.36%\n"
     ]
    },
    {
     "name": "stderr",
     "output_type": "stream",
     "text": [
      "Epoka 2/10: 100%|██████████| 704/704 [01:04<00:00, 10.97it/s, loss=1.5] \n"
     ]
    },
    {
     "name": "stdout",
     "output_type": "stream",
     "text": [
      "Epoka [2/10], Strata: 1.7938, Dokładność: 35.26%\n"
     ]
    },
    {
     "name": "stderr",
     "output_type": "stream",
     "text": [
      "Epoka 3/10: 100%|██████████| 704/704 [01:02<00:00, 11.26it/s, loss=1.71]\n"
     ]
    },
    {
     "name": "stdout",
     "output_type": "stream",
     "text": [
      "Epoka [3/10], Strata: 1.7407, Dokładność: 37.38%\n"
     ]
    },
    {
     "name": "stderr",
     "output_type": "stream",
     "text": [
      "Epoka 4/10: 100%|██████████| 704/704 [01:03<00:00, 11.16it/s, loss=2.28]\n"
     ]
    },
    {
     "name": "stdout",
     "output_type": "stream",
     "text": [
      "Epoka [4/10], Strata: 1.7024, Dokładność: 38.78%\n"
     ]
    },
    {
     "name": "stderr",
     "output_type": "stream",
     "text": [
      "Epoka 5/10: 100%|██████████| 704/704 [01:05<00:00, 10.70it/s, loss=1.74]\n"
     ]
    },
    {
     "name": "stdout",
     "output_type": "stream",
     "text": [
      "Epoka [5/10], Strata: 1.6757, Dokładność: 39.99%\n"
     ]
    },
    {
     "name": "stderr",
     "output_type": "stream",
     "text": [
      "Epoka 6/10: 100%|██████████| 704/704 [01:04<00:00, 10.94it/s, loss=1.73]\n"
     ]
    },
    {
     "name": "stdout",
     "output_type": "stream",
     "text": [
      "Epoka [6/10], Strata: 1.6520, Dokładność: 40.86%\n"
     ]
    },
    {
     "name": "stderr",
     "output_type": "stream",
     "text": [
      "Epoka 7/10: 100%|██████████| 704/704 [01:02<00:00, 11.33it/s, loss=1.71]\n"
     ]
    },
    {
     "name": "stdout",
     "output_type": "stream",
     "text": [
      "Epoka [7/10], Strata: 1.6341, Dokładność: 41.46%\n"
     ]
    },
    {
     "name": "stderr",
     "output_type": "stream",
     "text": [
      "Epoka 8/10: 100%|██████████| 704/704 [01:03<00:00, 11.09it/s, loss=2.05]\n"
     ]
    },
    {
     "name": "stdout",
     "output_type": "stream",
     "text": [
      "Epoka [8/10], Strata: 1.6146, Dokładność: 42.36%\n"
     ]
    },
    {
     "name": "stderr",
     "output_type": "stream",
     "text": [
      "Epoka 9/10: 100%|██████████| 704/704 [01:00<00:00, 11.72it/s, loss=1.68]\n"
     ]
    },
    {
     "name": "stdout",
     "output_type": "stream",
     "text": [
      "Epoka [9/10], Strata: 1.5994, Dokładność: 42.80%\n"
     ]
    },
    {
     "name": "stderr",
     "output_type": "stream",
     "text": [
      "Epoka 10/10: 100%|██████████| 704/704 [01:00<00:00, 11.70it/s, loss=1.4] \n"
     ]
    },
    {
     "name": "stdout",
     "output_type": "stream",
     "text": [
      "Epoka [10/10], Strata: 1.5816, Dokładność: 43.49%\n",
      "Trenowanie zakończone!\n"
     ]
    },
    {
     "name": "stderr",
     "output_type": "stream",
     "text": [
      "Epoka 1/10: 100%|██████████| 704/704 [01:14<00:00,  9.49it/s, loss=1.63]\n"
     ]
    },
    {
     "name": "stdout",
     "output_type": "stream",
     "text": [
      "Epoka [1/10], Strata: 2.0177, Dokładność: 25.37%\n"
     ]
    },
    {
     "name": "stderr",
     "output_type": "stream",
     "text": [
      "Epoka 2/10: 100%|██████████| 704/704 [01:13<00:00,  9.51it/s, loss=2.18]\n"
     ]
    },
    {
     "name": "stdout",
     "output_type": "stream",
     "text": [
      "Epoka [2/10], Strata: 1.9179, Dokładność: 29.86%\n"
     ]
    },
    {
     "name": "stderr",
     "output_type": "stream",
     "text": [
      "Epoka 3/10: 100%|██████████| 704/704 [01:13<00:00,  9.58it/s, loss=1.99]\n"
     ]
    },
    {
     "name": "stdout",
     "output_type": "stream",
     "text": [
      "Epoka [3/10], Strata: 1.8751, Dokładność: 31.42%\n"
     ]
    },
    {
     "name": "stderr",
     "output_type": "stream",
     "text": [
      "Epoka 4/10: 100%|██████████| 704/704 [01:13<00:00,  9.62it/s, loss=1.85]\n"
     ]
    },
    {
     "name": "stdout",
     "output_type": "stream",
     "text": [
      "Epoka [4/10], Strata: 1.8470, Dokładność: 32.65%\n"
     ]
    },
    {
     "name": "stderr",
     "output_type": "stream",
     "text": [
      "Epoka 5/10: 100%|██████████| 704/704 [01:13<00:00,  9.63it/s, loss=1.61]\n"
     ]
    },
    {
     "name": "stdout",
     "output_type": "stream",
     "text": [
      "Epoka [5/10], Strata: 1.8246, Dokładność: 33.36%\n"
     ]
    },
    {
     "name": "stderr",
     "output_type": "stream",
     "text": [
      "Epoka 6/10: 100%|██████████| 704/704 [02:18<00:00,  5.08it/s, loss=1.86]\n"
     ]
    },
    {
     "name": "stdout",
     "output_type": "stream",
     "text": [
      "Epoka [6/10], Strata: 1.8092, Dokładność: 34.38%\n"
     ]
    },
    {
     "name": "stderr",
     "output_type": "stream",
     "text": [
      "Epoka 7/10: 100%|██████████| 704/704 [02:25<00:00,  4.84it/s, loss=1.93]\n"
     ]
    },
    {
     "name": "stdout",
     "output_type": "stream",
     "text": [
      "Epoka [7/10], Strata: 1.7976, Dokładność: 34.50%\n"
     ]
    },
    {
     "name": "stderr",
     "output_type": "stream",
     "text": [
      "Epoka 8/10: 100%|██████████| 704/704 [01:59<00:00,  5.87it/s, loss=2.23]\n"
     ]
    },
    {
     "name": "stdout",
     "output_type": "stream",
     "text": [
      "Epoka [8/10], Strata: 1.7824, Dokładność: 35.13%\n"
     ]
    },
    {
     "name": "stderr",
     "output_type": "stream",
     "text": [
      "Epoka 9/10: 100%|██████████| 704/704 [01:16<00:00,  9.18it/s, loss=1.96]\n"
     ]
    },
    {
     "name": "stdout",
     "output_type": "stream",
     "text": [
      "Epoka [9/10], Strata: 1.7748, Dokładność: 35.59%\n"
     ]
    },
    {
     "name": "stderr",
     "output_type": "stream",
     "text": [
      "Epoka 10/10: 100%|██████████| 704/704 [01:15<00:00,  9.35it/s, loss=1.39]"
     ]
    },
    {
     "name": "stdout",
     "output_type": "stream",
     "text": [
      "Epoka [10/10], Strata: 1.7659, Dokładność: 35.70%\n",
      "Trenowanie zakończone!\n"
     ]
    },
    {
     "name": "stderr",
     "output_type": "stream",
     "text": [
      "\n"
     ]
    }
   ],
   "source": [
    "device = torch.device(\"cuda\" if torch.cuda.is_available() else \"cpu\")\n",
    "model = SimpleNN().to(device)\n",
    "model_crop = SimpleNN().to(device)\n",
    "model_flip = SimpleNN().to(device)\n",
    "model_rotate = SimpleNN().to(device)\n",
    "model_colorJitter = SimpleNN().to(device)\n",
    "model_augmentation = SimpleNN().to(device)\n",
    "train(model, device, cinic_train)\n",
    "train(model_crop, device, cinic_train_crop)\n",
    "train(model_flip, device, cinic_train_flip)\n",
    "train(model_rotate, device, cinic_train_rotation)\n",
    "train(model_colorJitter, device, cinic_train_colorJitter)\n",
    "train(model_augmentation, device, cinic_train_augment)\n"
   ]
  },
  {
   "cell_type": "code",
   "execution_count": 27,
   "metadata": {},
   "outputs": [
    {
     "name": "stdout",
     "output_type": "stream",
     "text": [
      "Dokładność na zbiorze walidacyjnym: 43.99%\n",
      "Dokładność na zbiorze walidacyjnym: 39.18%\n",
      "Dokładność na zbiorze walidacyjnym: 43.90%\n",
      "Dokładność na zbiorze walidacyjnym: 42.42%\n",
      "Dokładność na zbiorze walidacyjnym: 43.79%\n",
      "Dokładność na zbiorze walidacyjnym: 35.98%\n"
     ]
    }
   ],
   "source": [
    "test(model, device, cinic_valid)\n",
    "test(model_crop, device, cinic_valid)\n",
    "test(model_flip, device, cinic_valid)\n",
    "test(model_rotate, device, cinic_valid)\n",
    "test(model_colorJitter, device, cinic_valid)\n",
    "test(model_augmentation, device, cinic_valid)"
   ]
  },
  {
   "cell_type": "code",
   "execution_count": 28,
   "metadata": {},
   "outputs": [],
   "source": [
    "torch.save(model, \"base.pth\")\n",
    "torch.save(model_crop, \"base_crop.pth\")\n",
    "torch.save(model_flip, \"base_flip.pth\")\n",
    "torch.save(model_rotate, \"base_rotate.pth\")\n",
    "torch.save(model_colorJitter, \"base_colorJitter.pth\")\n",
    "torch.save(model_augmentation, \"base_augmented.pth\")"
   ]
  },
  {
   "cell_type": "markdown",
   "metadata": {},
   "source": [
    "### Simple CNN"
   ]
  },
  {
   "cell_type": "code",
   "execution_count": null,
   "metadata": {},
   "outputs": [],
   "source": [
    "class CNN(nn.Module):\n",
    "    def __init__(self):\n",
    "        super(CNN, self).__init__()\n",
    "\n",
    "        self.conv_layers = nn.Sequential(\n",
    "            nn.Conv2d(3, 32, kernel_size=3, stride=1, padding=1),\n",
    "            nn.ReLU(),\n",
    "            nn.MaxPool2d(kernel_size=2, stride=2),\n",
    "\n",
    "            nn.Conv2d(32, 64, kernel_size=3, stride=1, padding=1),\n",
    "            nn.ReLU(),\n",
    "            nn.MaxPool2d(kernel_size=2, stride=2)\n",
    "        )\n",
    "\n",
    "        self.fc_layers = nn.Sequential(\n",
    "            nn.Flatten(),\n",
    "            nn.Linear(64 * 8 * 8, 256),\n",
    "            nn.ReLU(),\n",
    "            nn.Linear(256, 10)\n",
    "        )\n",
    "\n",
    "    def forward(self, x):\n",
    "        x = self.conv_layers(x)\n",
    "        x = self.fc_layers(x)\n",
    "        return x"
   ]
  },
  {
   "cell_type": "markdown",
   "metadata": {},
   "source": [
    "### VGG Style CNN"
   ]
  },
  {
   "cell_type": "code",
   "execution_count": null,
   "metadata": {},
   "outputs": [],
   "source": [
    "class VGGStyleCNN(nn.Module):\n",
    "    def __init__(self):\n",
    "        super(VGGStyleCNN, self).__init__()\n",
    "\n",
    "        self.conv_layers = nn.Sequential(\n",
    "            # Block 1\n",
    "            nn.Conv2d(3, 64, kernel_size=3, stride=1, padding=1),\n",
    "            nn.ReLU(),\n",
    "            nn.BatchNorm2d(64),\n",
    "            nn.Conv2d(64, 64, kernel_size=3, stride=1, padding=1),\n",
    "            nn.ReLU(),\n",
    "            nn.BatchNorm2d(64),\n",
    "            nn.MaxPool2d(kernel_size=2, stride=2),\n",
    "\n",
    "            # Block 2\n",
    "            nn.Conv2d(64, 128, kernel_size=3, stride=1, padding=1),\n",
    "            nn.ReLU(),\n",
    "            nn.BatchNorm2d(128),\n",
    "            nn.Conv2d(128, 128, kernel_size=3, stride=1, padding=1),\n",
    "            nn.ReLU(),\n",
    "            nn.BatchNorm2d(128),\n",
    "            nn.MaxPool2d(kernel_size=2, stride=2),\n",
    "\n",
    "            # Block 3\n",
    "            nn.Conv2d(128, 256, kernel_size=3, stride=1, padding=1),\n",
    "            nn.ReLU(),\n",
    "            nn.BatchNorm2d(256),\n",
    "            nn.Conv2d(256, 256, kernel_size=3, stride=1, padding=1),\n",
    "            nn.ReLU(),\n",
    "            nn.BatchNorm2d(256),\n",
    "            nn.Conv2d(256, 256, kernel_size=3, stride=1, padding=1),\n",
    "            nn.ReLU(),\n",
    "            nn.BatchNorm2d(256),\n",
    "            nn.MaxPool2d(kernel_size=2, stride=2),\n",
    "\n",
    "            # Block 4\n",
    "            nn.Conv2d(256, 512, kernel_size=3, stride=1, padding=1),\n",
    "            nn.ReLU(),\n",
    "            nn.BatchNorm2d(512),\n",
    "            nn.Conv2d(512, 512, kernel_size=3, stride=1, padding=1),\n",
    "            nn.ReLU(),\n",
    "            nn.BatchNorm2d(512),\n",
    "            nn.MaxPool2d(kernel_size=2, stride=2)\n",
    "        )\n",
    "\n",
    "        self.fc_layers = nn.Sequential(\n",
    "            nn.Flatten(),\n",
    "            nn.Linear(512 * 2 * 2, 4096),\n",
    "            nn.ReLU(),\n",
    "            nn.Dropout(0.5),\n",
    "            nn.Linear(4096, 4096),\n",
    "            nn.ReLU(),\n",
    "            nn.Dropout(0.5),\n",
    "            nn.Linear(4096, 10)\n",
    "        )\n",
    "\n",
    "    def forward(self, x):\n",
    "        x = self.conv_layers(x)\n",
    "        x = self.fc_layers(x)\n",
    "        return x"
   ]
  },
  {
   "cell_type": "code",
   "execution_count": 27,
   "metadata": {},
   "outputs": [
    {
     "name": "stdout",
     "output_type": "stream",
     "text": [
      "Dokładność na zbiorze walidacyjnym: 78.61%\n"
     ]
    }
   ],
   "source": [
    "# test(model_vgg, device, cinic_valid)\n",
    "test(model_vgg_augmentation, device, cinic_valid)"
   ]
  },
  {
   "cell_type": "markdown",
   "metadata": {},
   "source": [
    "### ResNet"
   ]
  },
  {
   "cell_type": "code",
   "execution_count": null,
   "metadata": {},
   "outputs": [],
   "source": [
    "resnet18_augmentation = torch.load(\"resnet18_aug.pth\", weights_only=False)\n",
    "resnet18 = torch.load(\"resnet18_no_aug.pth\", weights_only=False)"
   ]
  },
  {
   "cell_type": "code",
   "execution_count": 37,
   "metadata": {},
   "outputs": [
    {
     "data": {
      "text/plain": [
       "ResNet(\n",
       "  (conv1): Conv2d(3, 64, kernel_size=(7, 7), stride=(2, 2), padding=(3, 3), bias=False)\n",
       "  (bn1): BatchNorm2d(64, eps=1e-05, momentum=0.1, affine=True, track_running_stats=True)\n",
       "  (relu): ReLU(inplace=True)\n",
       "  (maxpool): MaxPool2d(kernel_size=3, stride=2, padding=1, dilation=1, ceil_mode=False)\n",
       "  (layer1): Sequential(\n",
       "    (0): BasicBlock(\n",
       "      (conv1): Conv2d(64, 64, kernel_size=(3, 3), stride=(1, 1), padding=(1, 1), bias=False)\n",
       "      (bn1): BatchNorm2d(64, eps=1e-05, momentum=0.1, affine=True, track_running_stats=True)\n",
       "      (relu): ReLU(inplace=True)\n",
       "      (conv2): Conv2d(64, 64, kernel_size=(3, 3), stride=(1, 1), padding=(1, 1), bias=False)\n",
       "      (bn2): BatchNorm2d(64, eps=1e-05, momentum=0.1, affine=True, track_running_stats=True)\n",
       "    )\n",
       "    (1): BasicBlock(\n",
       "      (conv1): Conv2d(64, 64, kernel_size=(3, 3), stride=(1, 1), padding=(1, 1), bias=False)\n",
       "      (bn1): BatchNorm2d(64, eps=1e-05, momentum=0.1, affine=True, track_running_stats=True)\n",
       "      (relu): ReLU(inplace=True)\n",
       "      (conv2): Conv2d(64, 64, kernel_size=(3, 3), stride=(1, 1), padding=(1, 1), bias=False)\n",
       "      (bn2): BatchNorm2d(64, eps=1e-05, momentum=0.1, affine=True, track_running_stats=True)\n",
       "    )\n",
       "  )\n",
       "  (layer2): Sequential(\n",
       "    (0): BasicBlock(\n",
       "      (conv1): Conv2d(64, 128, kernel_size=(3, 3), stride=(2, 2), padding=(1, 1), bias=False)\n",
       "      (bn1): BatchNorm2d(128, eps=1e-05, momentum=0.1, affine=True, track_running_stats=True)\n",
       "      (relu): ReLU(inplace=True)\n",
       "      (conv2): Conv2d(128, 128, kernel_size=(3, 3), stride=(1, 1), padding=(1, 1), bias=False)\n",
       "      (bn2): BatchNorm2d(128, eps=1e-05, momentum=0.1, affine=True, track_running_stats=True)\n",
       "      (downsample): Sequential(\n",
       "        (0): Conv2d(64, 128, kernel_size=(1, 1), stride=(2, 2), bias=False)\n",
       "        (1): BatchNorm2d(128, eps=1e-05, momentum=0.1, affine=True, track_running_stats=True)\n",
       "      )\n",
       "    )\n",
       "    (1): BasicBlock(\n",
       "      (conv1): Conv2d(128, 128, kernel_size=(3, 3), stride=(1, 1), padding=(1, 1), bias=False)\n",
       "      (bn1): BatchNorm2d(128, eps=1e-05, momentum=0.1, affine=True, track_running_stats=True)\n",
       "      (relu): ReLU(inplace=True)\n",
       "      (conv2): Conv2d(128, 128, kernel_size=(3, 3), stride=(1, 1), padding=(1, 1), bias=False)\n",
       "      (bn2): BatchNorm2d(128, eps=1e-05, momentum=0.1, affine=True, track_running_stats=True)\n",
       "    )\n",
       "  )\n",
       "  (layer3): Sequential(\n",
       "    (0): BasicBlock(\n",
       "      (conv1): Conv2d(128, 256, kernel_size=(3, 3), stride=(2, 2), padding=(1, 1), bias=False)\n",
       "      (bn1): BatchNorm2d(256, eps=1e-05, momentum=0.1, affine=True, track_running_stats=True)\n",
       "      (relu): ReLU(inplace=True)\n",
       "      (conv2): Conv2d(256, 256, kernel_size=(3, 3), stride=(1, 1), padding=(1, 1), bias=False)\n",
       "      (bn2): BatchNorm2d(256, eps=1e-05, momentum=0.1, affine=True, track_running_stats=True)\n",
       "      (downsample): Sequential(\n",
       "        (0): Conv2d(128, 256, kernel_size=(1, 1), stride=(2, 2), bias=False)\n",
       "        (1): BatchNorm2d(256, eps=1e-05, momentum=0.1, affine=True, track_running_stats=True)\n",
       "      )\n",
       "    )\n",
       "    (1): BasicBlock(\n",
       "      (conv1): Conv2d(256, 256, kernel_size=(3, 3), stride=(1, 1), padding=(1, 1), bias=False)\n",
       "      (bn1): BatchNorm2d(256, eps=1e-05, momentum=0.1, affine=True, track_running_stats=True)\n",
       "      (relu): ReLU(inplace=True)\n",
       "      (conv2): Conv2d(256, 256, kernel_size=(3, 3), stride=(1, 1), padding=(1, 1), bias=False)\n",
       "      (bn2): BatchNorm2d(256, eps=1e-05, momentum=0.1, affine=True, track_running_stats=True)\n",
       "    )\n",
       "  )\n",
       "  (layer4): Sequential(\n",
       "    (0): BasicBlock(\n",
       "      (conv1): Conv2d(256, 512, kernel_size=(3, 3), stride=(2, 2), padding=(1, 1), bias=False)\n",
       "      (bn1): BatchNorm2d(512, eps=1e-05, momentum=0.1, affine=True, track_running_stats=True)\n",
       "      (relu): ReLU(inplace=True)\n",
       "      (conv2): Conv2d(512, 512, kernel_size=(3, 3), stride=(1, 1), padding=(1, 1), bias=False)\n",
       "      (bn2): BatchNorm2d(512, eps=1e-05, momentum=0.1, affine=True, track_running_stats=True)\n",
       "      (downsample): Sequential(\n",
       "        (0): Conv2d(256, 512, kernel_size=(1, 1), stride=(2, 2), bias=False)\n",
       "        (1): BatchNorm2d(512, eps=1e-05, momentum=0.1, affine=True, track_running_stats=True)\n",
       "      )\n",
       "    )\n",
       "    (1): BasicBlock(\n",
       "      (conv1): Conv2d(512, 512, kernel_size=(3, 3), stride=(1, 1), padding=(1, 1), bias=False)\n",
       "      (bn1): BatchNorm2d(512, eps=1e-05, momentum=0.1, affine=True, track_running_stats=True)\n",
       "      (relu): ReLU(inplace=True)\n",
       "      (conv2): Conv2d(512, 512, kernel_size=(3, 3), stride=(1, 1), padding=(1, 1), bias=False)\n",
       "      (bn2): BatchNorm2d(512, eps=1e-05, momentum=0.1, affine=True, track_running_stats=True)\n",
       "    )\n",
       "  )\n",
       "  (avgpool): AdaptiveAvgPool2d(output_size=(1, 1))\n",
       "  (fc): Linear(in_features=512, out_features=10, bias=True)\n",
       ")"
      ]
     },
     "execution_count": 37,
     "metadata": {},
     "output_type": "execute_result"
    }
   ],
   "source": [
    "resnet18_pretrained_augmentation = models.resnet18(weights=models.ResNet18_Weights.IMAGENET1K_V1)\n",
    "resnet18_pretrained_augmentation.fc = nn.Linear(512, 10)\n",
    "resnet18_pretrained_augmentation.to(device)"
   ]
  },
  {
   "cell_type": "code",
   "execution_count": 42,
   "metadata": {},
   "outputs": [
    {
     "name": "stderr",
     "output_type": "stream",
     "text": [
      "Epoka 1/1: 100%|██████████| 704/704 [21:32<00:00,  1.84s/it, loss=1.2]  "
     ]
    },
    {
     "name": "stdout",
     "output_type": "stream",
     "text": [
      "📊 Epoka [1/1], Strata: 0.9330, Dokładność: 66.78%\n",
      "✅ Trenowanie zakończone!\n"
     ]
    },
    {
     "name": "stderr",
     "output_type": "stream",
     "text": [
      "\n"
     ]
    }
   ],
   "source": [
    "device = torch.device(\"cuda\" if torch.cuda.is_available() else \"cpu\")\n",
    "# resnet18 = models.resnet18(num_classes=10).to(device)\n",
    "# resnet18_augmentation = models.resnet18(num_classes=10).to(device)\n",
    "train(resnet18_pretrained_augmentation, device, cinic_train_augment, num_epochs=1)\n",
    "# train(resnet18_augmentation, device, cinic_train_augment, num_epochs = 5)"
   ]
  },
  {
   "cell_type": "code",
   "execution_count": 43,
   "metadata": {},
   "outputs": [
    {
     "name": "stdout",
     "output_type": "stream",
     "text": [
      "Dokładność na zbiorze walidacyjnym: 68.86%\n"
     ]
    }
   ],
   "source": [
    "test(resnet18_pretrained_augmentation, device, cinic_valid)"
   ]
  },
  {
   "cell_type": "code",
   "execution_count": 44,
   "metadata": {},
   "outputs": [],
   "source": [
    "# torch.save(resnet18, \"resnet18_no_aug.pth\")\n",
    "torch.save(resnet18_pretrained_augmentation, \"resnet18_pre_aug.pth\")"
   ]
  },
  {
   "cell_type": "markdown",
   "metadata": {},
   "source": [
    "### Larger VGG"
   ]
  },
  {
   "cell_type": "code",
   "execution_count": null,
   "metadata": {},
   "outputs": [],
   "source": [
    "class VGGImprovedCNN(nn.Module):\n",
    "    def __init__(self):\n",
    "        super(VGGImprovedCNN, self).__init__()\n",
    "\n",
    "        self.conv_layers = nn.Sequential(\n",
    "            # Block 1\n",
    "            nn.Conv2d(3, 64, kernel_size=3, stride=1, padding=1),\n",
    "            nn.ReLU(),\n",
    "            nn.BatchNorm2d(64),\n",
    "            nn.Conv2d(64, 64, kernel_size=3, stride=1, padding=1),\n",
    "            nn.ReLU(),\n",
    "            nn.BatchNorm2d(64),\n",
    "            nn.MaxPool2d(kernel_size=2, stride=2),\n",
    "\n",
    "            # Block 2\n",
    "            nn.Conv2d(64, 128, kernel_size=3, stride=1, padding=1),\n",
    "            nn.ReLU(),\n",
    "            nn.BatchNorm2d(128),\n",
    "            nn.Conv2d(128, 128, kernel_size=3, stride=1, padding=1),\n",
    "            nn.ReLU(),\n",
    "            nn.BatchNorm2d(128),\n",
    "            nn.MaxPool2d(kernel_size=2, stride=2),\n",
    "\n",
    "            # Block 3\n",
    "            nn.Conv2d(128, 256, kernel_size=3, stride=1, padding=1),\n",
    "            nn.ReLU(),\n",
    "            nn.BatchNorm2d(256),\n",
    "            nn.Conv2d(256, 256, kernel_size=3, stride=1, padding=1),\n",
    "            nn.ReLU(),\n",
    "            nn.BatchNorm2d(256),\n",
    "            nn.Conv2d(256, 256, kernel_size=3, stride=1, padding=1),\n",
    "            nn.ReLU(),\n",
    "            nn.BatchNorm2d(256),\n",
    "            nn.MaxPool2d(kernel_size=2, stride=2),\n",
    "\n",
    "            # Block 4\n",
    "            nn.Conv2d(256, 512, kernel_size=3, stride=1, padding=1),\n",
    "            nn.ReLU(),\n",
    "            nn.BatchNorm2d(512),\n",
    "            nn.Conv2d(512, 512, kernel_size=3, stride=1, padding=1),\n",
    "            nn.ReLU(),\n",
    "            nn.BatchNorm2d(512),\n",
    "            nn.MaxPool2d(kernel_size=2, stride=2),\n",
    "\n",
    "            # Block 5\n",
    "            nn.Conv2d(512, 512, kernel_size=3, stride=1, padding=1),\n",
    "            nn.ReLU(),\n",
    "            nn.BatchNorm2d(512),\n",
    "            nn.Conv2d(512, 512, kernel_size=3, stride=1, padding=1),\n",
    "            nn.ReLU(),\n",
    "            nn.BatchNorm2d(512),\n",
    "            nn.MaxPool2d(kernel_size=2, stride=2)\n",
    "        )\n",
    "\n",
    "        self.fc_layers = nn.Sequential(\n",
    "            nn.Flatten(),\n",
    "            nn.Linear(512 * 1 * 1, 2048),\n",
    "            nn.ReLU(),\n",
    "            nn.Dropout(0.5),\n",
    "            nn.Linear(2048, 1024),\n",
    "            nn.ReLU(),\n",
    "            nn.Dropout(0.5),\n",
    "            nn.Linear(1024, 10)\n",
    "        )\n",
    "\n",
    "    def forward(self, x):\n",
    "        x = self.conv_layers(x)\n",
    "        x = self.fc_layers(x)\n",
    "        return x"
   ]
  },
  {
   "cell_type": "code",
   "execution_count": 10,
   "metadata": {},
   "outputs": [
    {
     "name": "stderr",
     "output_type": "stream",
     "text": [
      "Epoka 1/30: 100%|██████████| 704/704 [03:46<00:00,  3.11it/s, loss=2.09]\n"
     ]
    },
    {
     "name": "stdout",
     "output_type": "stream",
     "text": [
      "Epoka [1/30], Strata: 1.6461, Dokładność: 38.69%\n"
     ]
    },
    {
     "name": "stderr",
     "output_type": "stream",
     "text": [
      "Epoka 2/30: 100%|██████████| 704/704 [03:47<00:00,  3.10it/s, loss=1.4]  \n"
     ]
    },
    {
     "name": "stdout",
     "output_type": "stream",
     "text": [
      "Epoka [2/30], Strata: 1.3229, Dokładność: 52.21%\n"
     ]
    },
    {
     "name": "stderr",
     "output_type": "stream",
     "text": [
      "Epoka 3/30: 100%|██████████| 704/704 [03:47<00:00,  3.09it/s, loss=1.25] \n"
     ]
    },
    {
     "name": "stdout",
     "output_type": "stream",
     "text": [
      "Epoka [3/30], Strata: 1.1736, Dokładność: 57.98%\n"
     ]
    },
    {
     "name": "stderr",
     "output_type": "stream",
     "text": [
      "Epoka 4/30: 100%|██████████| 704/704 [03:47<00:00,  3.10it/s, loss=1.23] \n"
     ]
    },
    {
     "name": "stdout",
     "output_type": "stream",
     "text": [
      "Epoka [4/30], Strata: 1.0848, Dokładność: 61.39%\n"
     ]
    },
    {
     "name": "stderr",
     "output_type": "stream",
     "text": [
      "Epoka 5/30: 100%|██████████| 704/704 [03:46<00:00,  3.11it/s, loss=0.819]\n"
     ]
    },
    {
     "name": "stdout",
     "output_type": "stream",
     "text": [
      "Epoka [5/30], Strata: 1.0093, Dokładność: 64.15%\n"
     ]
    },
    {
     "name": "stderr",
     "output_type": "stream",
     "text": [
      "Epoka 6/30: 100%|██████████| 704/704 [03:46<00:00,  3.11it/s, loss=1.13] \n"
     ]
    },
    {
     "name": "stdout",
     "output_type": "stream",
     "text": [
      "Epoka [6/30], Strata: 0.9568, Dokładność: 66.11%\n"
     ]
    },
    {
     "name": "stderr",
     "output_type": "stream",
     "text": [
      "Epoka 7/30: 100%|██████████| 704/704 [03:46<00:00,  3.11it/s, loss=0.524]\n"
     ]
    },
    {
     "name": "stdout",
     "output_type": "stream",
     "text": [
      "Epoka [7/30], Strata: 0.9068, Dokładność: 68.04%\n"
     ]
    },
    {
     "name": "stderr",
     "output_type": "stream",
     "text": [
      "Epoka 8/30: 100%|██████████| 704/704 [03:45<00:00,  3.12it/s, loss=1.06] \n"
     ]
    },
    {
     "name": "stdout",
     "output_type": "stream",
     "text": [
      "Epoka [8/30], Strata: 0.8650, Dokładność: 69.64%\n"
     ]
    },
    {
     "name": "stderr",
     "output_type": "stream",
     "text": [
      "Epoka 9/30: 100%|██████████| 704/704 [03:45<00:00,  3.12it/s, loss=0.544]\n"
     ]
    },
    {
     "name": "stdout",
     "output_type": "stream",
     "text": [
      "Epoka [9/30], Strata: 0.8321, Dokładność: 70.83%\n"
     ]
    },
    {
     "name": "stderr",
     "output_type": "stream",
     "text": [
      "Epoka 10/30: 100%|██████████| 704/704 [03:46<00:00,  3.11it/s, loss=0.714]\n"
     ]
    },
    {
     "name": "stdout",
     "output_type": "stream",
     "text": [
      "Epoka [10/30], Strata: 0.7930, Dokładność: 72.10%\n"
     ]
    },
    {
     "name": "stderr",
     "output_type": "stream",
     "text": [
      "Epoka 11/30: 100%|██████████| 704/704 [03:46<00:00,  3.11it/s, loss=1.22] \n"
     ]
    },
    {
     "name": "stdout",
     "output_type": "stream",
     "text": [
      "Epoka [11/30], Strata: 0.7681, Dokładność: 72.99%\n"
     ]
    },
    {
     "name": "stderr",
     "output_type": "stream",
     "text": [
      "Epoka 12/30: 100%|██████████| 704/704 [03:46<00:00,  3.10it/s, loss=0.885]\n"
     ]
    },
    {
     "name": "stdout",
     "output_type": "stream",
     "text": [
      "Epoka [12/30], Strata: 0.7453, Dokładność: 73.88%\n"
     ]
    },
    {
     "name": "stderr",
     "output_type": "stream",
     "text": [
      "Epoka 13/30: 100%|██████████| 704/704 [03:47<00:00,  3.10it/s, loss=1.52] \n"
     ]
    },
    {
     "name": "stdout",
     "output_type": "stream",
     "text": [
      "Epoka [13/30], Strata: 0.7134, Dokładność: 74.83%\n"
     ]
    },
    {
     "name": "stderr",
     "output_type": "stream",
     "text": [
      "Epoka 14/30: 100%|██████████| 704/704 [03:45<00:00,  3.12it/s, loss=1.12] \n"
     ]
    },
    {
     "name": "stdout",
     "output_type": "stream",
     "text": [
      "Epoka [14/30], Strata: 0.6902, Dokładność: 75.68%\n"
     ]
    },
    {
     "name": "stderr",
     "output_type": "stream",
     "text": [
      "Epoka 15/30: 100%|██████████| 704/704 [03:45<00:00,  3.13it/s, loss=0.59] \n"
     ]
    },
    {
     "name": "stdout",
     "output_type": "stream",
     "text": [
      "Epoka [15/30], Strata: 0.6694, Dokładność: 76.46%\n"
     ]
    },
    {
     "name": "stderr",
     "output_type": "stream",
     "text": [
      "Epoka 16/30: 100%|██████████| 704/704 [03:47<00:00,  3.09it/s, loss=0.475]\n"
     ]
    },
    {
     "name": "stdout",
     "output_type": "stream",
     "text": [
      "Epoka [16/30], Strata: 0.6458, Dokładność: 77.22%\n"
     ]
    },
    {
     "name": "stderr",
     "output_type": "stream",
     "text": [
      "Epoka 17/30: 100%|██████████| 704/704 [03:47<00:00,  3.10it/s, loss=0.524]\n"
     ]
    },
    {
     "name": "stdout",
     "output_type": "stream",
     "text": [
      "Epoka [17/30], Strata: 0.6315, Dokładność: 77.60%\n"
     ]
    },
    {
     "name": "stderr",
     "output_type": "stream",
     "text": [
      "Epoka 18/30: 100%|██████████| 704/704 [03:45<00:00,  3.12it/s, loss=1.15] \n"
     ]
    },
    {
     "name": "stdout",
     "output_type": "stream",
     "text": [
      "Epoka [18/30], Strata: 0.6095, Dokładność: 78.55%\n"
     ]
    },
    {
     "name": "stderr",
     "output_type": "stream",
     "text": [
      "Epoka 19/30: 100%|██████████| 704/704 [03:46<00:00,  3.11it/s, loss=0.569]\n"
     ]
    },
    {
     "name": "stdout",
     "output_type": "stream",
     "text": [
      "Epoka [19/30], Strata: 0.5898, Dokładność: 79.07%\n"
     ]
    },
    {
     "name": "stderr",
     "output_type": "stream",
     "text": [
      "Epoka 20/30: 100%|██████████| 704/704 [03:46<00:00,  3.11it/s, loss=0.514]\n"
     ]
    },
    {
     "name": "stdout",
     "output_type": "stream",
     "text": [
      "Epoka [20/30], Strata: 0.5747, Dokładność: 79.60%\n"
     ]
    },
    {
     "name": "stderr",
     "output_type": "stream",
     "text": [
      "Epoka 21/30: 100%|██████████| 704/704 [03:47<00:00,  3.10it/s, loss=0.867]\n"
     ]
    },
    {
     "name": "stdout",
     "output_type": "stream",
     "text": [
      "Epoka [21/30], Strata: 0.5582, Dokładność: 80.26%\n"
     ]
    },
    {
     "name": "stderr",
     "output_type": "stream",
     "text": [
      "Epoka 22/30: 100%|██████████| 704/704 [03:46<00:00,  3.11it/s, loss=1.12] \n"
     ]
    },
    {
     "name": "stdout",
     "output_type": "stream",
     "text": [
      "Epoka [22/30], Strata: 0.5451, Dokładność: 80.69%\n"
     ]
    },
    {
     "name": "stderr",
     "output_type": "stream",
     "text": [
      "Epoka 23/30: 100%|██████████| 704/704 [03:48<00:00,  3.08it/s, loss=0.797]\n"
     ]
    },
    {
     "name": "stdout",
     "output_type": "stream",
     "text": [
      "Epoka [23/30], Strata: 0.5284, Dokładność: 81.31%\n"
     ]
    },
    {
     "name": "stderr",
     "output_type": "stream",
     "text": [
      "Epoka 24/30: 100%|██████████| 704/704 [03:59<00:00,  2.94it/s, loss=0.585]\n"
     ]
    },
    {
     "name": "stdout",
     "output_type": "stream",
     "text": [
      "Epoka [24/30], Strata: 0.5140, Dokładność: 81.75%\n"
     ]
    },
    {
     "name": "stderr",
     "output_type": "stream",
     "text": [
      "Epoka 25/30: 100%|██████████| 704/704 [04:00<00:00,  2.93it/s, loss=0.742]\n"
     ]
    },
    {
     "name": "stdout",
     "output_type": "stream",
     "text": [
      "Epoka [25/30], Strata: 0.5001, Dokładność: 82.31%\n"
     ]
    },
    {
     "name": "stderr",
     "output_type": "stream",
     "text": [
      "Epoka 26/30: 100%|██████████| 704/704 [03:44<00:00,  3.13it/s, loss=0.863]\n"
     ]
    },
    {
     "name": "stdout",
     "output_type": "stream",
     "text": [
      "Epoka [26/30], Strata: 0.4894, Dokładność: 82.68%\n"
     ]
    },
    {
     "name": "stderr",
     "output_type": "stream",
     "text": [
      "Epoka 27/30: 100%|██████████| 704/704 [03:45<00:00,  3.12it/s, loss=0.505]\n"
     ]
    },
    {
     "name": "stdout",
     "output_type": "stream",
     "text": [
      "Epoka [27/30], Strata: 0.4726, Dokładność: 83.28%\n"
     ]
    },
    {
     "name": "stderr",
     "output_type": "stream",
     "text": [
      "Epoka 28/30: 100%|██████████| 704/704 [03:45<00:00,  3.12it/s, loss=0.357]\n"
     ]
    },
    {
     "name": "stdout",
     "output_type": "stream",
     "text": [
      "Epoka [28/30], Strata: 0.4591, Dokładność: 83.60%\n"
     ]
    },
    {
     "name": "stderr",
     "output_type": "stream",
     "text": [
      "Epoka 29/30: 100%|██████████| 704/704 [03:45<00:00,  3.12it/s, loss=0.492]\n"
     ]
    },
    {
     "name": "stdout",
     "output_type": "stream",
     "text": [
      "Epoka [29/30], Strata: 0.4490, Dokładność: 83.98%\n"
     ]
    },
    {
     "name": "stderr",
     "output_type": "stream",
     "text": [
      "Epoka 30/30: 100%|██████████| 704/704 [03:44<00:00,  3.13it/s, loss=0.296]"
     ]
    },
    {
     "name": "stdout",
     "output_type": "stream",
     "text": [
      "Epoka [30/30], Strata: 0.4350, Dokładność: 84.60%\n",
      "Trenowanie zakończone!\n"
     ]
    },
    {
     "name": "stderr",
     "output_type": "stream",
     "text": [
      "\n"
     ]
    }
   ],
   "source": [
    "device = torch.device(\"cuda\" if torch.cuda.is_available() else \"cpu\")\n",
    "# model = VGGImprovedCNNCNN().to(device)\n",
    "larger_vgg_model_augmentation = VGGImprovedCNN().to(device)\n",
    "# train(model, device, cinic_train)\n",
    "train(larger_vgg_model_augmentation, device, cinic_train_augment, num_epochs=30)"
   ]
  },
  {
   "cell_type": "code",
   "execution_count": 12,
   "metadata": {},
   "outputs": [
    {
     "name": "stdout",
     "output_type": "stream",
     "text": [
      "Dokładność na zbiorze walidacyjnym: 78.68%\n"
     ]
    }
   ],
   "source": [
    "test(larger_vgg_model_augmentation, device, cinic_valid)"
   ]
  },
  {
   "cell_type": "code",
   "execution_count": 11,
   "metadata": {},
   "outputs": [],
   "source": [
    "# torch.save(resnet18, \"resnet18_no_aug.pth\")\n",
    "torch.save(larger_vgg_model_augmentation, \"vgg_improved_aug2.pth\")"
   ]
  },
  {
   "cell_type": "markdown",
   "metadata": {},
   "source": [
    "### Nice comparison of augmenation"
   ]
  },
  {
   "cell_type": "code",
   "execution_count": 40,
   "metadata": {},
   "outputs": [
    {
     "name": "stderr",
     "output_type": "stream",
     "text": [
      "Epoka 1/5: 100%|██████████| 704/704 [14:42<00:00,  1.25s/it, loss=1.02] \n"
     ]
    },
    {
     "name": "stdout",
     "output_type": "stream",
     "text": [
      "Epoka [1/5], Strata: 0.5856, Dokładność: 79.49%\n"
     ]
    },
    {
     "name": "stderr",
     "output_type": "stream",
     "text": [
      "Epoka 2/5: 100%|██████████| 704/704 [13:40<00:00,  1.16s/it, loss=0.558]\n"
     ]
    },
    {
     "name": "stdout",
     "output_type": "stream",
     "text": [
      "Epoka [2/5], Strata: 0.5759, Dokładność: 79.78%\n"
     ]
    },
    {
     "name": "stderr",
     "output_type": "stream",
     "text": [
      "Epoka 3/5: 100%|██████████| 704/704 [14:08<00:00,  1.20s/it, loss=0.389]\n"
     ]
    },
    {
     "name": "stdout",
     "output_type": "stream",
     "text": [
      "Epoka [3/5], Strata: 0.5716, Dokładność: 79.85%\n"
     ]
    },
    {
     "name": "stderr",
     "output_type": "stream",
     "text": [
      "Epoka 4/5: 100%|██████████| 704/704 [13:43<00:00,  1.17s/it, loss=0.848]\n"
     ]
    },
    {
     "name": "stdout",
     "output_type": "stream",
     "text": [
      "Epoka [4/5], Strata: 0.5626, Dokładność: 80.21%\n"
     ]
    },
    {
     "name": "stderr",
     "output_type": "stream",
     "text": [
      "Epoka 5/5: 100%|██████████| 704/704 [13:20<00:00,  1.14s/it, loss=1.03] "
     ]
    },
    {
     "name": "stdout",
     "output_type": "stream",
     "text": [
      "Epoka [5/5], Strata: 0.5505, Dokładność: 80.67%\n",
      "Trenowanie zakończone!\n"
     ]
    },
    {
     "name": "stderr",
     "output_type": "stream",
     "text": [
      "\n"
     ]
    }
   ],
   "source": [
    "device = torch.device(\"cuda\" if torch.cuda.is_available() else \"cpu\")\n",
    "# model_vgg = VGGStyleCNN().to(device)\n",
    "# model_vgg_crop = VGGStyleCNN().to(device)\n",
    "# model_vgg_rotation = VGGStyleCNN().to(device)\n",
    "# model_vgg_flip = VGGStyleCNN().to(device)\n",
    "# model_vgg_colorJitter = VGGStyleCNN().to(device)\n",
    "# model_vgg_augmentation = VGGStyleCNN().to(device)\n",
    "# model_vgg_augmentation_advanced = VGGStyleCNN().to(device)\n",
    "# model_vgg_cutOut = VGGStyleCNN().to(device)\n",
    "# model_vgg = torch.load(\"vgg.pth\", weights_only=False)\n",
    "# model_vgg_crop = torch.load(\"vgg_crop.pth\", weights_only=False)\n",
    "# model_vgg_rotation = torch.load(\"vgg_rotation.pth\", weights_only=False)\n",
    "# model_vgg_flip = torch.load(\"vgg_flip.pth\", weights_only=False)\n",
    "# model_vgg_colorJitter = torch.load(\"vgg_colorJitter.pth\", weights_only=False)\n",
    "# model_vgg_augmentation = torch.load(\"vgg_augmentation.pth\", weights_only=False)\n",
    "# train(model_vgg, device, cinic_train, num_epochs = 15)\n",
    "# train(model_vgg_crop, device, cinic_train_crop, num_epochs = 15)\n",
    "# train(model_vgg_flip, device, cinic_train_flip, num_epochs = 11)\n",
    "# train(model_vgg_rotation, device, cinic_train_rotation, num_epochs = 15)\n",
    "# train(model_vgg_colorJitter, device, cinic_train_colorJitter, num_epochs = 15)\n",
    "# train(model_vgg_augmentation, device, cinic_train_augment, num_epochs = 15)\n",
    "train(model_vgg_augmentation_advanced, device, cinic_train_augment_advanced, num_epochs=5)\n",
    "# train(model_vgg_cutOut, device, cinic_train_cutOut, num_epochs = 15)"
   ]
  },
  {
   "cell_type": "code",
   "execution_count": 14,
   "metadata": {},
   "outputs": [
    {
     "name": "stdout",
     "output_type": "stream",
     "text": [
      "Dokładność na zbiorze walidacyjnym: 67.66%\n",
      "Dokładność na zbiorze walidacyjnym: 74.09%\n",
      "Dokładność na zbiorze walidacyjnym: 72.49%\n",
      "Dokładność na zbiorze walidacyjnym: 71.00%\n",
      "Dokładność na zbiorze walidacyjnym: 69.56%\n"
     ]
    }
   ],
   "source": [
    "test(model_vgg, device, cinic_valid)\n",
    "test(model_vgg_crop, device, cinic_valid)\n",
    "test(model_vgg_flip, device, cinic_valid)\n",
    "test(model_vgg_rotation, device, cinic_valid)\n",
    "test(model_vgg_colorJitter, device, cinic_valid)"
   ]
  },
  {
   "cell_type": "code",
   "execution_count": 42,
   "metadata": {},
   "outputs": [
    {
     "name": "stdout",
     "output_type": "stream",
     "text": [
      "Dokładność na zbiorze walidacyjnym: 78.98%\n"
     ]
    }
   ],
   "source": [
    "# test(model_vgg_cutOut, device, cinic_valid)\n",
    "test(model_vgg_augmentation_advanced, device, cinic_valid)\n",
    "# test(model_vgg_augmentation, device, cinic_valid)"
   ]
  },
  {
   "cell_type": "code",
   "execution_count": 43,
   "metadata": {},
   "outputs": [],
   "source": [
    "# torch.save(model_vgg, \"vgg.pth\")\n",
    "# torch.save(model_vgg_crop, \"vgg_crop.pth\")\n",
    "# torch.save(model_vgg_flip, \"vgg_flip.pth\")\n",
    "# torch.save(model_vgg_rotation, \"vgg_rotation.pth\")\n",
    "# torch.save(model_vgg_colorJitter, \"vgg_colorJitter.pth\")\n",
    "# torch.save(model_vgg_augmentation, \"vgg_augmentation.pth\")\n",
    "torch.save(model_vgg_augmentation_advanced, \"vgg_augmentation_advanced_trained.pth\")\n",
    "# torch.save(model_vgg_cutOut, \"vgg_cutOut.pth\")"
   ]
  },
  {
   "cell_type": "code",
   "execution_count": 18,
   "metadata": {},
   "outputs": [
    {
     "name": "stderr",
     "output_type": "stream",
     "text": [
      "Epoka 1/5: 100%|██████████| 704/704 [01:09<00:00, 10.14it/s, loss=1.13] \n"
     ]
    },
    {
     "name": "stdout",
     "output_type": "stream",
     "text": [
      "Epoka [1/5], Strata: 0.9794, Dokładność: 65.83%\n"
     ]
    },
    {
     "name": "stderr",
     "output_type": "stream",
     "text": [
      "Epoka 2/5: 100%|██████████| 704/704 [01:32<00:00,  7.64it/s, loss=1.4]  \n"
     ]
    },
    {
     "name": "stdout",
     "output_type": "stream",
     "text": [
      "Epoka [2/5], Strata: 0.9611, Dokładność: 66.39%\n"
     ]
    },
    {
     "name": "stderr",
     "output_type": "stream",
     "text": [
      "Epoka 3/5: 100%|██████████| 704/704 [01:32<00:00,  7.64it/s, loss=0.536]\n"
     ]
    },
    {
     "name": "stdout",
     "output_type": "stream",
     "text": [
      "Epoka [3/5], Strata: 0.9390, Dokładność: 67.27%\n"
     ]
    },
    {
     "name": "stderr",
     "output_type": "stream",
     "text": [
      "Epoka 4/5: 100%|██████████| 704/704 [01:24<00:00,  8.34it/s, loss=0.642]\n"
     ]
    },
    {
     "name": "stdout",
     "output_type": "stream",
     "text": [
      "Epoka [4/5], Strata: 0.9172, Dokładność: 67.85%\n"
     ]
    },
    {
     "name": "stderr",
     "output_type": "stream",
     "text": [
      "Epoka 5/5: 100%|██████████| 704/704 [01:33<00:00,  7.53it/s, loss=1.31] \n"
     ]
    },
    {
     "name": "stdout",
     "output_type": "stream",
     "text": [
      "Epoka [5/5], Strata: 0.8988, Dokładność: 68.72%\n",
      "Trenowanie zakończone!\n"
     ]
    },
    {
     "name": "stderr",
     "output_type": "stream",
     "text": [
      "Epoka 1/5: 100%|██████████| 704/704 [01:32<00:00,  7.58it/s, loss=1.05] \n"
     ]
    },
    {
     "name": "stdout",
     "output_type": "stream",
     "text": [
      "Epoka [1/5], Strata: 1.0084, Dokładność: 64.60%\n"
     ]
    },
    {
     "name": "stderr",
     "output_type": "stream",
     "text": [
      "Epoka 2/5: 100%|██████████| 704/704 [01:33<00:00,  7.52it/s, loss=1.38] \n"
     ]
    },
    {
     "name": "stdout",
     "output_type": "stream",
     "text": [
      "Epoka [2/5], Strata: 0.9895, Dokładność: 65.31%\n"
     ]
    },
    {
     "name": "stderr",
     "output_type": "stream",
     "text": [
      "Epoka 3/5: 100%|██████████| 704/704 [01:34<00:00,  7.45it/s, loss=1.15] \n"
     ]
    },
    {
     "name": "stdout",
     "output_type": "stream",
     "text": [
      "Epoka [3/5], Strata: 0.9670, Dokładność: 66.16%\n"
     ]
    },
    {
     "name": "stderr",
     "output_type": "stream",
     "text": [
      "Epoka 4/5: 100%|██████████| 704/704 [01:05<00:00, 10.81it/s, loss=0.87] \n"
     ]
    },
    {
     "name": "stdout",
     "output_type": "stream",
     "text": [
      "Epoka [4/5], Strata: 0.9469, Dokładność: 67.01%\n"
     ]
    },
    {
     "name": "stderr",
     "output_type": "stream",
     "text": [
      "Epoka 5/5: 100%|██████████| 704/704 [01:04<00:00, 10.89it/s, loss=0.624]\n"
     ]
    },
    {
     "name": "stdout",
     "output_type": "stream",
     "text": [
      "Epoka [5/5], Strata: 0.9267, Dokładność: 67.60%\n",
      "Trenowanie zakończone!\n"
     ]
    },
    {
     "name": "stderr",
     "output_type": "stream",
     "text": [
      "Epoka 1/5: 100%|██████████| 704/704 [01:08<00:00, 10.32it/s, loss=1.03] \n"
     ]
    },
    {
     "name": "stdout",
     "output_type": "stream",
     "text": [
      "Epoka [1/5], Strata: 0.9689, Dokładność: 66.05%\n"
     ]
    },
    {
     "name": "stderr",
     "output_type": "stream",
     "text": [
      "Epoka 2/5: 100%|██████████| 704/704 [01:05<00:00, 10.74it/s, loss=0.822]\n"
     ]
    },
    {
     "name": "stdout",
     "output_type": "stream",
     "text": [
      "Epoka [2/5], Strata: 0.9461, Dokładność: 66.82%\n"
     ]
    },
    {
     "name": "stderr",
     "output_type": "stream",
     "text": [
      "Epoka 3/5: 100%|██████████| 704/704 [01:04<00:00, 10.91it/s, loss=1.41] \n"
     ]
    },
    {
     "name": "stdout",
     "output_type": "stream",
     "text": [
      "Epoka [3/5], Strata: 0.9267, Dokładność: 67.49%\n"
     ]
    },
    {
     "name": "stderr",
     "output_type": "stream",
     "text": [
      "Epoka 4/5: 100%|██████████| 704/704 [01:05<00:00, 10.75it/s, loss=0.49] \n"
     ]
    },
    {
     "name": "stdout",
     "output_type": "stream",
     "text": [
      "Epoka [4/5], Strata: 0.9046, Dokładność: 68.31%\n"
     ]
    },
    {
     "name": "stderr",
     "output_type": "stream",
     "text": [
      "Epoka 5/5: 100%|██████████| 704/704 [01:32<00:00,  7.61it/s, loss=0.983]\n"
     ]
    },
    {
     "name": "stdout",
     "output_type": "stream",
     "text": [
      "Epoka [5/5], Strata: 0.8831, Dokładność: 69.20%\n",
      "Trenowanie zakończone!\n"
     ]
    },
    {
     "name": "stderr",
     "output_type": "stream",
     "text": [
      "Epoka 1/5: 100%|██████████| 704/704 [01:31<00:00,  7.70it/s, loss=0.658]\n"
     ]
    },
    {
     "name": "stdout",
     "output_type": "stream",
     "text": [
      "Epoka [1/5], Strata: 0.9944, Dokładność: 65.02%\n"
     ]
    },
    {
     "name": "stderr",
     "output_type": "stream",
     "text": [
      "Epoka 2/5: 100%|██████████| 704/704 [01:26<00:00,  8.15it/s, loss=0.614]\n"
     ]
    },
    {
     "name": "stdout",
     "output_type": "stream",
     "text": [
      "Epoka [2/5], Strata: 0.9727, Dokładność: 65.89%\n"
     ]
    },
    {
     "name": "stderr",
     "output_type": "stream",
     "text": [
      "Epoka 3/5: 100%|██████████| 704/704 [01:20<00:00,  8.74it/s, loss=0.583]\n"
     ]
    },
    {
     "name": "stdout",
     "output_type": "stream",
     "text": [
      "Epoka [3/5], Strata: 0.9536, Dokładność: 66.67%\n"
     ]
    },
    {
     "name": "stderr",
     "output_type": "stream",
     "text": [
      "Epoka 4/5: 100%|██████████| 704/704 [01:18<00:00,  9.00it/s, loss=0.572]\n"
     ]
    },
    {
     "name": "stdout",
     "output_type": "stream",
     "text": [
      "Epoka [4/5], Strata: 0.9369, Dokładność: 67.26%\n"
     ]
    },
    {
     "name": "stderr",
     "output_type": "stream",
     "text": [
      "Epoka 5/5: 100%|██████████| 704/704 [01:15<00:00,  9.30it/s, loss=0.79] \n"
     ]
    },
    {
     "name": "stdout",
     "output_type": "stream",
     "text": [
      "Epoka [5/5], Strata: 0.9161, Dokładność: 68.05%\n",
      "Trenowanie zakończone!\n"
     ]
    },
    {
     "name": "stderr",
     "output_type": "stream",
     "text": [
      "Epoka 1/5: 100%|██████████| 704/704 [01:15<00:00,  9.30it/s, loss=0.939]\n"
     ]
    },
    {
     "name": "stdout",
     "output_type": "stream",
     "text": [
      "Epoka [1/5], Strata: 0.9640, Dokładność: 66.15%\n"
     ]
    },
    {
     "name": "stderr",
     "output_type": "stream",
     "text": [
      "Epoka 2/5: 100%|██████████| 704/704 [01:15<00:00,  9.29it/s, loss=0.969]\n"
     ]
    },
    {
     "name": "stdout",
     "output_type": "stream",
     "text": [
      "Epoka [2/5], Strata: 0.9418, Dokładność: 66.98%\n"
     ]
    },
    {
     "name": "stderr",
     "output_type": "stream",
     "text": [
      "Epoka 3/5: 100%|██████████| 704/704 [01:15<00:00,  9.33it/s, loss=1.1]  \n"
     ]
    },
    {
     "name": "stdout",
     "output_type": "stream",
     "text": [
      "Epoka [3/5], Strata: 0.9197, Dokładność: 67.85%\n"
     ]
    },
    {
     "name": "stderr",
     "output_type": "stream",
     "text": [
      "Epoka 4/5: 100%|██████████| 704/704 [01:15<00:00,  9.37it/s, loss=1.49] \n"
     ]
    },
    {
     "name": "stdout",
     "output_type": "stream",
     "text": [
      "Epoka [4/5], Strata: 0.9006, Dokładność: 68.72%\n"
     ]
    },
    {
     "name": "stderr",
     "output_type": "stream",
     "text": [
      "Epoka 5/5: 100%|██████████| 704/704 [01:15<00:00,  9.28it/s, loss=0.982]\n"
     ]
    },
    {
     "name": "stdout",
     "output_type": "stream",
     "text": [
      "Epoka [5/5], Strata: 0.8798, Dokładność: 69.28%\n",
      "Trenowanie zakończone!\n"
     ]
    },
    {
     "name": "stderr",
     "output_type": "stream",
     "text": [
      "Epoka 1/5: 100%|██████████| 704/704 [01:15<00:00,  9.30it/s, loss=1.02] \n"
     ]
    },
    {
     "name": "stdout",
     "output_type": "stream",
     "text": [
      "Epoka [1/5], Strata: 0.9907, Dokładność: 65.39%\n"
     ]
    },
    {
     "name": "stderr",
     "output_type": "stream",
     "text": [
      "Epoka 2/5: 100%|██████████| 704/704 [00:56<00:00, 12.54it/s, loss=1.06] \n"
     ]
    },
    {
     "name": "stdout",
     "output_type": "stream",
     "text": [
      "Epoka [2/5], Strata: 0.9686, Dokładność: 66.09%\n"
     ]
    },
    {
     "name": "stderr",
     "output_type": "stream",
     "text": [
      "Epoka 3/5: 100%|██████████| 704/704 [00:48<00:00, 14.44it/s, loss=0.711]\n"
     ]
    },
    {
     "name": "stdout",
     "output_type": "stream",
     "text": [
      "Epoka [3/5], Strata: 0.9488, Dokładność: 66.70%\n"
     ]
    },
    {
     "name": "stderr",
     "output_type": "stream",
     "text": [
      "Epoka 4/5: 100%|██████████| 704/704 [00:49<00:00, 14.32it/s, loss=1.02] \n"
     ]
    },
    {
     "name": "stdout",
     "output_type": "stream",
     "text": [
      "Epoka [4/5], Strata: 0.9298, Dokładność: 67.53%\n"
     ]
    },
    {
     "name": "stderr",
     "output_type": "stream",
     "text": [
      "Epoka 5/5: 100%|██████████| 704/704 [00:49<00:00, 14.21it/s, loss=0.764]"
     ]
    },
    {
     "name": "stdout",
     "output_type": "stream",
     "text": [
      "Epoka [5/5], Strata: 0.9080, Dokładność: 68.42%\n",
      "Trenowanie zakończone!\n"
     ]
    },
    {
     "name": "stderr",
     "output_type": "stream",
     "text": [
      "\n"
     ]
    }
   ],
   "source": [
    "device = torch.device(\"cuda\" if torch.cuda.is_available() else \"cpu\")\n",
    "# model_simple = CNN().to(device)\n",
    "# model_simple_crop = CNN().to(device)\n",
    "# model_simple_rotation = CNN().to(device)\n",
    "# model_simple_flip = CNN().to(device)\n",
    "# model_simple_colorJitter = CNN().to(device)\n",
    "# model_simple_augmentation = CNN().to(device)\n",
    "train(model_simple, device, cinic_train, num_epochs=5)\n",
    "train(model_simple_crop, device, cinic_train, num_epochs=5)\n",
    "train(model_simple_rotation, device, cinic_train, num_epochs=5)\n",
    "train(model_simple_flip, device, cinic_train, num_epochs=5)\n",
    "train(model_simple_colorJitter, device, cinic_train, num_epochs=5)\n",
    "train(model_simple_augmentation, device, cinic_train, num_epochs=5)"
   ]
  },
  {
   "cell_type": "code",
   "execution_count": 19,
   "metadata": {},
   "outputs": [
    {
     "name": "stdout",
     "output_type": "stream",
     "text": [
      "Dokładność na zbiorze walidacyjnym: 59.75%\n",
      "Dokładność na zbiorze walidacyjnym: 59.65%\n",
      "Dokładność na zbiorze walidacyjnym: 60.04%\n",
      "Dokładność na zbiorze walidacyjnym: 60.30%\n",
      "Dokładność na zbiorze walidacyjnym: 59.95%\n",
      "Dokładność na zbiorze walidacyjnym: 60.16%\n"
     ]
    }
   ],
   "source": [
    "test(model_simple, device, cinic_valid)\n",
    "test(model_simple_crop, device, cinic_valid)\n",
    "test(model_simple_flip, device, cinic_valid)\n",
    "test(model_simple_rotation, device, cinic_valid)\n",
    "test(model_simple_colorJitter, device, cinic_valid)\n",
    "test(model_simple_augmentation, device, cinic_valid)"
   ]
  },
  {
   "cell_type": "code",
   "execution_count": 20,
   "metadata": {},
   "outputs": [],
   "source": [
    "torch.save(model_simple, \"simple.pth\")\n",
    "torch.save(model_simple_crop, \"simple_crop.pth\")\n",
    "torch.save(model_simple_flip, \"simple_flip.pth\")\n",
    "torch.save(model_simple_rotation, \"simple_rotation.pth\")\n",
    "torch.save(model_simple_colorJitter, \"simple_colorJitter.pth\")\n",
    "torch.save(model_simple_augmentation, \"simple_augmentation.pth\")"
   ]
  },
  {
   "cell_type": "markdown",
   "metadata": {},
   "source": [
    "## Ensemble"
   ]
  },
  {
   "cell_type": "code",
   "execution_count": 24,
   "metadata": {},
   "outputs": [],
   "source": [
    "def hard_ensemble(models, dataloader):\n",
    "    all_preds = []\n",
    "    all_labels = []\n",
    "\n",
    "    device = next(models[0].parameters()).device\n",
    "\n",
    "    with torch.no_grad():\n",
    "        for inputs, targets in tqdm(dataloader, desc=\"Processing batches\", unit=\"batch\"):\n",
    "            inputs = inputs.to(device)\n",
    "            targets = targets.to(device)\n",
    "\n",
    "            preds = torch.stack([torch.argmax(model(inputs), dim=1) for model in models], dim=1)\n",
    "            all_preds.append(preds.cpu().numpy())\n",
    "            all_labels.append(targets.cpu().numpy())\n",
    "\n",
    "    all_preds = np.concatenate(all_preds, axis=0)\n",
    "    majority_preds = mode(all_preds, axis=1, keepdims=False).mode.squeeze()\n",
    "\n",
    "    all_labels = np.concatenate(all_labels)\n",
    "\n",
    "    accuracy = np.mean(majority_preds == all_labels)\n",
    "    print(f\"Majority Voting Ensemble Accuracy: {accuracy * 100:.2f}%\")\n",
    "\n",
    "    return majority_preds, all_labels\n"
   ]
  },
  {
   "cell_type": "code",
   "execution_count": null,
   "metadata": {},
   "outputs": [],
   "source": [
    "def soft_ensemble(models, dataloader):\n",
    "    all_preds = []\n",
    "    all_labels = []\n",
    "\n",
    "    device = next(models[0].parameters()).device\n",
    "\n",
    "    with torch.no_grad():\n",
    "        for inputs, targets in tqdm(dataloader, desc=\"Processing batches\", unit=\"batch\"):\n",
    "            inputs = inputs.to(device)\n",
    "            targets = targets.to(device)\n",
    "\n",
    "            probs = [torch.softmax(model(inputs), dim=1) for model in models]\n",
    "            all_preds.append(torch.stack(probs, dim=1))\n",
    "            all_labels.append(targets)\n",
    "\n",
    "    all_preds = torch.cat(all_preds, dim=0)\n",
    "    avg_probs = torch.mean(all_preds, dim=1)\n",
    "    soft_preds = torch.argmax(avg_probs, dim=1)\n",
    "    all_labels = torch.cat(all_labels, dim=0)\n",
    "\n",
    "    accuracy = torch.mean((soft_preds == all_labels).float())\n",
    "    print(f\"Soft Voting Ensemble Accuracy: {accuracy.item() * 100:.2f}%\")\n",
    "\n",
    "    return soft_preds.cpu().numpy(), all_labels.cpu().numpy()"
   ]
  },
  {
   "cell_type": "code",
   "execution_count": 16,
   "metadata": {},
   "outputs": [],
   "source": [
    "model_paths = [\"vgg_augmentation_advanced_trained.pth\", \"vgg_augmentation.pth\", \"vgg_improved_aug2.pth\"]\n",
    "models = [torch.load(path, weights_only=False, map_location=torch.device(\"cuda\")) for path in model_paths]\n",
    "\n",
    "for model in models:\n",
    "    model.eval()"
   ]
  },
  {
   "cell_type": "code",
   "execution_count": 25,
   "metadata": {},
   "outputs": [
    {
     "name": "stderr",
     "output_type": "stream",
     "text": [
      "Processing batches: 100%|██████████| 704/704 [03:32<00:00,  3.32batch/s]\n"
     ]
    },
    {
     "name": "stdout",
     "output_type": "stream",
     "text": [
      "Majority Voting Ensemble Accuracy: 80.41%\n"
     ]
    },
    {
     "data": {
      "text/plain": [
       "(array([0, 0, 8, ..., 9, 9, 9], shape=(90000,)),\n",
       " array([0, 0, 0, ..., 9, 9, 9], shape=(90000,)))"
      ]
     },
     "execution_count": 25,
     "metadata": {},
     "output_type": "execute_result"
    }
   ],
   "source": [
    "hard_ensemble(models, cinic_valid)"
   ]
  },
  {
   "cell_type": "code",
   "execution_count": 17,
   "metadata": {},
   "outputs": [
    {
     "name": "stderr",
     "output_type": "stream",
     "text": [
      "Processing batches: 100%|██████████| 704/704 [02:59<00:00,  3.92batch/s]"
     ]
    },
    {
     "name": "stdout",
     "output_type": "stream",
     "text": [
      "Soft Voting Ensemble Accuracy: 81.40%\n"
     ]
    },
    {
     "name": "stderr",
     "output_type": "stream",
     "text": [
      "\n"
     ]
    },
    {
     "data": {
      "text/plain": [
       "(array([0, 0, 8, ..., 9, 9, 9], shape=(90000,)),\n",
       " array([0, 0, 0, ..., 9, 9, 9], shape=(90000,)))"
      ]
     },
     "execution_count": 17,
     "metadata": {},
     "output_type": "execute_result"
    }
   ],
   "source": [
    "soft_ensemble(models, cinic_valid)"
   ]
  }
 ],
 "metadata": {
  "kernelspec": {
   "display_name": "Python 3",
   "language": "python",
   "name": "python3"
  },
  "language_info": {
   "codemirror_mode": {
    "name": "ipython",
    "version": 3
   },
   "file_extension": ".py",
   "mimetype": "text/x-python",
   "name": "python",
   "nbconvert_exporter": "python",
   "pygments_lexer": "ipython3",
   "version": "3.11.9"
  }
 },
 "nbformat": 4,
 "nbformat_minor": 2
}
