{
 "cells": [
  {
   "cell_type": "markdown",
   "metadata": {},
   "source": [
    "## Influence of hyper-paramters "
   ]
  },
  {
   "cell_type": "code",
   "execution_count": 61,
   "metadata": {},
   "outputs": [],
   "source": [
    "import torch\n",
    "import torch.nn as nn\n",
    "import torch.optim as optim\n",
    "import torchvision\n",
    "import torchvision.transforms as transforms\n",
    "from torch.utils.data import DataLoader\n",
    "import matplotlib.pyplot as plt\n",
    "import numpy as np\n",
    "from collections import defaultdict\n",
    "from tqdm import tqdm\n",
    "import os\n",
    "from sklearn.metrics import precision_score, recall_score, f1_score, confusion_matrix\n",
    "from common import VGGStyleCNN, load_data\n",
    "from pprint import pprint\n",
    "import warnings\n",
    "warnings.filterwarnings('ignore')"
   ]
  },
  {
   "cell_type": "code",
   "execution_count": 45,
   "metadata": {},
   "outputs": [],
   "source": [
    "def train_model(train_data, directory, num_epochs=10, learning_rate=0.001, dropout_rate=0.5, weight_decay=0, batch_size=128):\n",
    "    train_accuracy = []\n",
    "    train_loss = []\n",
    "    \n",
    "    \n",
    "    device = torch.device(\"xpu\" if torch.xpu.is_available() else \"cpu\")\n",
    "    model = VGGStyleCNN(dropout_rate=dropout_rate).to(device)\n",
    "\n",
    "    criterion = nn.CrossEntropyLoss()\n",
    "    optimizer = optim.Adam(model.parameters(), lr=learning_rate, weight_decay=weight_decay)\n",
    "\n",
    "    for epoch in range(num_epochs):\n",
    "        model.train()\n",
    "        running_loss = 0.0\n",
    "        correct = 0\n",
    "        total = 0\n",
    "\n",
    "        train_loader_tqdm = tqdm(train_data, desc=f\"Epoch {epoch+1}/{num_epochs}\")\n",
    "\n",
    "        for images, labels in train_loader_tqdm:\n",
    "            images, labels = images.to(device), labels.to(device)\n",
    "\n",
    "            optimizer.zero_grad()\n",
    "            outputs = model(images)\n",
    "            loss = criterion(outputs, labels)\n",
    "            loss.backward()\n",
    "            optimizer.step()\n",
    "\n",
    "            running_loss += loss.item()\n",
    "\n",
    "            # Calculate accuracy\n",
    "            _, predicted = torch.max(outputs, 1)\n",
    "            total += labels.size(0)\n",
    "            correct += (predicted == labels).sum().item()\n",
    "\n",
    "            train_loader_tqdm.set_postfix(loss=loss.item())\n",
    "\n",
    "        avg_loss = running_loss / len(train_data)\n",
    "        accuracy = 100 * correct / total\n",
    "\n",
    "        train_accuracy.append(accuracy)\n",
    "        train_loss.append(avg_loss)\n",
    "        \n",
    "        print(f\"Epoch [{epoch+1}/{num_epochs}], Loss: {avg_loss:.4f}, Accuracy: {accuracy:.2f}%\")\n",
    "\n",
    "    # Save the model\n",
    "    model_save_path = f'models/{directory}/lr_{learning_rate}_dropout_{dropout_rate}_wd_{weight_decay}_bs_{batch_size}'\n",
    "    os.makedirs(os.path.dirname(model_save_path), exist_ok=True)  # Create directory if it doesn't exist\n",
    "    torch.save(model.state_dict(), model_save_path)\n",
    "    print(f\"Model saved at: {model_save_path} \\n\")\n",
    "    \n",
    "    return {\n",
    "        'model': model,\n",
    "        'accuracy': train_accuracy,\n",
    "        'loss': train_loss,\n",
    "    }"
   ]
  },
  {
   "cell_type": "code",
   "execution_count": 31,
   "metadata": {},
   "outputs": [],
   "source": [
    "def test_model(test_data , model=None, model_path=''):\n",
    "    device = torch.device(\"xpu\" if torch.xpu.is_available() else \"cpu\")\n",
    "    \n",
    "    if model_path:\n",
    "        torch.load(model_path, map_location=torch.device('xpu'))\n",
    "        model.load_state_dict(torch.load(model_path))\n",
    "    \n",
    "    model.eval()\n",
    "    \n",
    "    correct = 0\n",
    "    total = 0\n",
    "    all_predictions = []\n",
    "    all_labels = []\n",
    "\n",
    "    with torch.no_grad():\n",
    "        for images, labels in test_data:\n",
    "            images, labels = images.to(device), labels.to(device)\n",
    "            outputs = model(images)\n",
    "            _, predicted = torch.max(outputs, 1)\n",
    "\n",
    "            total += labels.size(0)\n",
    "            correct += (predicted == labels).sum().item()\n",
    "\n",
    "            all_predictions.extend(predicted.cpu().numpy())  # Collect predictions\n",
    "            all_labels.extend(labels.cpu().numpy())  # Collect true labels\n",
    "\n",
    "    # Calculate accuracy\n",
    "    accuracy = 100 * correct / total\n",
    "    print(f\"Accuracy on validation set: {accuracy:.2f}%\")\n",
    "\n",
    "    # Calculate additional metrics\n",
    "    precision = precision_score(all_labels, all_predictions, average='weighted')\n",
    "    recall = recall_score(all_labels, all_predictions, average='weighted')\n",
    "    f1 = f1_score(all_labels, all_predictions, average='weighted')\n",
    "    conf_matrix = confusion_matrix(all_labels, all_predictions)\n",
    "\n",
    "    return {\n",
    "        'accuracy': accuracy,\n",
    "        'precision': precision,\n",
    "        'recall': recall,\n",
    "        'f1': f1,\n",
    "        'conf_matrix': conf_matrix\n",
    "    }"
   ]
  },
  {
   "cell_type": "markdown",
   "metadata": {},
   "source": [
    "### Training process"
   ]
  },
  {
   "cell_type": "markdown",
   "metadata": {},
   "source": [
    "#### Learning rate"
   ]
  },
  {
   "cell_type": "code",
   "execution_count": 37,
   "metadata": {},
   "outputs": [],
   "source": [
    "# loading the data\n",
    "loaded_data = load_data()  # default batch_size = 128\n",
    "train_data, test_data = loaded_data['train'], loaded_data['test']"
   ]
  },
  {
   "cell_type": "code",
   "execution_count": 38,
   "metadata": {},
   "outputs": [
    {
     "name": "stdout",
     "output_type": "stream",
     "text": [
      "------Training model with learning_rate: 1e-05-------\n"
     ]
    },
    {
     "name": "stderr",
     "output_type": "stream",
     "text": [
      "Epoch 1/10: 100%|██████████| 704/704 [02:48<00:00,  4.18it/s, loss=1.69]\n"
     ]
    },
    {
     "name": "stdout",
     "output_type": "stream",
     "text": [
      "Epoch [1/10], Loss: 1.7452, Accuracy: 34.46%\n"
     ]
    },
    {
     "name": "stderr",
     "output_type": "stream",
     "text": [
      "Epoch 2/10: 100%|██████████| 704/704 [02:48<00:00,  4.18it/s, loss=1.37]\n"
     ]
    },
    {
     "name": "stdout",
     "output_type": "stream",
     "text": [
      "Epoch [2/10], Loss: 1.4202, Accuracy: 47.46%\n"
     ]
    },
    {
     "name": "stderr",
     "output_type": "stream",
     "text": [
      "Epoch 3/10: 100%|██████████| 704/704 [02:51<00:00,  4.11it/s, loss=1.7]  \n"
     ]
    },
    {
     "name": "stdout",
     "output_type": "stream",
     "text": [
      "Epoch [3/10], Loss: 1.2623, Accuracy: 53.80%\n"
     ]
    },
    {
     "name": "stderr",
     "output_type": "stream",
     "text": [
      "Epoch 4/10: 100%|██████████| 704/704 [02:49<00:00,  4.16it/s, loss=1.08] \n"
     ]
    },
    {
     "name": "stdout",
     "output_type": "stream",
     "text": [
      "Epoch [4/10], Loss: 1.1311, Accuracy: 58.98%\n"
     ]
    },
    {
     "name": "stderr",
     "output_type": "stream",
     "text": [
      "Epoch 5/10: 100%|██████████| 704/704 [02:48<00:00,  4.17it/s, loss=1.2]  \n"
     ]
    },
    {
     "name": "stdout",
     "output_type": "stream",
     "text": [
      "Epoch [5/10], Loss: 0.9953, Accuracy: 64.02%\n"
     ]
    },
    {
     "name": "stderr",
     "output_type": "stream",
     "text": [
      "Epoch 6/10: 100%|██████████| 704/704 [02:48<00:00,  4.17it/s, loss=1.51] \n"
     ]
    },
    {
     "name": "stdout",
     "output_type": "stream",
     "text": [
      "Epoch [6/10], Loss: 0.8452, Accuracy: 69.80%\n"
     ]
    },
    {
     "name": "stderr",
     "output_type": "stream",
     "text": [
      "Epoch 7/10: 100%|██████████| 704/704 [02:55<00:00,  4.02it/s, loss=0.574]\n"
     ]
    },
    {
     "name": "stdout",
     "output_type": "stream",
     "text": [
      "Epoch [7/10], Loss: 0.6731, Accuracy: 76.29%\n"
     ]
    },
    {
     "name": "stderr",
     "output_type": "stream",
     "text": [
      "Epoch 8/10: 100%|██████████| 704/704 [02:57<00:00,  3.97it/s, loss=0.365]\n"
     ]
    },
    {
     "name": "stdout",
     "output_type": "stream",
     "text": [
      "Epoch [8/10], Loss: 0.4961, Accuracy: 82.82%\n"
     ]
    },
    {
     "name": "stderr",
     "output_type": "stream",
     "text": [
      "Epoch 9/10: 100%|██████████| 704/704 [02:58<00:00,  3.94it/s, loss=0.594]\n"
     ]
    },
    {
     "name": "stdout",
     "output_type": "stream",
     "text": [
      "Epoch [9/10], Loss: 0.3425, Accuracy: 88.42%\n"
     ]
    },
    {
     "name": "stderr",
     "output_type": "stream",
     "text": [
      "Epoch 10/10: 100%|██████████| 704/704 [02:55<00:00,  4.00it/s, loss=0.625]\n"
     ]
    },
    {
     "name": "stdout",
     "output_type": "stream",
     "text": [
      "Epoch [10/10], Loss: 0.2192, Accuracy: 92.84%\n",
      "Model saved at: models/lr/lr_1e-05_dropout_0.5_wd_0_bs_128 \n",
      "\n",
      "------Training model with learning_rate: 0.0001-------\n"
     ]
    },
    {
     "name": "stderr",
     "output_type": "stream",
     "text": [
      "Epoch 1/10: 100%|██████████| 704/704 [02:54<00:00,  4.03it/s, loss=1.53] \n"
     ]
    },
    {
     "name": "stdout",
     "output_type": "stream",
     "text": [
      "Epoch [1/10], Loss: 1.4344, Accuracy: 47.23%\n"
     ]
    },
    {
     "name": "stderr",
     "output_type": "stream",
     "text": [
      "Epoch 2/10: 100%|██████████| 704/704 [02:56<00:00,  3.98it/s, loss=1.73] \n"
     ]
    },
    {
     "name": "stdout",
     "output_type": "stream",
     "text": [
      "Epoch [2/10], Loss: 1.0867, Accuracy: 60.91%\n"
     ]
    },
    {
     "name": "stderr",
     "output_type": "stream",
     "text": [
      "Epoch 3/10: 100%|██████████| 704/704 [02:56<00:00,  4.00it/s, loss=1.06] \n"
     ]
    },
    {
     "name": "stdout",
     "output_type": "stream",
     "text": [
      "Epoch [3/10], Loss: 0.9033, Accuracy: 67.84%\n"
     ]
    },
    {
     "name": "stderr",
     "output_type": "stream",
     "text": [
      "Epoch 4/10: 100%|██████████| 704/704 [02:55<00:00,  4.01it/s, loss=0.583]\n"
     ]
    },
    {
     "name": "stdout",
     "output_type": "stream",
     "text": [
      "Epoch [4/10], Loss: 0.7537, Accuracy: 73.09%\n"
     ]
    },
    {
     "name": "stderr",
     "output_type": "stream",
     "text": [
      "Epoch 5/10: 100%|██████████| 704/704 [02:56<00:00,  3.99it/s, loss=0.653]\n"
     ]
    },
    {
     "name": "stdout",
     "output_type": "stream",
     "text": [
      "Epoch [5/10], Loss: 0.6071, Accuracy: 78.21%\n"
     ]
    },
    {
     "name": "stderr",
     "output_type": "stream",
     "text": [
      "Epoch 6/10: 100%|██████████| 704/704 [02:40<00:00,  4.39it/s, loss=0.4]  \n"
     ]
    },
    {
     "name": "stdout",
     "output_type": "stream",
     "text": [
      "Epoch [6/10], Loss: 0.4680, Accuracy: 83.22%\n"
     ]
    },
    {
     "name": "stderr",
     "output_type": "stream",
     "text": [
      "Epoch 7/10: 100%|██████████| 704/704 [02:23<00:00,  4.89it/s, loss=0.605]\n"
     ]
    },
    {
     "name": "stdout",
     "output_type": "stream",
     "text": [
      "Epoch [7/10], Loss: 0.3485, Accuracy: 87.75%\n"
     ]
    },
    {
     "name": "stderr",
     "output_type": "stream",
     "text": [
      "Epoch 8/10: 100%|██████████| 704/704 [02:24<00:00,  4.87it/s, loss=0.171]\n"
     ]
    },
    {
     "name": "stdout",
     "output_type": "stream",
     "text": [
      "Epoch [8/10], Loss: 0.2595, Accuracy: 90.90%\n"
     ]
    },
    {
     "name": "stderr",
     "output_type": "stream",
     "text": [
      "Epoch 9/10: 100%|██████████| 704/704 [02:26<00:00,  4.81it/s, loss=0.0443]\n"
     ]
    },
    {
     "name": "stdout",
     "output_type": "stream",
     "text": [
      "Epoch [9/10], Loss: 0.1956, Accuracy: 93.23%\n"
     ]
    },
    {
     "name": "stderr",
     "output_type": "stream",
     "text": [
      "Epoch 10/10: 100%|██████████| 704/704 [02:25<00:00,  4.84it/s, loss=0.0728]\n"
     ]
    },
    {
     "name": "stdout",
     "output_type": "stream",
     "text": [
      "Epoch [10/10], Loss: 0.1571, Accuracy: 94.54%\n",
      "Model saved at: models/lr/lr_0.0001_dropout_0.5_wd_0_bs_128 \n",
      "\n",
      "------Training model with learning_rate: 0.001-------\n"
     ]
    },
    {
     "name": "stderr",
     "output_type": "stream",
     "text": [
      "Epoch 1/10: 100%|██████████| 704/704 [02:24<00:00,  4.89it/s, loss=1.38]\n"
     ]
    },
    {
     "name": "stdout",
     "output_type": "stream",
     "text": [
      "Epoch [1/10], Loss: 1.6370, Accuracy: 39.32%\n"
     ]
    },
    {
     "name": "stderr",
     "output_type": "stream",
     "text": [
      "Epoch 2/10: 100%|██████████| 704/704 [02:23<00:00,  4.90it/s, loss=1.64] \n"
     ]
    },
    {
     "name": "stdout",
     "output_type": "stream",
     "text": [
      "Epoch [2/10], Loss: 1.2947, Accuracy: 54.20%\n"
     ]
    },
    {
     "name": "stderr",
     "output_type": "stream",
     "text": [
      "Epoch 3/10: 100%|██████████| 704/704 [02:23<00:00,  4.90it/s, loss=1.22] \n"
     ]
    },
    {
     "name": "stdout",
     "output_type": "stream",
     "text": [
      "Epoch [3/10], Loss: 1.1227, Accuracy: 60.86%\n"
     ]
    },
    {
     "name": "stderr",
     "output_type": "stream",
     "text": [
      "Epoch 4/10: 100%|██████████| 704/704 [02:23<00:00,  4.90it/s, loss=0.623]\n"
     ]
    },
    {
     "name": "stdout",
     "output_type": "stream",
     "text": [
      "Epoch [4/10], Loss: 1.0006, Accuracy: 65.76%\n"
     ]
    },
    {
     "name": "stderr",
     "output_type": "stream",
     "text": [
      "Epoch 5/10: 100%|██████████| 704/704 [02:23<00:00,  4.91it/s, loss=0.42] \n"
     ]
    },
    {
     "name": "stdout",
     "output_type": "stream",
     "text": [
      "Epoch [5/10], Loss: 0.9929, Accuracy: 66.65%\n"
     ]
    },
    {
     "name": "stderr",
     "output_type": "stream",
     "text": [
      "Epoch 6/10: 100%|██████████| 704/704 [02:23<00:00,  4.90it/s, loss=1.57] \n"
     ]
    },
    {
     "name": "stdout",
     "output_type": "stream",
     "text": [
      "Epoch [6/10], Loss: 0.8114, Accuracy: 72.21%\n"
     ]
    },
    {
     "name": "stderr",
     "output_type": "stream",
     "text": [
      "Epoch 7/10: 100%|██████████| 704/704 [02:24<00:00,  4.86it/s, loss=0.567]\n"
     ]
    },
    {
     "name": "stdout",
     "output_type": "stream",
     "text": [
      "Epoch [7/10], Loss: 0.7840, Accuracy: 73.28%\n"
     ]
    },
    {
     "name": "stderr",
     "output_type": "stream",
     "text": [
      "Epoch 8/10: 100%|██████████| 704/704 [02:23<00:00,  4.90it/s, loss=2.35] \n"
     ]
    },
    {
     "name": "stdout",
     "output_type": "stream",
     "text": [
      "Epoch [8/10], Loss: 0.6804, Accuracy: 76.61%\n"
     ]
    },
    {
     "name": "stderr",
     "output_type": "stream",
     "text": [
      "Epoch 9/10: 100%|██████████| 704/704 [02:24<00:00,  4.86it/s, loss=0.802]\n"
     ]
    },
    {
     "name": "stdout",
     "output_type": "stream",
     "text": [
      "Epoch [9/10], Loss: 0.6175, Accuracy: 79.02%\n"
     ]
    },
    {
     "name": "stderr",
     "output_type": "stream",
     "text": [
      "Epoch 10/10: 100%|██████████| 704/704 [02:24<00:00,  4.88it/s, loss=1.96] \n"
     ]
    },
    {
     "name": "stdout",
     "output_type": "stream",
     "text": [
      "Epoch [10/10], Loss: 0.5501, Accuracy: 81.10%\n",
      "Model saved at: models/lr/lr_0.001_dropout_0.5_wd_0_bs_128 \n",
      "\n",
      "------Training model with learning_rate: 0.01-------\n"
     ]
    },
    {
     "name": "stderr",
     "output_type": "stream",
     "text": [
      "Epoch 1/10: 100%|██████████| 704/704 [02:23<00:00,  4.90it/s, loss=2.3] \n"
     ]
    },
    {
     "name": "stdout",
     "output_type": "stream",
     "text": [
      "Epoch [1/10], Loss: 4.9353, Accuracy: 9.95%\n"
     ]
    },
    {
     "name": "stderr",
     "output_type": "stream",
     "text": [
      "Epoch 2/10: 100%|██████████| 704/704 [02:23<00:00,  4.90it/s, loss=2.31]\n"
     ]
    },
    {
     "name": "stdout",
     "output_type": "stream",
     "text": [
      "Epoch [2/10], Loss: 2.3366, Accuracy: 10.06%\n"
     ]
    },
    {
     "name": "stderr",
     "output_type": "stream",
     "text": [
      "Epoch 3/10: 100%|██████████| 704/704 [02:25<00:00,  4.84it/s, loss=2.31]\n"
     ]
    },
    {
     "name": "stdout",
     "output_type": "stream",
     "text": [
      "Epoch [3/10], Loss: 2.3283, Accuracy: 9.77%\n"
     ]
    },
    {
     "name": "stderr",
     "output_type": "stream",
     "text": [
      "Epoch 4/10: 100%|██████████| 704/704 [02:25<00:00,  4.83it/s, loss=2.3] \n"
     ]
    },
    {
     "name": "stdout",
     "output_type": "stream",
     "text": [
      "Epoch [4/10], Loss: 2.3296, Accuracy: 10.00%\n"
     ]
    },
    {
     "name": "stderr",
     "output_type": "stream",
     "text": [
      "Epoch 5/10: 100%|██████████| 704/704 [02:24<00:00,  4.87it/s, loss=2.31]\n"
     ]
    },
    {
     "name": "stdout",
     "output_type": "stream",
     "text": [
      "Epoch [5/10], Loss: 2.3317, Accuracy: 9.89%\n"
     ]
    },
    {
     "name": "stderr",
     "output_type": "stream",
     "text": [
      "Epoch 6/10: 100%|██████████| 704/704 [02:26<00:00,  4.80it/s, loss=2.3] \n"
     ]
    },
    {
     "name": "stdout",
     "output_type": "stream",
     "text": [
      "Epoch [6/10], Loss: 2.3091, Accuracy: 9.96%\n"
     ]
    },
    {
     "name": "stderr",
     "output_type": "stream",
     "text": [
      "Epoch 7/10: 100%|██████████| 704/704 [02:24<00:00,  4.89it/s, loss=2.3] \n"
     ]
    },
    {
     "name": "stdout",
     "output_type": "stream",
     "text": [
      "Epoch [7/10], Loss: 2.3336, Accuracy: 9.99%\n"
     ]
    },
    {
     "name": "stderr",
     "output_type": "stream",
     "text": [
      "Epoch 8/10: 100%|██████████| 704/704 [02:23<00:00,  4.92it/s, loss=2.31]\n"
     ]
    },
    {
     "name": "stdout",
     "output_type": "stream",
     "text": [
      "Epoch [8/10], Loss: 2.3059, Accuracy: 9.91%\n"
     ]
    },
    {
     "name": "stderr",
     "output_type": "stream",
     "text": [
      "Epoch 9/10: 100%|██████████| 704/704 [02:22<00:00,  4.93it/s, loss=2.29]\n"
     ]
    },
    {
     "name": "stdout",
     "output_type": "stream",
     "text": [
      "Epoch [9/10], Loss: 2.3167, Accuracy: 10.07%\n"
     ]
    },
    {
     "name": "stderr",
     "output_type": "stream",
     "text": [
      "Epoch 10/10: 100%|██████████| 704/704 [02:22<00:00,  4.92it/s, loss=2.3] \n"
     ]
    },
    {
     "name": "stdout",
     "output_type": "stream",
     "text": [
      "Epoch [10/10], Loss: 2.3062, Accuracy: 9.92%\n",
      "Model saved at: models/lr/lr_0.01_dropout_0.5_wd_0_bs_128 \n",
      "\n",
      "------Training model with learning_rate: 0.1-------\n"
     ]
    },
    {
     "name": "stderr",
     "output_type": "stream",
     "text": [
      "Epoch 1/10: 100%|██████████| 704/704 [02:23<00:00,  4.92it/s, loss=2.34]  \n"
     ]
    },
    {
     "name": "stdout",
     "output_type": "stream",
     "text": [
      "Epoch [1/10], Loss: 1813.3239, Accuracy: 9.83%\n"
     ]
    },
    {
     "name": "stderr",
     "output_type": "stream",
     "text": [
      "Epoch 2/10: 100%|██████████| 704/704 [02:23<00:00,  4.92it/s, loss=2.35]\n"
     ]
    },
    {
     "name": "stdout",
     "output_type": "stream",
     "text": [
      "Epoch [2/10], Loss: 2.3084, Accuracy: 9.82%\n"
     ]
    },
    {
     "name": "stderr",
     "output_type": "stream",
     "text": [
      "Epoch 3/10: 100%|██████████| 704/704 [02:23<00:00,  4.92it/s, loss=2.29]\n"
     ]
    },
    {
     "name": "stdout",
     "output_type": "stream",
     "text": [
      "Epoch [3/10], Loss: 2.3088, Accuracy: 9.88%\n"
     ]
    },
    {
     "name": "stderr",
     "output_type": "stream",
     "text": [
      "Epoch 4/10: 100%|██████████| 704/704 [02:23<00:00,  4.90it/s, loss=2.3] \n"
     ]
    },
    {
     "name": "stdout",
     "output_type": "stream",
     "text": [
      "Epoch [4/10], Loss: 2.3088, Accuracy: 9.90%\n"
     ]
    },
    {
     "name": "stderr",
     "output_type": "stream",
     "text": [
      "Epoch 5/10: 100%|██████████| 704/704 [02:24<00:00,  4.88it/s, loss=2.28]\n"
     ]
    },
    {
     "name": "stdout",
     "output_type": "stream",
     "text": [
      "Epoch [5/10], Loss: 2.3092, Accuracy: 9.72%\n"
     ]
    },
    {
     "name": "stderr",
     "output_type": "stream",
     "text": [
      "Epoch 6/10: 100%|██████████| 704/704 [02:23<00:00,  4.91it/s, loss=2.35]\n"
     ]
    },
    {
     "name": "stdout",
     "output_type": "stream",
     "text": [
      "Epoch [6/10], Loss: 2.3087, Accuracy: 10.08%\n"
     ]
    },
    {
     "name": "stderr",
     "output_type": "stream",
     "text": [
      "Epoch 7/10: 100%|██████████| 704/704 [02:23<00:00,  4.92it/s, loss=2.32]\n"
     ]
    },
    {
     "name": "stdout",
     "output_type": "stream",
     "text": [
      "Epoch [7/10], Loss: 2.3086, Accuracy: 9.83%\n"
     ]
    },
    {
     "name": "stderr",
     "output_type": "stream",
     "text": [
      "Epoch 8/10: 100%|██████████| 704/704 [02:23<00:00,  4.92it/s, loss=2.31]\n"
     ]
    },
    {
     "name": "stdout",
     "output_type": "stream",
     "text": [
      "Epoch [8/10], Loss: 2.3088, Accuracy: 10.01%\n"
     ]
    },
    {
     "name": "stderr",
     "output_type": "stream",
     "text": [
      "Epoch 9/10: 100%|██████████| 704/704 [02:23<00:00,  4.92it/s, loss=2.3] \n"
     ]
    },
    {
     "name": "stdout",
     "output_type": "stream",
     "text": [
      "Epoch [9/10], Loss: 2.3163, Accuracy: 9.99%\n"
     ]
    },
    {
     "name": "stderr",
     "output_type": "stream",
     "text": [
      "Epoch 10/10: 100%|██████████| 704/704 [02:23<00:00,  4.92it/s, loss=2.3] \n"
     ]
    },
    {
     "name": "stdout",
     "output_type": "stream",
     "text": [
      "Epoch [10/10], Loss: 2.3088, Accuracy: 10.06%\n",
      "Model saved at: models/lr/lr_0.1_dropout_0.5_wd_0_bs_128 \n",
      "\n"
     ]
    }
   ],
   "source": [
    "# Training models\n",
    "learning_rates = [0.00001, 0.0001, 0.001, 0.01, 0.1]\n",
    "models_lr = []\n",
    "\n",
    "\n",
    "for lr in learning_rates:\n",
    "    print(f'------Training model with learning_rate: {lr}-------')\n",
    "    train_results = train_model(train_data, directory='lr', num_epochs=10, learning_rate=lr)\n",
    "    models_lr.append(train_results)"
   ]
  },
  {
   "cell_type": "code",
   "execution_count": 40,
   "metadata": {},
   "outputs": [
    {
     "name": "stdout",
     "output_type": "stream",
     "text": [
      "-----Results for learning rate: 1e-05-----\n",
      "Accuracy on validation set: 53.44%\n",
      "{'accuracy': 53.43555555555555,\n",
      " 'conf_matrix': array([[5990,  441,  582,  161,  193,  164,   96,  162,  915,  296],\n",
      "       [ 310, 6042,   92,  143,  129,  188,  106,  201,  398, 1391],\n",
      "       [ 559,  140, 4131,  940,  972,  719,  857,  270,  340,   72],\n",
      "       [ 121,  157,  763, 3604, 1233, 1524,  909,  404,  204,   81],\n",
      "       [ 210,  118,  936,  947, 4127,  804,  439, 1126,  216,   77],\n",
      "       [ 122,  187,  785, 1880, 1423, 3016,  390,  879,  219,   99],\n",
      "       [  50,   98,  750, 1058,  562,  355, 5907,   70,  118,   32],\n",
      "       [ 171,  155,  341,  416, 1295,  844,   85, 5372,  145,  176],\n",
      "       [1023,  712,  376,  304,  273,  241,  171,  178, 5222,  500],\n",
      "       [ 394, 2229,  102,  233,  187,  251,   89,  341,  493, 4681]]),\n",
      " 'f1': 0.5347587663123766,\n",
      " 'precision': 0.5377690378257005,\n",
      " 'recall': 0.5343555555555556}\n",
      "\n",
      "-----Results for learning rate: 0.0001-----\n",
      "Accuracy on validation set: 68.37%\n",
      "{'accuracy': 68.36555555555556,\n",
      " 'conf_matrix': array([[7194,  194,  294,   99,   86,   61,   38,  105,  711,  218],\n",
      "       [ 156, 6468,   40,   70,   31,   52,   57,   57,  330, 1739],\n",
      "       [ 458,   63, 5806,  552,  595,  335,  627,  190,  333,   41],\n",
      "       [ 147,  108,  614, 4900,  830, 1089,  775,  261,  167,  109],\n",
      "       [ 174,   51,  581,  704, 5732,  532,  310,  642,  179,   95],\n",
      "       [ 126,  138,  558, 1919, 1207, 3718,  322,  698,  178,  136],\n",
      "       [  52,   52,  556,  485,  228,  185, 7283,   36,  108,   15],\n",
      "       [ 164,  141,  176,  295, 1012,  361,   50, 6552,  113,  136],\n",
      "       [ 574,  311,  192,  147,  125,   89,   63,   80, 7144,  275],\n",
      "       [ 254, 1181,   52,   91,   95,   71,   41,  104,  379, 6732]]),\n",
      " 'f1': 0.6806741262916268,\n",
      " 'precision': 0.6811526936148138,\n",
      " 'recall': 0.6836555555555556}\n",
      "\n",
      "-----Results for learning rate: 0.001-----\n",
      "Accuracy on validation set: 73.67%\n",
      "{'accuracy': 73.67111111111112,\n",
      " 'conf_matrix': array([[7340,  177,  164,   65,   78,   44,   16,  101,  813,  202],\n",
      "       [  97, 7285,   24,   26,   14,   40,    5,   52,  381, 1076],\n",
      "       [ 516,   74, 6263,  341,  367,  445,  433,  210,  323,   28],\n",
      "       [  66,   75,  441, 5134,  482, 1808,  353,  379,  189,   73],\n",
      "       [ 100,   40,  557,  429, 5891,  724,  219,  721,  270,   49],\n",
      "       [  71,   95,  423,  961,  811, 5433,  113,  768,  244,   81],\n",
      "       [  50,   99,  520,  506,   83,  236, 7270,   55,  159,   22],\n",
      "       [  96,   70,  113,  115,  563,  444,   17, 7246,  218,  118],\n",
      "       [ 312,  246,  176,   64,   66,   41,   34,   71, 7805,  185],\n",
      "       [ 143, 1416,   33,   58,   43,   38,   18,  117,  497, 6637]]),\n",
      " 'f1': 0.7354237714374611,\n",
      " 'precision': 0.7372431442210889,\n",
      " 'recall': 0.7367111111111111}\n",
      "\n",
      "-----Results for learning rate: 0.01-----\n",
      "Accuracy on validation set: 10.00%\n",
      "{'accuracy': 10.0,\n",
      " 'conf_matrix': array([[   0,    0,    0,    0,    0, 9000,    0,    0,    0,    0],\n",
      "       [   0,    0,    0,    0,    0, 9000,    0,    0,    0,    0],\n",
      "       [   0,    0,    0,    0,    0, 9000,    0,    0,    0,    0],\n",
      "       [   0,    0,    0,    0,    0, 9000,    0,    0,    0,    0],\n",
      "       [   0,    0,    0,    0,    0, 9000,    0,    0,    0,    0],\n",
      "       [   0,    0,    0,    0,    0, 9000,    0,    0,    0,    0],\n",
      "       [   0,    0,    0,    0,    0, 9000,    0,    0,    0,    0],\n",
      "       [   0,    0,    0,    0,    0, 9000,    0,    0,    0,    0],\n",
      "       [   0,    0,    0,    0,    0, 9000,    0,    0,    0,    0],\n",
      "       [   0,    0,    0,    0,    0, 9000,    0,    0,    0,    0]]),\n",
      " 'f1': 0.018181818181818184,\n",
      " 'precision': 0.01,\n",
      " 'recall': 0.1}\n",
      "\n",
      "-----Results for learning rate: 0.1-----\n"
     ]
    },
    {
     "name": "stderr",
     "output_type": "stream",
     "text": [
      "c:\\Users\\zp13279\\.conda\\envs\\pytorch-intel\\Lib\\site-packages\\sklearn\\metrics\\_classification.py:1565: UndefinedMetricWarning: Precision is ill-defined and being set to 0.0 in labels with no predicted samples. Use `zero_division` parameter to control this behavior.\n",
      "  _warn_prf(average, modifier, f\"{metric.capitalize()} is\", len(result))\n"
     ]
    },
    {
     "name": "stdout",
     "output_type": "stream",
     "text": [
      "Accuracy on validation set: 10.01%\n",
      "{'accuracy': 10.006666666666666,\n",
      " 'conf_matrix': array([[   4,    0,    0,    0,    0,    0,    0, 8961,   35,    0],\n",
      "       [   1,    0,    0,    0,    0,    0,    0, 8997,    2,    0],\n",
      "       [   1,    0,    0,    0,    0,    0,    0, 8972,   27,    0],\n",
      "       [   0,    0,    0,    0,    0,    0,    0, 8992,    8,    0],\n",
      "       [   0,    0,    0,    0,    0,    0,    0, 8999,    1,    0],\n",
      "       [   0,    0,    0,    0,    0,    0,    0, 8986,   14,    0],\n",
      "       [   0,    0,    0,    0,    0,    0,    0, 8978,   22,    0],\n",
      "       [   0,    0,    0,    0,    0,    0,    0, 8998,    2,    0],\n",
      "       [   0,    0,    0,    0,    0,    0,    0, 8996,    4,    0],\n",
      "       [   1,    0,    0,    0,    0,    0,    0, 8997,    2,    0]]),\n",
      " 'f1': 0.01837714242648527,\n",
      " 'precision': 0.0705732320601696,\n",
      " 'recall': 0.10006666666666666}\n",
      "\n"
     ]
    },
    {
     "name": "stderr",
     "output_type": "stream",
     "text": [
      "c:\\Users\\zp13279\\.conda\\envs\\pytorch-intel\\Lib\\site-packages\\sklearn\\metrics\\_classification.py:1565: UndefinedMetricWarning: Precision is ill-defined and being set to 0.0 in labels with no predicted samples. Use `zero_division` parameter to control this behavior.\n",
      "  _warn_prf(average, modifier, f\"{metric.capitalize()} is\", len(result))\n"
     ]
    }
   ],
   "source": [
    "tests_lr = []\n",
    "for train_results, lr in zip(models_lr, learning_rates):\n",
    "    print(f\"-----Results for learning rate: {lr}-----\")\n",
    "    test_results = test_model(test_data, train_results['model'])\n",
    "    tests_lr.append(test_results)\n",
    "    pprint(test_results)\n",
    "    print()"
   ]
  },
  {
   "cell_type": "markdown",
   "metadata": {},
   "source": [
    "#### Batch size"
   ]
  },
  {
   "cell_type": "code",
   "execution_count": 43,
   "metadata": {},
   "outputs": [],
   "source": [
    "batch_sizes = [16, 32, 64, 128, 256]\n",
    "models_bs = []\n",
    "test_data_bs = []"
   ]
  },
  {
   "cell_type": "code",
   "execution_count": 46,
   "metadata": {},
   "outputs": [
    {
     "name": "stdout",
     "output_type": "stream",
     "text": [
      "------Training model with batch size: 16-------\n"
     ]
    },
    {
     "name": "stderr",
     "output_type": "stream",
     "text": [
      "Epoch 1/10: 100%|██████████| 5625/5625 [05:57<00:00, 15.74it/s, loss=1.84]\n"
     ]
    },
    {
     "name": "stdout",
     "output_type": "stream",
     "text": [
      "Epoch [1/10], Loss: 1.9999, Accuracy: 25.70%\n"
     ]
    },
    {
     "name": "stderr",
     "output_type": "stream",
     "text": [
      "Epoch 2/10: 100%|██████████| 5625/5625 [05:55<00:00, 15.84it/s, loss=1.55] \n"
     ]
    },
    {
     "name": "stdout",
     "output_type": "stream",
     "text": [
      "Epoch [2/10], Loss: 1.6911, Accuracy: 36.74%\n"
     ]
    },
    {
     "name": "stderr",
     "output_type": "stream",
     "text": [
      "Epoch 3/10: 100%|██████████| 5625/5625 [05:54<00:00, 15.85it/s, loss=0.672]\n"
     ]
    },
    {
     "name": "stdout",
     "output_type": "stream",
     "text": [
      "Epoch [3/10], Loss: 1.4421, Accuracy: 46.76%\n"
     ]
    },
    {
     "name": "stderr",
     "output_type": "stream",
     "text": [
      "Epoch 4/10: 100%|██████████| 5625/5625 [05:55<00:00, 15.83it/s, loss=1.17] \n"
     ]
    },
    {
     "name": "stdout",
     "output_type": "stream",
     "text": [
      "Epoch [4/10], Loss: 1.3045, Accuracy: 52.81%\n"
     ]
    },
    {
     "name": "stderr",
     "output_type": "stream",
     "text": [
      "Epoch 5/10: 100%|██████████| 5625/5625 [05:58<00:00, 15.70it/s, loss=1.28] \n"
     ]
    },
    {
     "name": "stdout",
     "output_type": "stream",
     "text": [
      "Epoch [5/10], Loss: 1.2277, Accuracy: 56.12%\n"
     ]
    },
    {
     "name": "stderr",
     "output_type": "stream",
     "text": [
      "Epoch 6/10: 100%|██████████| 5625/5625 [05:56<00:00, 15.76it/s, loss=1.52] \n"
     ]
    },
    {
     "name": "stdout",
     "output_type": "stream",
     "text": [
      "Epoch [6/10], Loss: 1.1443, Accuracy: 59.45%\n"
     ]
    },
    {
     "name": "stderr",
     "output_type": "stream",
     "text": [
      "Epoch 7/10: 100%|██████████| 5625/5625 [05:55<00:00, 15.83it/s, loss=1.23] \n"
     ]
    },
    {
     "name": "stdout",
     "output_type": "stream",
     "text": [
      "Epoch [7/10], Loss: 1.0885, Accuracy: 61.66%\n"
     ]
    },
    {
     "name": "stderr",
     "output_type": "stream",
     "text": [
      "Epoch 8/10: 100%|██████████| 5625/5625 [05:56<00:00, 15.80it/s, loss=0.923]\n"
     ]
    },
    {
     "name": "stdout",
     "output_type": "stream",
     "text": [
      "Epoch [8/10], Loss: 1.0306, Accuracy: 63.90%\n"
     ]
    },
    {
     "name": "stderr",
     "output_type": "stream",
     "text": [
      "Epoch 9/10: 100%|██████████| 5625/5625 [05:57<00:00, 15.75it/s, loss=0.932]\n"
     ]
    },
    {
     "name": "stdout",
     "output_type": "stream",
     "text": [
      "Epoch [9/10], Loss: 0.9783, Accuracy: 66.12%\n"
     ]
    },
    {
     "name": "stderr",
     "output_type": "stream",
     "text": [
      "Epoch 10/10: 100%|██████████| 5625/5625 [05:57<00:00, 15.76it/s, loss=1.12] \n"
     ]
    },
    {
     "name": "stdout",
     "output_type": "stream",
     "text": [
      "Epoch [10/10], Loss: 0.9427, Accuracy: 67.45%\n",
      "Model saved at: models/bs/lr_0.001_dropout_0.5_wd_0_bs_16 \n",
      "\n",
      "------Training model with batch size: 32-------\n"
     ]
    },
    {
     "name": "stderr",
     "output_type": "stream",
     "text": [
      "Epoch 1/10: 100%|██████████| 2813/2813 [04:00<00:00, 11.69it/s, loss=1.37]\n"
     ]
    },
    {
     "name": "stdout",
     "output_type": "stream",
     "text": [
      "Epoch [1/10], Loss: 1.7995, Accuracy: 33.59%\n"
     ]
    },
    {
     "name": "stderr",
     "output_type": "stream",
     "text": [
      "Epoch 2/10: 100%|██████████| 2813/2813 [03:58<00:00, 11.82it/s, loss=1.71] \n"
     ]
    },
    {
     "name": "stdout",
     "output_type": "stream",
     "text": [
      "Epoch [2/10], Loss: 1.4719, Accuracy: 46.00%\n"
     ]
    },
    {
     "name": "stderr",
     "output_type": "stream",
     "text": [
      "Epoch 3/10: 100%|██████████| 2813/2813 [03:56<00:00, 11.88it/s, loss=1.32] \n"
     ]
    },
    {
     "name": "stdout",
     "output_type": "stream",
     "text": [
      "Epoch [3/10], Loss: 1.3725, Accuracy: 50.93%\n"
     ]
    },
    {
     "name": "stderr",
     "output_type": "stream",
     "text": [
      "Epoch 4/10: 100%|██████████| 2813/2813 [03:56<00:00, 11.92it/s, loss=0.776]\n"
     ]
    },
    {
     "name": "stdout",
     "output_type": "stream",
     "text": [
      "Epoch [4/10], Loss: 1.2366, Accuracy: 56.01%\n"
     ]
    },
    {
     "name": "stderr",
     "output_type": "stream",
     "text": [
      "Epoch 5/10: 100%|██████████| 2813/2813 [03:56<00:00, 11.89it/s, loss=0.964]\n"
     ]
    },
    {
     "name": "stdout",
     "output_type": "stream",
     "text": [
      "Epoch [5/10], Loss: 1.1740, Accuracy: 58.31%\n"
     ]
    },
    {
     "name": "stderr",
     "output_type": "stream",
     "text": [
      "Epoch 6/10: 100%|██████████| 2813/2813 [03:56<00:00, 11.92it/s, loss=0.576]\n"
     ]
    },
    {
     "name": "stdout",
     "output_type": "stream",
     "text": [
      "Epoch [6/10], Loss: 1.0296, Accuracy: 63.83%\n"
     ]
    },
    {
     "name": "stderr",
     "output_type": "stream",
     "text": [
      "Epoch 7/10: 100%|██████████| 2813/2813 [03:56<00:00, 11.90it/s, loss=1.19] \n"
     ]
    },
    {
     "name": "stdout",
     "output_type": "stream",
     "text": [
      "Epoch [7/10], Loss: 0.9473, Accuracy: 66.83%\n"
     ]
    },
    {
     "name": "stderr",
     "output_type": "stream",
     "text": [
      "Epoch 8/10: 100%|██████████| 2813/2813 [03:55<00:00, 11.92it/s, loss=1.36] \n"
     ]
    },
    {
     "name": "stdout",
     "output_type": "stream",
     "text": [
      "Epoch [8/10], Loss: 0.8761, Accuracy: 69.34%\n"
     ]
    },
    {
     "name": "stderr",
     "output_type": "stream",
     "text": [
      "Epoch 9/10: 100%|██████████| 2813/2813 [03:55<00:00, 11.94it/s, loss=1.01] \n"
     ]
    },
    {
     "name": "stdout",
     "output_type": "stream",
     "text": [
      "Epoch [9/10], Loss: 0.8083, Accuracy: 72.04%\n"
     ]
    },
    {
     "name": "stderr",
     "output_type": "stream",
     "text": [
      "Epoch 10/10: 100%|██████████| 2813/2813 [03:54<00:00, 11.98it/s, loss=0.656]\n"
     ]
    },
    {
     "name": "stdout",
     "output_type": "stream",
     "text": [
      "Epoch [10/10], Loss: 0.7404, Accuracy: 74.25%\n",
      "Model saved at: models/bs/lr_0.001_dropout_0.5_wd_0_bs_32 \n",
      "\n",
      "------Training model with batch size: 64-------\n"
     ]
    },
    {
     "name": "stderr",
     "output_type": "stream",
     "text": [
      "Epoch 1/10: 100%|██████████| 1407/1407 [02:57<00:00,  7.91it/s, loss=1.15]\n"
     ]
    },
    {
     "name": "stdout",
     "output_type": "stream",
     "text": [
      "Epoch [1/10], Loss: 1.6934, Accuracy: 37.51%\n"
     ]
    },
    {
     "name": "stderr",
     "output_type": "stream",
     "text": [
      "Epoch 2/10: 100%|██████████| 1407/1407 [02:56<00:00,  7.98it/s, loss=1.76] \n"
     ]
    },
    {
     "name": "stdout",
     "output_type": "stream",
     "text": [
      "Epoch [2/10], Loss: 1.3701, Accuracy: 50.62%\n"
     ]
    },
    {
     "name": "stderr",
     "output_type": "stream",
     "text": [
      "Epoch 3/10: 100%|██████████| 1407/1407 [02:55<00:00,  8.00it/s, loss=0.72] \n"
     ]
    },
    {
     "name": "stdout",
     "output_type": "stream",
     "text": [
      "Epoch [3/10], Loss: 1.2102, Accuracy: 57.56%\n"
     ]
    },
    {
     "name": "stderr",
     "output_type": "stream",
     "text": [
      "Epoch 4/10: 100%|██████████| 1407/1407 [02:56<00:00,  7.96it/s, loss=1.26] \n"
     ]
    },
    {
     "name": "stdout",
     "output_type": "stream",
     "text": [
      "Epoch [4/10], Loss: 1.0897, Accuracy: 62.03%\n"
     ]
    },
    {
     "name": "stderr",
     "output_type": "stream",
     "text": [
      "Epoch 5/10: 100%|██████████| 1407/1407 [02:55<00:00,  8.03it/s, loss=0.52] \n"
     ]
    },
    {
     "name": "stdout",
     "output_type": "stream",
     "text": [
      "Epoch [5/10], Loss: 0.9445, Accuracy: 67.22%\n"
     ]
    },
    {
     "name": "stderr",
     "output_type": "stream",
     "text": [
      "Epoch 6/10: 100%|██████████| 1407/1407 [02:55<00:00,  8.01it/s, loss=0.504]\n"
     ]
    },
    {
     "name": "stdout",
     "output_type": "stream",
     "text": [
      "Epoch [6/10], Loss: 0.8355, Accuracy: 70.87%\n"
     ]
    },
    {
     "name": "stderr",
     "output_type": "stream",
     "text": [
      "Epoch 7/10: 100%|██████████| 1407/1407 [02:55<00:00,  8.02it/s, loss=0.731]\n"
     ]
    },
    {
     "name": "stdout",
     "output_type": "stream",
     "text": [
      "Epoch [7/10], Loss: 0.7988, Accuracy: 72.58%\n"
     ]
    },
    {
     "name": "stderr",
     "output_type": "stream",
     "text": [
      "Epoch 8/10: 100%|██████████| 1407/1407 [02:56<00:00,  7.97it/s, loss=1.7]  \n"
     ]
    },
    {
     "name": "stdout",
     "output_type": "stream",
     "text": [
      "Epoch [8/10], Loss: 0.7039, Accuracy: 75.77%\n"
     ]
    },
    {
     "name": "stderr",
     "output_type": "stream",
     "text": [
      "Epoch 9/10: 100%|██████████| 1407/1407 [02:56<00:00,  7.99it/s, loss=0.386]\n"
     ]
    },
    {
     "name": "stdout",
     "output_type": "stream",
     "text": [
      "Epoch [9/10], Loss: 0.6161, Accuracy: 78.76%\n"
     ]
    },
    {
     "name": "stderr",
     "output_type": "stream",
     "text": [
      "Epoch 10/10: 100%|██████████| 1407/1407 [02:56<00:00,  7.96it/s, loss=0.397]\n"
     ]
    },
    {
     "name": "stdout",
     "output_type": "stream",
     "text": [
      "Epoch [10/10], Loss: 0.5537, Accuracy: 80.89%\n",
      "Model saved at: models/bs/lr_0.001_dropout_0.5_wd_0_bs_64 \n",
      "\n",
      "------Training model with batch size: 128-------\n"
     ]
    },
    {
     "name": "stderr",
     "output_type": "stream",
     "text": [
      "Epoch 1/10: 100%|██████████| 704/704 [02:26<00:00,  4.81it/s, loss=2.14]\n"
     ]
    },
    {
     "name": "stdout",
     "output_type": "stream",
     "text": [
      "Epoch [1/10], Loss: 1.6376, Accuracy: 39.70%\n"
     ]
    },
    {
     "name": "stderr",
     "output_type": "stream",
     "text": [
      "Epoch 2/10: 100%|██████████| 704/704 [02:25<00:00,  4.84it/s, loss=1.63] \n"
     ]
    },
    {
     "name": "stdout",
     "output_type": "stream",
     "text": [
      "Epoch [2/10], Loss: 1.2817, Accuracy: 54.56%\n"
     ]
    },
    {
     "name": "stderr",
     "output_type": "stream",
     "text": [
      "Epoch 3/10: 100%|██████████| 704/704 [02:24<00:00,  4.86it/s, loss=4.36] \n"
     ]
    },
    {
     "name": "stdout",
     "output_type": "stream",
     "text": [
      "Epoch [3/10], Loss: 1.1031, Accuracy: 61.89%\n"
     ]
    },
    {
     "name": "stderr",
     "output_type": "stream",
     "text": [
      "Epoch 4/10: 100%|██████████| 704/704 [02:24<00:00,  4.86it/s, loss=0.99] \n"
     ]
    },
    {
     "name": "stdout",
     "output_type": "stream",
     "text": [
      "Epoch [4/10], Loss: 1.0586, Accuracy: 63.82%\n"
     ]
    },
    {
     "name": "stderr",
     "output_type": "stream",
     "text": [
      "Epoch 5/10: 100%|██████████| 704/704 [02:24<00:00,  4.88it/s, loss=1.28] \n"
     ]
    },
    {
     "name": "stdout",
     "output_type": "stream",
     "text": [
      "Epoch [5/10], Loss: 0.9082, Accuracy: 69.17%\n"
     ]
    },
    {
     "name": "stderr",
     "output_type": "stream",
     "text": [
      "Epoch 6/10: 100%|██████████| 704/704 [02:24<00:00,  4.88it/s, loss=0.855]\n"
     ]
    },
    {
     "name": "stdout",
     "output_type": "stream",
     "text": [
      "Epoch [6/10], Loss: 0.9142, Accuracy: 69.20%\n"
     ]
    },
    {
     "name": "stderr",
     "output_type": "stream",
     "text": [
      "Epoch 7/10: 100%|██████████| 704/704 [02:24<00:00,  4.88it/s, loss=0.904]\n"
     ]
    },
    {
     "name": "stdout",
     "output_type": "stream",
     "text": [
      "Epoch [7/10], Loss: 0.7519, Accuracy: 74.16%\n"
     ]
    },
    {
     "name": "stderr",
     "output_type": "stream",
     "text": [
      "Epoch 8/10: 100%|██████████| 704/704 [02:25<00:00,  4.84it/s, loss=0.473]\n"
     ]
    },
    {
     "name": "stdout",
     "output_type": "stream",
     "text": [
      "Epoch [8/10], Loss: 0.6477, Accuracy: 77.64%\n"
     ]
    },
    {
     "name": "stderr",
     "output_type": "stream",
     "text": [
      "Epoch 9/10: 100%|██████████| 704/704 [02:24<00:00,  4.87it/s, loss=0.853]\n"
     ]
    },
    {
     "name": "stdout",
     "output_type": "stream",
     "text": [
      "Epoch [9/10], Loss: 0.6094, Accuracy: 79.17%\n"
     ]
    },
    {
     "name": "stderr",
     "output_type": "stream",
     "text": [
      "Epoch 10/10: 100%|██████████| 704/704 [02:24<00:00,  4.87it/s, loss=0.24] \n"
     ]
    },
    {
     "name": "stdout",
     "output_type": "stream",
     "text": [
      "Epoch [10/10], Loss: 0.5148, Accuracy: 82.22%\n",
      "Model saved at: models/bs/lr_0.001_dropout_0.5_wd_0_bs_128 \n",
      "\n",
      "------Training model with batch size: 256-------\n"
     ]
    },
    {
     "name": "stderr",
     "output_type": "stream",
     "text": [
      "Epoch 1/10: 100%|██████████| 352/352 [02:16<00:00,  2.59it/s, loss=1.43]\n"
     ]
    },
    {
     "name": "stdout",
     "output_type": "stream",
     "text": [
      "Epoch [1/10], Loss: 1.6464, Accuracy: 39.41%\n"
     ]
    },
    {
     "name": "stderr",
     "output_type": "stream",
     "text": [
      "Epoch 2/10: 100%|██████████| 352/352 [02:12<00:00,  2.66it/s, loss=1.16]\n"
     ]
    },
    {
     "name": "stdout",
     "output_type": "stream",
     "text": [
      "Epoch [2/10], Loss: 1.2602, Accuracy: 54.63%\n"
     ]
    },
    {
     "name": "stderr",
     "output_type": "stream",
     "text": [
      "Epoch 3/10: 100%|██████████| 352/352 [02:11<00:00,  2.67it/s, loss=0.965]\n"
     ]
    },
    {
     "name": "stdout",
     "output_type": "stream",
     "text": [
      "Epoch [3/10], Loss: 1.0750, Accuracy: 62.19%\n"
     ]
    },
    {
     "name": "stderr",
     "output_type": "stream",
     "text": [
      "Epoch 4/10: 100%|██████████| 352/352 [02:13<00:00,  2.63it/s, loss=0.89] \n"
     ]
    },
    {
     "name": "stdout",
     "output_type": "stream",
     "text": [
      "Epoch [4/10], Loss: 0.9405, Accuracy: 67.33%\n"
     ]
    },
    {
     "name": "stderr",
     "output_type": "stream",
     "text": [
      "Epoch 5/10: 100%|██████████| 352/352 [02:11<00:00,  2.67it/s, loss=0.917]\n"
     ]
    },
    {
     "name": "stdout",
     "output_type": "stream",
     "text": [
      "Epoch [5/10], Loss: 0.8278, Accuracy: 71.43%\n"
     ]
    },
    {
     "name": "stderr",
     "output_type": "stream",
     "text": [
      "Epoch 6/10: 100%|██████████| 352/352 [02:11<00:00,  2.67it/s, loss=0.666]\n"
     ]
    },
    {
     "name": "stdout",
     "output_type": "stream",
     "text": [
      "Epoch [6/10], Loss: 0.7276, Accuracy: 74.91%\n"
     ]
    },
    {
     "name": "stderr",
     "output_type": "stream",
     "text": [
      "Epoch 7/10: 100%|██████████| 352/352 [02:12<00:00,  2.67it/s, loss=0.713]\n"
     ]
    },
    {
     "name": "stdout",
     "output_type": "stream",
     "text": [
      "Epoch [7/10], Loss: 0.6427, Accuracy: 77.85%\n"
     ]
    },
    {
     "name": "stderr",
     "output_type": "stream",
     "text": [
      "Epoch 8/10: 100%|██████████| 352/352 [02:12<00:00,  2.66it/s, loss=0.481]\n"
     ]
    },
    {
     "name": "stdout",
     "output_type": "stream",
     "text": [
      "Epoch [8/10], Loss: 0.5525, Accuracy: 80.73%\n"
     ]
    },
    {
     "name": "stderr",
     "output_type": "stream",
     "text": [
      "Epoch 9/10: 100%|██████████| 352/352 [02:12<00:00,  2.66it/s, loss=0.437]\n"
     ]
    },
    {
     "name": "stdout",
     "output_type": "stream",
     "text": [
      "Epoch [9/10], Loss: 0.5195, Accuracy: 82.30%\n"
     ]
    },
    {
     "name": "stderr",
     "output_type": "stream",
     "text": [
      "Epoch 10/10: 100%|██████████| 352/352 [02:12<00:00,  2.66it/s, loss=1.66] "
     ]
    },
    {
     "name": "stdout",
     "output_type": "stream",
     "text": [
      "Epoch [10/10], Loss: 0.8709, Accuracy: 73.41%\n",
      "Model saved at: models/bs/lr_0.001_dropout_0.5_wd_0_bs_256 \n",
      "\n"
     ]
    },
    {
     "name": "stderr",
     "output_type": "stream",
     "text": [
      "\n"
     ]
    }
   ],
   "source": [
    "for bs in batch_sizes:\n",
    "    loaded_data = load_data(batch_size=bs)\n",
    "    train_data, test_data = loaded_data['train'], loaded_data['test']\n",
    "    test_data_bs.append(test_data)\n",
    "\n",
    "    print(f'------Training model with batch size: {bs}-------')\n",
    "    train_results = train_model(train_data, directory='bs', num_epochs=10, batch_size=bs)\n",
    "    models_bs.append(train_results)\n",
    "    "
   ]
  },
  {
   "cell_type": "code",
   "execution_count": 47,
   "metadata": {},
   "outputs": [
    {
     "name": "stdout",
     "output_type": "stream",
     "text": [
      "-----Results for batch size: 16-----\n",
      "Accuracy on validation set: 64.05%\n",
      "{'accuracy': 64.04888888888888,\n",
      " 'conf_matrix': array([[7188,   83,  822,   46,   19,   26,   21,   95,  539,  161],\n",
      "       [ 674, 6147,   77,   58,   13,   29,   62,   81,  294, 1565],\n",
      "       [ 717,   21, 6117,  477,  353,  226,  721,  130,  207,   31],\n",
      "       [ 158,   35,  986, 4959,  536,  983,  870,  187,  175,  111],\n",
      "       [ 467,   12, 1353,  706, 4376,  363,  396, 1105,  164,   58],\n",
      "       [ 290,   39, 1100, 2074,  947, 3172,  326,  805,  130,  117],\n",
      "       [ 412,   26,  987,  666,   82,   61, 6641,   12,   97,   16],\n",
      "       [ 541,   22,  418,  268,  603,  490,   45, 6356,  100,  157],\n",
      "       [1245,  201,  528,  141,   30,   39,  107,   81, 6167,  461],\n",
      "       [ 516, 1189,  108,   73,   35,   28,   44,  141,  345, 6521]]),\n",
      " 'f1': 0.6372113045388966,\n",
      " 'precision': 0.6489353329443136,\n",
      " 'recall': 0.6404888888888889}\n",
      "\n",
      "-----Results for batch size: 32-----\n",
      "Accuracy on validation set: 69.39%\n",
      "{'accuracy': 69.38666666666667,\n",
      " 'conf_matrix': array([[7435,  106,  382,   28,   65,   11,   31,   36,  801,  105],\n",
      "       [ 312, 7439,   30,   21,   17,   17,   28,   20,  408,  708],\n",
      "       [ 756,   61, 5824,  479,  485,  345,  567,   49,  394,   40],\n",
      "       [ 183,  117,  471, 5098,  725, 1383,  577,   72,  260,  114],\n",
      "       [ 284,   45,  601,  581, 5931,  470,  315,  417,  253,  103],\n",
      "       [ 244,  165,  573, 1540, 1186, 4220,  252,  431,  231,  158],\n",
      "       [ 226,   51,  696,  614,  155,   81, 7022,    5,  141,    9],\n",
      "       [ 411,  110,  257,  204, 1055,  480,   40, 6010,  186,  247],\n",
      "       [ 594,  165,  232,   65,   78,   25,   50,   31, 7587,  173],\n",
      "       [ 472, 1995,   48,   39,   48,   21,   23,   35,  437, 5882]]),\n",
      " 'f1': 0.6910270620678379,\n",
      " 'precision': 0.6964274451884243,\n",
      " 'recall': 0.6938666666666666}\n",
      "\n",
      "-----Results for batch size: 64-----\n",
      "Accuracy on validation set: 73.25%\n",
      "{'accuracy': 73.24666666666667,\n",
      " 'conf_matrix': array([[7538,  110,  338,   39,   64,   40,   19,   71,  573,  208],\n",
      "       [ 146, 7137,   53,   37,   25,   83,   14,   42,  253, 1210],\n",
      "       [ 329,   22, 6887,  318,  393,  419,  342,  103,  160,   27],\n",
      "       [ 120,   31,  707, 5583,  485, 1400,  326,  166,  108,   74],\n",
      "       [ 108,   12,  786,  484, 5490, 1103,  122,  705,  117,   73],\n",
      "       [  90,   54,  640, 1479,  596, 5278,  134,  480,  133,  116],\n",
      "       [  55,   35,  765,  628,  186,  165, 7028,   24,   95,   19],\n",
      "       [ 143,   34,  263,  166,  471,  805,   26, 6845,   99,  148],\n",
      "       [ 523,  209,  359,   74,   80,   81,   22,   56, 7218,  378],\n",
      "       [ 209, 1327,   56,   41,   51,   68,   15,   94,  221, 6918]]),\n",
      " 'f1': 0.7330994218049768,\n",
      " 'precision': 0.7362980968169067,\n",
      " 'recall': 0.7324666666666667}\n",
      "\n",
      "-----Results for batch size: 128-----\n",
      "Accuracy on validation set: 73.59%\n",
      "{'accuracy': 73.58555555555556,\n",
      " 'conf_matrix': array([[7498,  179,  423,  107,   82,   54,   41,   66,  418,  132],\n",
      "       [ 133, 7677,   51,   42,   22,   58,   41,   43,  234,  699],\n",
      "       [ 266,   30, 6698,  309,  422,  412,  657,   90,   95,   21],\n",
      "       [  62,   57,  584, 5171,  519, 1560,  789,  145,   66,   47],\n",
      "       [  97,   36,  625,  470, 6150,  785,  306,  422,   66,   43],\n",
      "       [  71,   89,  533, 1188,  827, 5419,  265,  479,   76,   53],\n",
      "       [  21,   34,  557,  331,  100,  135, 7736,   25,   50,   11],\n",
      "       [ 129,  111,  211,  180,  780,  699,   44, 6690,   47,  109],\n",
      "       [ 592,  277,  451,  126,  144,   77,   84,   58, 6986,  205],\n",
      "       [ 224, 1938,   58,   96,   74,   50,   37,   78,  243, 6202]]),\n",
      " 'f1': 0.7353738193980709,\n",
      " 'precision': 0.7391101003902849,\n",
      " 'recall': 0.7358555555555556}\n",
      "\n",
      "-----Results for batch size: 256-----\n",
      "Accuracy on validation set: 54.82%\n",
      "{'accuracy': 54.81666666666667,\n",
      " 'conf_matrix': array([[5766,  636,  477,   57,   79,   18,   25,   49, 1726,  167],\n",
      "       [ 307, 7340,   34,   51,   34,   32,   46,   34,  478,  644],\n",
      "       [ 492,  539, 4821,  657,  525,  294,  720,  151,  729,   72],\n",
      "       [ 223,  572,  811, 4061,  870,  761,  801,  283,  470,  148],\n",
      "       [ 317,  384, 1045,  722, 4225,  428,  440,  755,  551,  133],\n",
      "       [ 234,  889,  989, 2009, 1071, 2311,  349,  581,  382,  185],\n",
      "       [  85,  401,  649,  834,  379,   97, 6240,   42,  220,   53],\n",
      "       [ 580,  810,  404,  434,  868,  484,   47, 4816,  321,  236],\n",
      "       [ 666, 1133,  232,  152,   59,   49,  116,   56, 6080,  457],\n",
      "       [ 527, 3676,   52,   99,   88,   35,   48,  110,  690, 3675]]),\n",
      " 'f1': 0.5408844670018103,\n",
      " 'precision': 0.5622886871483347,\n",
      " 'recall': 0.5481666666666667}\n",
      "\n"
     ]
    }
   ],
   "source": [
    "tests_bs = []\n",
    "for train_results, bs, test_data in zip(models_bs, batch_sizes, test_data_bs):\n",
    "    print(f\"-----Results for batch size: {bs}-----\")\n",
    "    test_results = test_model(test_data, train_results['model'])\n",
    "    tests_bs.append(test_results)\n",
    "    pprint(test_results)\n",
    "    print()"
   ]
  },
  {
   "cell_type": "markdown",
   "metadata": {},
   "source": [
    "### Regularization process"
   ]
  },
  {
   "cell_type": "markdown",
   "metadata": {},
   "source": [
    "#### Drop out rate"
   ]
  },
  {
   "cell_type": "code",
   "execution_count": 48,
   "metadata": {},
   "outputs": [],
   "source": [
    "loaded_data = load_data()\n",
    "train_data, test_data = loaded_data['train'], loaded_data['test']"
   ]
  },
  {
   "cell_type": "code",
   "execution_count": 49,
   "metadata": {},
   "outputs": [
    {
     "name": "stdout",
     "output_type": "stream",
     "text": [
      "------Training model with drop out rate: 0.1-------\n"
     ]
    },
    {
     "name": "stderr",
     "output_type": "stream",
     "text": [
      "Epoch 1/10: 100%|██████████| 704/704 [02:26<00:00,  4.81it/s, loss=1.15]\n"
     ]
    },
    {
     "name": "stdout",
     "output_type": "stream",
     "text": [
      "Epoch [1/10], Loss: 1.5661, Accuracy: 41.87%\n"
     ]
    },
    {
     "name": "stderr",
     "output_type": "stream",
     "text": [
      "Epoch 2/10: 100%|██████████| 704/704 [02:25<00:00,  4.85it/s, loss=1.08] \n"
     ]
    },
    {
     "name": "stdout",
     "output_type": "stream",
     "text": [
      "Epoch [2/10], Loss: 1.1774, Accuracy: 57.53%\n"
     ]
    },
    {
     "name": "stderr",
     "output_type": "stream",
     "text": [
      "Epoch 3/10: 100%|██████████| 704/704 [02:24<00:00,  4.88it/s, loss=1.26] \n"
     ]
    },
    {
     "name": "stdout",
     "output_type": "stream",
     "text": [
      "Epoch [3/10], Loss: 0.9874, Accuracy: 65.16%\n"
     ]
    },
    {
     "name": "stderr",
     "output_type": "stream",
     "text": [
      "Epoch 4/10: 100%|██████████| 704/704 [02:24<00:00,  4.88it/s, loss=0.844]\n"
     ]
    },
    {
     "name": "stdout",
     "output_type": "stream",
     "text": [
      "Epoch [4/10], Loss: 0.8524, Accuracy: 70.31%\n"
     ]
    },
    {
     "name": "stderr",
     "output_type": "stream",
     "text": [
      "Epoch 5/10: 100%|██████████| 704/704 [02:24<00:00,  4.87it/s, loss=1.5]  \n"
     ]
    },
    {
     "name": "stdout",
     "output_type": "stream",
     "text": [
      "Epoch [5/10], Loss: 0.7369, Accuracy: 74.39%\n"
     ]
    },
    {
     "name": "stderr",
     "output_type": "stream",
     "text": [
      "Epoch 6/10: 100%|██████████| 704/704 [02:25<00:00,  4.85it/s, loss=0.201]\n"
     ]
    },
    {
     "name": "stdout",
     "output_type": "stream",
     "text": [
      "Epoch [6/10], Loss: 0.6460, Accuracy: 77.48%\n"
     ]
    },
    {
     "name": "stderr",
     "output_type": "stream",
     "text": [
      "Epoch 7/10: 100%|██████████| 704/704 [02:24<00:00,  4.86it/s, loss=0.23] \n"
     ]
    },
    {
     "name": "stdout",
     "output_type": "stream",
     "text": [
      "Epoch [7/10], Loss: 0.5533, Accuracy: 80.77%\n"
     ]
    },
    {
     "name": "stderr",
     "output_type": "stream",
     "text": [
      "Epoch 8/10: 100%|██████████| 704/704 [02:25<00:00,  4.85it/s, loss=1.41] \n"
     ]
    },
    {
     "name": "stdout",
     "output_type": "stream",
     "text": [
      "Epoch [8/10], Loss: 0.4717, Accuracy: 83.65%\n"
     ]
    },
    {
     "name": "stderr",
     "output_type": "stream",
     "text": [
      "Epoch 9/10: 100%|██████████| 704/704 [02:27<00:00,  4.78it/s, loss=0.605]\n"
     ]
    },
    {
     "name": "stdout",
     "output_type": "stream",
     "text": [
      "Epoch [9/10], Loss: 0.4173, Accuracy: 85.54%\n"
     ]
    },
    {
     "name": "stderr",
     "output_type": "stream",
     "text": [
      "Epoch 10/10: 100%|██████████| 704/704 [02:25<00:00,  4.83it/s, loss=0.881]\n"
     ]
    },
    {
     "name": "stdout",
     "output_type": "stream",
     "text": [
      "Epoch [10/10], Loss: 0.3389, Accuracy: 88.39%\n",
      "Model saved at: models/dr/lr_0.001_dropout_0.1_wd_0_bs_128 \n",
      "\n",
      "------Training model with drop out rate: 0.2-------\n"
     ]
    },
    {
     "name": "stderr",
     "output_type": "stream",
     "text": [
      "Epoch 1/10: 100%|██████████| 704/704 [02:24<00:00,  4.88it/s, loss=0.939]\n"
     ]
    },
    {
     "name": "stdout",
     "output_type": "stream",
     "text": [
      "Epoch [1/10], Loss: 1.6342, Accuracy: 39.14%\n"
     ]
    },
    {
     "name": "stderr",
     "output_type": "stream",
     "text": [
      "Epoch 2/10: 100%|██████████| 704/704 [02:24<00:00,  4.87it/s, loss=1.55] \n"
     ]
    },
    {
     "name": "stdout",
     "output_type": "stream",
     "text": [
      "Epoch [2/10], Loss: 1.2259, Accuracy: 55.49%\n"
     ]
    },
    {
     "name": "stderr",
     "output_type": "stream",
     "text": [
      "Epoch 3/10: 100%|██████████| 704/704 [02:24<00:00,  4.87it/s, loss=1.3]  \n"
     ]
    },
    {
     "name": "stdout",
     "output_type": "stream",
     "text": [
      "Epoch [3/10], Loss: 1.0474, Accuracy: 63.00%\n"
     ]
    },
    {
     "name": "stderr",
     "output_type": "stream",
     "text": [
      "Epoch 4/10: 100%|██████████| 704/704 [02:24<00:00,  4.88it/s, loss=0.589]\n"
     ]
    },
    {
     "name": "stdout",
     "output_type": "stream",
     "text": [
      "Epoch [4/10], Loss: 0.9065, Accuracy: 68.38%\n"
     ]
    },
    {
     "name": "stderr",
     "output_type": "stream",
     "text": [
      "Epoch 5/10: 100%|██████████| 704/704 [02:24<00:00,  4.87it/s, loss=0.554]\n"
     ]
    },
    {
     "name": "stdout",
     "output_type": "stream",
     "text": [
      "Epoch [5/10], Loss: 0.7923, Accuracy: 72.54%\n"
     ]
    },
    {
     "name": "stderr",
     "output_type": "stream",
     "text": [
      "Epoch 6/10: 100%|██████████| 704/704 [02:23<00:00,  4.92it/s, loss=1.66] \n"
     ]
    },
    {
     "name": "stdout",
     "output_type": "stream",
     "text": [
      "Epoch [6/10], Loss: 0.7021, Accuracy: 75.76%\n"
     ]
    },
    {
     "name": "stderr",
     "output_type": "stream",
     "text": [
      "Epoch 7/10: 100%|██████████| 704/704 [02:23<00:00,  4.92it/s, loss=1.06] \n"
     ]
    },
    {
     "name": "stdout",
     "output_type": "stream",
     "text": [
      "Epoch [7/10], Loss: 0.6205, Accuracy: 78.67%\n"
     ]
    },
    {
     "name": "stderr",
     "output_type": "stream",
     "text": [
      "Epoch 8/10: 100%|██████████| 704/704 [02:23<00:00,  4.91it/s, loss=2.95] \n"
     ]
    },
    {
     "name": "stdout",
     "output_type": "stream",
     "text": [
      "Epoch [8/10], Loss: 0.5564, Accuracy: 80.99%\n"
     ]
    },
    {
     "name": "stderr",
     "output_type": "stream",
     "text": [
      "Epoch 9/10: 100%|██████████| 704/704 [02:24<00:00,  4.89it/s, loss=0.226]\n"
     ]
    },
    {
     "name": "stdout",
     "output_type": "stream",
     "text": [
      "Epoch [9/10], Loss: 0.5082, Accuracy: 82.70%\n"
     ]
    },
    {
     "name": "stderr",
     "output_type": "stream",
     "text": [
      "Epoch 10/10: 100%|██████████| 704/704 [02:23<00:00,  4.92it/s, loss=0.318]\n"
     ]
    },
    {
     "name": "stdout",
     "output_type": "stream",
     "text": [
      "Epoch [10/10], Loss: 0.4337, Accuracy: 85.21%\n",
      "Model saved at: models/dr/lr_0.001_dropout_0.2_wd_0_bs_128 \n",
      "\n",
      "------Training model with drop out rate: 0.3-------\n"
     ]
    },
    {
     "name": "stderr",
     "output_type": "stream",
     "text": [
      "Epoch 1/10: 100%|██████████| 704/704 [02:23<00:00,  4.91it/s, loss=1.39]\n"
     ]
    },
    {
     "name": "stdout",
     "output_type": "stream",
     "text": [
      "Epoch [1/10], Loss: 1.5869, Accuracy: 41.36%\n"
     ]
    },
    {
     "name": "stderr",
     "output_type": "stream",
     "text": [
      "Epoch 2/10: 100%|██████████| 704/704 [02:23<00:00,  4.92it/s, loss=1.13] \n"
     ]
    },
    {
     "name": "stdout",
     "output_type": "stream",
     "text": [
      "Epoch [2/10], Loss: 1.2178, Accuracy: 56.31%\n"
     ]
    },
    {
     "name": "stderr",
     "output_type": "stream",
     "text": [
      "Epoch 3/10: 100%|██████████| 704/704 [02:24<00:00,  4.88it/s, loss=0.984]\n"
     ]
    },
    {
     "name": "stdout",
     "output_type": "stream",
     "text": [
      "Epoch [3/10], Loss: 1.0423, Accuracy: 63.39%\n"
     ]
    },
    {
     "name": "stderr",
     "output_type": "stream",
     "text": [
      "Epoch 4/10: 100%|██████████| 704/704 [02:23<00:00,  4.91it/s, loss=3.07] \n"
     ]
    },
    {
     "name": "stdout",
     "output_type": "stream",
     "text": [
      "Epoch [4/10], Loss: 0.9036, Accuracy: 68.69%\n"
     ]
    },
    {
     "name": "stderr",
     "output_type": "stream",
     "text": [
      "Epoch 5/10: 100%|██████████| 704/704 [02:23<00:00,  4.91it/s, loss=2.71] \n"
     ]
    },
    {
     "name": "stdout",
     "output_type": "stream",
     "text": [
      "Epoch [5/10], Loss: 0.8174, Accuracy: 72.03%\n"
     ]
    },
    {
     "name": "stderr",
     "output_type": "stream",
     "text": [
      "Epoch 6/10: 100%|██████████| 704/704 [02:23<00:00,  4.89it/s, loss=0.929]\n"
     ]
    },
    {
     "name": "stdout",
     "output_type": "stream",
     "text": [
      "Epoch [6/10], Loss: 0.7653, Accuracy: 73.60%\n"
     ]
    },
    {
     "name": "stderr",
     "output_type": "stream",
     "text": [
      "Epoch 7/10: 100%|██████████| 704/704 [02:24<00:00,  4.87it/s, loss=0.697]\n"
     ]
    },
    {
     "name": "stdout",
     "output_type": "stream",
     "text": [
      "Epoch [7/10], Loss: 0.6359, Accuracy: 78.05%\n"
     ]
    },
    {
     "name": "stderr",
     "output_type": "stream",
     "text": [
      "Epoch 8/10: 100%|██████████| 704/704 [02:23<00:00,  4.89it/s, loss=0.28] \n"
     ]
    },
    {
     "name": "stdout",
     "output_type": "stream",
     "text": [
      "Epoch [8/10], Loss: 0.5676, Accuracy: 80.44%\n"
     ]
    },
    {
     "name": "stderr",
     "output_type": "stream",
     "text": [
      "Epoch 9/10: 100%|██████████| 704/704 [02:23<00:00,  4.90it/s, loss=0.379]\n"
     ]
    },
    {
     "name": "stdout",
     "output_type": "stream",
     "text": [
      "Epoch [9/10], Loss: 0.4707, Accuracy: 83.62%\n"
     ]
    },
    {
     "name": "stderr",
     "output_type": "stream",
     "text": [
      "Epoch 10/10: 100%|██████████| 704/704 [02:23<00:00,  4.90it/s, loss=2.14] \n"
     ]
    },
    {
     "name": "stdout",
     "output_type": "stream",
     "text": [
      "Epoch [10/10], Loss: 0.4330, Accuracy: 85.35%\n",
      "Model saved at: models/dr/lr_0.001_dropout_0.3_wd_0_bs_128 \n",
      "\n",
      "------Training model with drop out rate: 0.5-------\n"
     ]
    },
    {
     "name": "stderr",
     "output_type": "stream",
     "text": [
      "Epoch 1/10: 100%|██████████| 704/704 [02:23<00:00,  4.91it/s, loss=1.57]\n"
     ]
    },
    {
     "name": "stdout",
     "output_type": "stream",
     "text": [
      "Epoch [1/10], Loss: 1.6767, Accuracy: 38.21%\n"
     ]
    },
    {
     "name": "stderr",
     "output_type": "stream",
     "text": [
      "Epoch 2/10: 100%|██████████| 704/704 [02:23<00:00,  4.92it/s, loss=1.35]\n"
     ]
    },
    {
     "name": "stdout",
     "output_type": "stream",
     "text": [
      "Epoch [2/10], Loss: 1.5230, Accuracy: 48.20%\n"
     ]
    },
    {
     "name": "stderr",
     "output_type": "stream",
     "text": [
      "Epoch 3/10: 100%|██████████| 704/704 [02:23<00:00,  4.92it/s, loss=1.77] \n"
     ]
    },
    {
     "name": "stdout",
     "output_type": "stream",
     "text": [
      "Epoch [3/10], Loss: 1.3504, Accuracy: 53.42%\n"
     ]
    },
    {
     "name": "stderr",
     "output_type": "stream",
     "text": [
      "Epoch 4/10: 100%|██████████| 704/704 [02:24<00:00,  4.88it/s, loss=1.61] \n"
     ]
    },
    {
     "name": "stdout",
     "output_type": "stream",
     "text": [
      "Epoch [4/10], Loss: 1.1637, Accuracy: 59.17%\n"
     ]
    },
    {
     "name": "stderr",
     "output_type": "stream",
     "text": [
      "Epoch 5/10: 100%|██████████| 704/704 [02:23<00:00,  4.91it/s, loss=1.42] \n"
     ]
    },
    {
     "name": "stdout",
     "output_type": "stream",
     "text": [
      "Epoch [5/10], Loss: 1.1077, Accuracy: 61.62%\n"
     ]
    },
    {
     "name": "stderr",
     "output_type": "stream",
     "text": [
      "Epoch 6/10: 100%|██████████| 704/704 [02:23<00:00,  4.92it/s, loss=0.959]\n"
     ]
    },
    {
     "name": "stdout",
     "output_type": "stream",
     "text": [
      "Epoch [6/10], Loss: 0.9838, Accuracy: 66.06%\n"
     ]
    },
    {
     "name": "stderr",
     "output_type": "stream",
     "text": [
      "Epoch 7/10: 100%|██████████| 704/704 [02:23<00:00,  4.92it/s, loss=1.67] \n"
     ]
    },
    {
     "name": "stdout",
     "output_type": "stream",
     "text": [
      "Epoch [7/10], Loss: 1.0402, Accuracy: 64.02%\n"
     ]
    },
    {
     "name": "stderr",
     "output_type": "stream",
     "text": [
      "Epoch 8/10: 100%|██████████| 704/704 [02:23<00:00,  4.92it/s, loss=0.561]\n"
     ]
    },
    {
     "name": "stdout",
     "output_type": "stream",
     "text": [
      "Epoch [8/10], Loss: 0.9062, Accuracy: 68.50%\n"
     ]
    },
    {
     "name": "stderr",
     "output_type": "stream",
     "text": [
      "Epoch 9/10: 100%|██████████| 704/704 [02:23<00:00,  4.92it/s, loss=1.29] \n"
     ]
    },
    {
     "name": "stdout",
     "output_type": "stream",
     "text": [
      "Epoch [9/10], Loss: 0.7978, Accuracy: 72.42%\n"
     ]
    },
    {
     "name": "stderr",
     "output_type": "stream",
     "text": [
      "Epoch 10/10: 100%|██████████| 704/704 [02:23<00:00,  4.91it/s, loss=0.702]\n"
     ]
    },
    {
     "name": "stdout",
     "output_type": "stream",
     "text": [
      "Epoch [10/10], Loss: 0.7057, Accuracy: 75.30%\n",
      "Model saved at: models/dr/lr_0.001_dropout_0.5_wd_0_bs_128 \n",
      "\n"
     ]
    }
   ],
   "source": [
    "drop_out_rates = [0.1, 0.2, 0.3, 0.5]\n",
    "models_dr = []\n",
    "\n",
    "for dr in drop_out_rates:\n",
    "    print(f'------Training model with drop out rate: {dr}-------')\n",
    "    train_results = train_model(train_data, directory='dr', num_epochs=10, dropout_rate=dr)\n",
    "    models_dr.append(train_results)"
   ]
  },
  {
   "cell_type": "code",
   "execution_count": 50,
   "metadata": {},
   "outputs": [
    {
     "name": "stdout",
     "output_type": "stream",
     "text": [
      "-----Results for drop out rate: 0.1-----\n",
      "Accuracy on validation set: 73.39%\n",
      "{'accuracy': 73.38666666666667,\n",
      " 'conf_matrix': array([[7551,   86,  212,   21,   55,   30,   18,  134,  732,  161],\n",
      "       [ 169, 6852,   21,   38,   15,   67,   16,   86,  254, 1482],\n",
      "       [ 431,   38, 6010,  432,  469,  625,  331,  253,  359,   52],\n",
      "       [ 163,   47,  318, 5145,  464, 2003,  227,  379,  148,  106],\n",
      "       [ 177,   29,  346,  464, 5487, 1020,   85, 1200,  109,   83],\n",
      "       [ 135,   59,  299,  882,  608, 5569,  101, 1083,  147,  117],\n",
      "       [  49,   61,  535,  589,  170,  310, 7049,   59,  125,   53],\n",
      "       [ 129,   49,  102,  144,  291,  374,   12, 7681,   93,  125],\n",
      "       [ 411,  181,  145,   75,   55,   80,   36,  120, 7578,  319],\n",
      "       [ 259, 1028,   34,   46,   37,   61,   15,  141,  253, 7126]]),\n",
      " 'f1': 0.7331164142268867,\n",
      " 'precision': 0.7379053973039135,\n",
      " 'recall': 0.7338666666666667}\n",
      "\n",
      "-----Results for drop out rate: 0.2-----\n",
      "Accuracy on validation set: 73.88%\n",
      "{'accuracy': 73.88444444444444,\n",
      " 'conf_matrix': array([[7323,  115,  321,  119,   50,   87,   48,  183,  580,  174],\n",
      "       [ 118, 7009,   33,   55,   14,  106,   57,  100,  316, 1192],\n",
      "       [ 304,   15, 6211,  394,  320,  577,  708,  184,  268,   19],\n",
      "       [  57,   31,  410, 5608,  373, 1643,  494,  233,  121,   30],\n",
      "       [ 105,   13,  619,  624, 5461,  979,  268,  728,  174,   29],\n",
      "       [  50,   41,  415, 1284,  538, 5662,  210,  600,  166,   34],\n",
      "       [  20,   21,  367,  487,  111,  208, 7690,   33,   53,   10],\n",
      "       [  46,   40,  127,  190,  449,  642,   32, 7264,  148,   62],\n",
      "       [ 542,  189,  191,  100,   60,   87,   79,  105, 7404,  243],\n",
      "       [ 155, 1109,   28,   85,   41,   76,   53,  225,  364, 6864]]),\n",
      " 'f1': 0.7386677446782646,\n",
      " 'precision': 0.7408874295978859,\n",
      " 'recall': 0.7388444444444444}\n",
      "\n",
      "-----Results for drop out rate: 0.3-----\n",
      "Accuracy on validation set: 73.85%\n",
      "{'accuracy': 73.84666666666666,\n",
      " 'conf_matrix': array([[7570,   84,  343,   71,   99,   50,   20,   67,  619,   77],\n",
      "       [ 191, 7263,   49,   88,   38,   59,   15,   54,  421,  822],\n",
      "       [ 360,   47, 6799,  489,  391,  363,  300,   80,  161,   10],\n",
      "       [  95,   54,  557, 6113,  640, 1004,  326,  111,   74,   26],\n",
      "       [  91,   27,  720,  579, 6279,  643,  113,  440,   89,   19],\n",
      "       [  82,   63,  517, 1839,  941, 4821,  140,  469,   88,   40],\n",
      "       [  36,   55,  792,  549,  180,  111, 7174,   28,   70,    5],\n",
      "       [ 116,   55,  251,  189,  856,  600,   15, 6743,  126,   49],\n",
      "       [ 419,  149,  307,  154,  117,   88,   33,   52, 7568,  113],\n",
      "       [ 240, 1518,   70,  121,  107,   75,   21,  150,  566, 6132]]),\n",
      " 'f1': 0.7388860111947215,\n",
      " 'precision': 0.7440415611340777,\n",
      " 'recall': 0.7384666666666667}\n",
      "\n",
      "-----Results for drop out rate: 0.5-----\n",
      "Accuracy on validation set: 68.90%\n",
      "{'accuracy': 68.89555555555556,\n",
      " 'conf_matrix': array([[6353,  109,  596,  211,  155,   34,   32,  164, 1029,  317],\n",
      "       [  61, 6115,   44,  128,   50,   69,   43,  117,  568, 1805],\n",
      "       [ 309,   34, 5800,  852,  501,  357,  694,  152,  264,   37],\n",
      "       [  54,   25,  432, 6099,  415,  981,  664,  147,  121,   62],\n",
      "       [  84,    8,  633, 1086, 5304,  847,  318,  542,  127,   51],\n",
      "       [  60,   41,  497, 2584,  702, 4212,  230,  453,  145,   76],\n",
      "       [  50,   25,  459,  745,   97,  145, 7372,   19,   65,   23],\n",
      "       [  62,   36,  185,  527,  891,  767,   34, 6282,  132,   84],\n",
      "       [ 284,  104,  259,  205,  147,   58,   82,   75, 7547,  239],\n",
      "       [  94,  784,   52,  154,   96,   65,   32,  197,  604, 6922]]),\n",
      " 'f1': 0.6900254421996332,\n",
      " 'precision': 0.7001215028169234,\n",
      " 'recall': 0.6889555555555555}\n",
      "\n"
     ]
    }
   ],
   "source": [
    "tests_dr = []\n",
    "for train_results, dr in zip(models_dr, drop_out_rates):\n",
    "    print(f\"-----Results for drop out rate: {dr}-----\")\n",
    "    test_results = test_model(test_data, train_results['model'])\n",
    "    tests_dr.append(test_results)\n",
    "    pprint(test_results)\n",
    "    print()"
   ]
  },
  {
   "cell_type": "markdown",
   "metadata": {},
   "source": [
    "#### Weight decay (L2 regularization)"
   ]
  },
  {
   "cell_type": "code",
   "execution_count": 51,
   "metadata": {},
   "outputs": [
    {
     "name": "stdout",
     "output_type": "stream",
     "text": [
      "------Training model with weight decay: 0.0-------\n"
     ]
    },
    {
     "name": "stderr",
     "output_type": "stream",
     "text": [
      "Epoch 1/10: 100%|██████████| 704/704 [02:26<00:00,  4.81it/s, loss=1.69]\n"
     ]
    },
    {
     "name": "stdout",
     "output_type": "stream",
     "text": [
      "Epoch [1/10], Loss: 1.5818, Accuracy: 41.43%\n"
     ]
    },
    {
     "name": "stderr",
     "output_type": "stream",
     "text": [
      "Epoch 2/10: 100%|██████████| 704/704 [02:24<00:00,  4.86it/s, loss=1.32] \n"
     ]
    },
    {
     "name": "stdout",
     "output_type": "stream",
     "text": [
      "Epoch [2/10], Loss: 1.2180, Accuracy: 56.15%\n"
     ]
    },
    {
     "name": "stderr",
     "output_type": "stream",
     "text": [
      "Epoch 3/10: 100%|██████████| 704/704 [02:24<00:00,  4.88it/s, loss=1.01] \n"
     ]
    },
    {
     "name": "stdout",
     "output_type": "stream",
     "text": [
      "Epoch [3/10], Loss: 1.0381, Accuracy: 63.35%\n"
     ]
    },
    {
     "name": "stderr",
     "output_type": "stream",
     "text": [
      "Epoch 4/10: 100%|██████████| 704/704 [02:24<00:00,  4.88it/s, loss=1.63] \n"
     ]
    },
    {
     "name": "stdout",
     "output_type": "stream",
     "text": [
      "Epoch [4/10], Loss: 0.9071, Accuracy: 68.44%\n"
     ]
    },
    {
     "name": "stderr",
     "output_type": "stream",
     "text": [
      "Epoch 5/10: 100%|██████████| 704/704 [02:24<00:00,  4.89it/s, loss=0.879]\n"
     ]
    },
    {
     "name": "stdout",
     "output_type": "stream",
     "text": [
      "Epoch [5/10], Loss: 0.8016, Accuracy: 72.29%\n"
     ]
    },
    {
     "name": "stderr",
     "output_type": "stream",
     "text": [
      "Epoch 6/10: 100%|██████████| 704/704 [02:23<00:00,  4.89it/s, loss=1.21] \n"
     ]
    },
    {
     "name": "stdout",
     "output_type": "stream",
     "text": [
      "Epoch [6/10], Loss: 0.6988, Accuracy: 75.61%\n"
     ]
    },
    {
     "name": "stderr",
     "output_type": "stream",
     "text": [
      "Epoch 7/10: 100%|██████████| 704/704 [02:24<00:00,  4.88it/s, loss=1.07] \n"
     ]
    },
    {
     "name": "stdout",
     "output_type": "stream",
     "text": [
      "Epoch [7/10], Loss: 0.6331, Accuracy: 78.22%\n"
     ]
    },
    {
     "name": "stderr",
     "output_type": "stream",
     "text": [
      "Epoch 8/10: 100%|██████████| 704/704 [02:25<00:00,  4.83it/s, loss=1.27] \n"
     ]
    },
    {
     "name": "stdout",
     "output_type": "stream",
     "text": [
      "Epoch [8/10], Loss: 0.5505, Accuracy: 81.10%\n"
     ]
    },
    {
     "name": "stderr",
     "output_type": "stream",
     "text": [
      "Epoch 9/10: 100%|██████████| 704/704 [02:24<00:00,  4.86it/s, loss=0.859]\n"
     ]
    },
    {
     "name": "stdout",
     "output_type": "stream",
     "text": [
      "Epoch [9/10], Loss: 0.4878, Accuracy: 83.22%\n"
     ]
    },
    {
     "name": "stderr",
     "output_type": "stream",
     "text": [
      "Epoch 10/10: 100%|██████████| 704/704 [02:24<00:00,  4.87it/s, loss=0.585]\n"
     ]
    },
    {
     "name": "stdout",
     "output_type": "stream",
     "text": [
      "Epoch [10/10], Loss: 0.4172, Accuracy: 85.82%\n",
      "Model saved at: models/wd/lr_0.001_dropout_0.3_wd_0.0_bs_128 \n",
      "\n",
      "------Training model with weight decay: 0.0001-------\n"
     ]
    },
    {
     "name": "stderr",
     "output_type": "stream",
     "text": [
      "Epoch 1/10: 100%|██████████| 704/704 [02:26<00:00,  4.81it/s, loss=1.43]\n"
     ]
    },
    {
     "name": "stdout",
     "output_type": "stream",
     "text": [
      "Epoch [1/10], Loss: 1.6024, Accuracy: 40.68%\n"
     ]
    },
    {
     "name": "stderr",
     "output_type": "stream",
     "text": [
      "Epoch 2/10: 100%|██████████| 704/704 [02:26<00:00,  4.81it/s, loss=1.27] \n"
     ]
    },
    {
     "name": "stdout",
     "output_type": "stream",
     "text": [
      "Epoch [2/10], Loss: 1.2290, Accuracy: 56.33%\n"
     ]
    },
    {
     "name": "stderr",
     "output_type": "stream",
     "text": [
      "Epoch 3/10: 100%|██████████| 704/704 [02:26<00:00,  4.81it/s, loss=1.02] \n"
     ]
    },
    {
     "name": "stdout",
     "output_type": "stream",
     "text": [
      "Epoch [3/10], Loss: 1.0694, Accuracy: 62.66%\n"
     ]
    },
    {
     "name": "stderr",
     "output_type": "stream",
     "text": [
      "Epoch 4/10: 100%|██████████| 704/704 [02:26<00:00,  4.81it/s, loss=1.57] \n"
     ]
    },
    {
     "name": "stdout",
     "output_type": "stream",
     "text": [
      "Epoch [4/10], Loss: 0.9512, Accuracy: 67.06%\n"
     ]
    },
    {
     "name": "stderr",
     "output_type": "stream",
     "text": [
      "Epoch 5/10: 100%|██████████| 704/704 [02:26<00:00,  4.81it/s, loss=1.39] \n"
     ]
    },
    {
     "name": "stdout",
     "output_type": "stream",
     "text": [
      "Epoch [5/10], Loss: 0.8295, Accuracy: 71.48%\n"
     ]
    },
    {
     "name": "stderr",
     "output_type": "stream",
     "text": [
      "Epoch 6/10: 100%|██████████| 704/704 [02:26<00:00,  4.80it/s, loss=0.619]\n"
     ]
    },
    {
     "name": "stdout",
     "output_type": "stream",
     "text": [
      "Epoch [6/10], Loss: 0.7530, Accuracy: 73.88%\n"
     ]
    },
    {
     "name": "stderr",
     "output_type": "stream",
     "text": [
      "Epoch 7/10: 100%|██████████| 704/704 [02:26<00:00,  4.81it/s, loss=1.44] \n"
     ]
    },
    {
     "name": "stdout",
     "output_type": "stream",
     "text": [
      "Epoch [7/10], Loss: 0.6719, Accuracy: 76.84%\n"
     ]
    },
    {
     "name": "stderr",
     "output_type": "stream",
     "text": [
      "Epoch 8/10: 100%|██████████| 704/704 [02:26<00:00,  4.81it/s, loss=1.18] \n"
     ]
    },
    {
     "name": "stdout",
     "output_type": "stream",
     "text": [
      "Epoch [8/10], Loss: 0.6129, Accuracy: 79.00%\n"
     ]
    },
    {
     "name": "stderr",
     "output_type": "stream",
     "text": [
      "Epoch 9/10: 100%|██████████| 704/704 [02:26<00:00,  4.81it/s, loss=0.596]\n"
     ]
    },
    {
     "name": "stdout",
     "output_type": "stream",
     "text": [
      "Epoch [9/10], Loss: 0.5430, Accuracy: 81.17%\n"
     ]
    },
    {
     "name": "stderr",
     "output_type": "stream",
     "text": [
      "Epoch 10/10: 100%|██████████| 704/704 [02:26<00:00,  4.81it/s, loss=0.952]\n"
     ]
    },
    {
     "name": "stdout",
     "output_type": "stream",
     "text": [
      "Epoch [10/10], Loss: 0.4844, Accuracy: 83.37%\n",
      "Model saved at: models/wd/lr_0.001_dropout_0.3_wd_0.0001_bs_128 \n",
      "\n",
      "------Training model with weight decay: 0.001-------\n"
     ]
    },
    {
     "name": "stderr",
     "output_type": "stream",
     "text": [
      "Epoch 1/10: 100%|██████████| 704/704 [02:26<00:00,  4.81it/s, loss=1.9] \n"
     ]
    },
    {
     "name": "stdout",
     "output_type": "stream",
     "text": [
      "Epoch [1/10], Loss: 1.5953, Accuracy: 40.57%\n"
     ]
    },
    {
     "name": "stderr",
     "output_type": "stream",
     "text": [
      "Epoch 2/10: 100%|██████████| 704/704 [02:27<00:00,  4.79it/s, loss=1.45] \n"
     ]
    },
    {
     "name": "stdout",
     "output_type": "stream",
     "text": [
      "Epoch [2/10], Loss: 1.2606, Accuracy: 55.03%\n"
     ]
    },
    {
     "name": "stderr",
     "output_type": "stream",
     "text": [
      "Epoch 3/10: 100%|██████████| 704/704 [02:26<00:00,  4.82it/s, loss=0.881]\n"
     ]
    },
    {
     "name": "stdout",
     "output_type": "stream",
     "text": [
      "Epoch [3/10], Loss: 1.1201, Accuracy: 60.80%\n"
     ]
    },
    {
     "name": "stderr",
     "output_type": "stream",
     "text": [
      "Epoch 4/10: 100%|██████████| 704/704 [02:26<00:00,  4.82it/s, loss=1.03] \n"
     ]
    },
    {
     "name": "stdout",
     "output_type": "stream",
     "text": [
      "Epoch [4/10], Loss: 1.0058, Accuracy: 65.19%\n"
     ]
    },
    {
     "name": "stderr",
     "output_type": "stream",
     "text": [
      "Epoch 5/10: 100%|██████████| 704/704 [02:26<00:00,  4.82it/s, loss=2.09] \n"
     ]
    },
    {
     "name": "stdout",
     "output_type": "stream",
     "text": [
      "Epoch [5/10], Loss: 0.9247, Accuracy: 68.39%\n"
     ]
    },
    {
     "name": "stderr",
     "output_type": "stream",
     "text": [
      "Epoch 6/10: 100%|██████████| 704/704 [02:26<00:00,  4.80it/s, loss=0.981]\n"
     ]
    },
    {
     "name": "stdout",
     "output_type": "stream",
     "text": [
      "Epoch [6/10], Loss: 0.8594, Accuracy: 70.68%\n"
     ]
    },
    {
     "name": "stderr",
     "output_type": "stream",
     "text": [
      "Epoch 7/10: 100%|██████████| 704/704 [02:27<00:00,  4.79it/s, loss=1.21] \n"
     ]
    },
    {
     "name": "stdout",
     "output_type": "stream",
     "text": [
      "Epoch [7/10], Loss: 0.8051, Accuracy: 72.46%\n"
     ]
    },
    {
     "name": "stderr",
     "output_type": "stream",
     "text": [
      "Epoch 8/10: 100%|██████████| 704/704 [02:26<00:00,  4.80it/s, loss=0.789]\n"
     ]
    },
    {
     "name": "stdout",
     "output_type": "stream",
     "text": [
      "Epoch [8/10], Loss: 0.7617, Accuracy: 74.13%\n"
     ]
    },
    {
     "name": "stderr",
     "output_type": "stream",
     "text": [
      "Epoch 9/10: 100%|██████████| 704/704 [02:26<00:00,  4.81it/s, loss=0.722]\n"
     ]
    },
    {
     "name": "stdout",
     "output_type": "stream",
     "text": [
      "Epoch [9/10], Loss: 0.7315, Accuracy: 75.18%\n"
     ]
    },
    {
     "name": "stderr",
     "output_type": "stream",
     "text": [
      "Epoch 10/10: 100%|██████████| 704/704 [02:26<00:00,  4.82it/s, loss=0.656]\n"
     ]
    },
    {
     "name": "stdout",
     "output_type": "stream",
     "text": [
      "Epoch [10/10], Loss: 0.7037, Accuracy: 76.07%\n",
      "Model saved at: models/wd/lr_0.001_dropout_0.3_wd_0.001_bs_128 \n",
      "\n",
      "------Training model with weight decay: 0.01-------\n"
     ]
    },
    {
     "name": "stderr",
     "output_type": "stream",
     "text": [
      "Epoch 1/10: 100%|██████████| 704/704 [02:26<00:00,  4.81it/s, loss=1.49]\n"
     ]
    },
    {
     "name": "stdout",
     "output_type": "stream",
     "text": [
      "Epoch [1/10], Loss: 1.7499, Accuracy: 33.12%\n"
     ]
    },
    {
     "name": "stderr",
     "output_type": "stream",
     "text": [
      "Epoch 2/10: 100%|██████████| 704/704 [02:26<00:00,  4.80it/s, loss=1.37]\n"
     ]
    },
    {
     "name": "stdout",
     "output_type": "stream",
     "text": [
      "Epoch [2/10], Loss: 1.5543, Accuracy: 39.53%\n"
     ]
    },
    {
     "name": "stderr",
     "output_type": "stream",
     "text": [
      "Epoch 3/10: 100%|██████████| 704/704 [02:27<00:00,  4.77it/s, loss=1.39]\n"
     ]
    },
    {
     "name": "stdout",
     "output_type": "stream",
     "text": [
      "Epoch [3/10], Loss: 1.4655, Accuracy: 43.36%\n"
     ]
    },
    {
     "name": "stderr",
     "output_type": "stream",
     "text": [
      "Epoch 4/10: 100%|██████████| 704/704 [02:26<00:00,  4.81it/s, loss=1.78]\n"
     ]
    },
    {
     "name": "stdout",
     "output_type": "stream",
     "text": [
      "Epoch [4/10], Loss: 1.3461, Accuracy: 48.63%\n"
     ]
    },
    {
     "name": "stderr",
     "output_type": "stream",
     "text": [
      "Epoch 5/10: 100%|██████████| 704/704 [02:26<00:00,  4.81it/s, loss=1.26]\n"
     ]
    },
    {
     "name": "stdout",
     "output_type": "stream",
     "text": [
      "Epoch [5/10], Loss: 1.2609, Accuracy: 53.61%\n"
     ]
    },
    {
     "name": "stderr",
     "output_type": "stream",
     "text": [
      "Epoch 6/10: 100%|██████████| 704/704 [02:26<00:00,  4.81it/s, loss=1.46] \n"
     ]
    },
    {
     "name": "stdout",
     "output_type": "stream",
     "text": [
      "Epoch [6/10], Loss: 1.2065, Accuracy: 56.14%\n"
     ]
    },
    {
     "name": "stderr",
     "output_type": "stream",
     "text": [
      "Epoch 7/10: 100%|██████████| 704/704 [02:26<00:00,  4.81it/s, loss=1.16] \n"
     ]
    },
    {
     "name": "stdout",
     "output_type": "stream",
     "text": [
      "Epoch [7/10], Loss: 1.1696, Accuracy: 57.51%\n"
     ]
    },
    {
     "name": "stderr",
     "output_type": "stream",
     "text": [
      "Epoch 8/10: 100%|██████████| 704/704 [02:26<00:00,  4.81it/s, loss=1.23] \n"
     ]
    },
    {
     "name": "stdout",
     "output_type": "stream",
     "text": [
      "Epoch [8/10], Loss: 1.1463, Accuracy: 58.82%\n"
     ]
    },
    {
     "name": "stderr",
     "output_type": "stream",
     "text": [
      "Epoch 9/10: 100%|██████████| 704/704 [02:26<00:00,  4.82it/s, loss=1.11] \n"
     ]
    },
    {
     "name": "stdout",
     "output_type": "stream",
     "text": [
      "Epoch [9/10], Loss: 1.1233, Accuracy: 59.63%\n"
     ]
    },
    {
     "name": "stderr",
     "output_type": "stream",
     "text": [
      "Epoch 10/10: 100%|██████████| 704/704 [02:26<00:00,  4.81it/s, loss=1.03] \n"
     ]
    },
    {
     "name": "stdout",
     "output_type": "stream",
     "text": [
      "Epoch [10/10], Loss: 1.1088, Accuracy: 60.40%\n",
      "Model saved at: models/wd/lr_0.001_dropout_0.3_wd_0.01_bs_128 \n",
      "\n"
     ]
    }
   ],
   "source": [
    "weight_decays = [0.0, 0.0001, 0.001, 0.01]\n",
    "models_wd = []\n",
    "\n",
    "for wd in weight_decays:\n",
    "    print(f'------Training model with weight decay: {wd}-------')\n",
    "    train_results = train_model(train_data, directory='wd', num_epochs=10, weight_decay=wd, dropout_rate=0.3)\n",
    "    models_wd.append(train_results)"
   ]
  },
  {
   "cell_type": "code",
   "execution_count": 52,
   "metadata": {},
   "outputs": [
    {
     "name": "stdout",
     "output_type": "stream",
     "text": [
      "-----Results for weight decay: 0.0-----\n",
      "Accuracy on validation set: 72.42%\n",
      "{'accuracy': 72.41666666666667,\n",
      " 'conf_matrix': array([[6971,  104,  420,   93,   97,   24,   15,  173,  745,  358],\n",
      "       [  80, 6244,   29,   71,   53,   64,   10,   84,  108, 2257],\n",
      "       [ 237,   22, 6393,  640,  600,  339,  383,  149,  178,   59],\n",
      "       [  60,   37,  393, 6102,  907,  901,  199,  209,   79,  113],\n",
      "       [  61,   22,  486,  519, 6541,  377,  137,  689,   84,   84],\n",
      "       [  59,   50,  378, 1802, 1265, 4387,   58,  781,   96,  124],\n",
      "       [  25,   61,  524, 1013,  272,  179, 6807,   32,   54,   33],\n",
      "       [  66,   26,  142,  221,  762,  305,    8, 7225,   55,  190],\n",
      "       [ 268,  260,  228,  136,  171,   46,   42,  146, 6921,  782],\n",
      "       [ 142,  782,   32,   79,   87,   29,   18,  145,  102, 7584]]),\n",
      " 'f1': 0.7249189467156616,\n",
      " 'precision': 0.7356362952348933,\n",
      " 'recall': 0.7241666666666666}\n",
      "\n",
      "-----Results for weight decay: 0.0001-----\n",
      "Accuracy on validation set: 72.39%\n",
      "{'accuracy': 72.39222222222222,\n",
      " 'conf_matrix': array([[7149,   87,  579,   74,   93,   38,   53,   35,  761,  131],\n",
      "       [ 168, 6877,   50,   40,   48,   53,   59,   17,  341, 1347],\n",
      "       [ 204,   38, 6690,  297,  544,  272,  744,   49,  140,   22],\n",
      "       [  69,   34,  742, 5560,  721,  844,  838,   65,   78,   49],\n",
      "       [ 107,   21,  596,  459, 6442,  602,  406,  239,   85,   43],\n",
      "       [  80,   76,  678, 1689, 1158, 4380,  474,  264,  107,   94],\n",
      "       [  24,   22,  489,  306,  125,   44, 7928,    4,   44,   14],\n",
      "       [ 186,   75,  248,  252, 1481,  638,   75, 5756,  120,  169],\n",
      "       [ 333,  151,  376,  121,  167,   58,  119,   32, 7467,  176],\n",
      "       [ 267, 1101,   56,   71,   92,   35,   46,   44,  384, 6904]]),\n",
      " 'f1': 0.7226164118830068,\n",
      " 'precision': 0.7306801593655042,\n",
      " 'recall': 0.7239222222222222}\n",
      "\n",
      "-----Results for weight decay: 0.001-----\n",
      "Accuracy on validation set: 70.90%\n",
      "{'accuracy': 70.90444444444445,\n",
      " 'conf_matrix': array([[7457,  239,  200,   57,   23,   20,   21,   86,  567,  330],\n",
      "       [ 109, 7554,   22,    7,    3,   41,   15,   46,  170, 1033],\n",
      "       [ 623,   72, 6338,  202,  167,  459,  525,  228,  348,   38],\n",
      "       [ 119,  128,  619, 4456,  216, 1870,  635,  434,  409,  114],\n",
      "       [ 150,   69, 1080,  372, 4315,  822,  301, 1427,  317,  147],\n",
      "       [  99,  151,  547,  871,  348, 5148,  159, 1249,  274,  154],\n",
      "       [  72,  147,  616,  287,   28,  225, 7324,   54,  224,   23],\n",
      "       [ 136,   79,  152,  138,  145,  308,   21, 7451,  207,  363],\n",
      "       [ 540,  479,  263,   28,   25,   44,   31,   51, 7141,  398],\n",
      "       [ 147, 1807,   26,   25,   13,   24,   10,   69,  249, 6630]]),\n",
      " 'f1': 0.7036995900297027,\n",
      " 'precision': 0.7139484063871646,\n",
      " 'recall': 0.7090444444444445}\n",
      "\n",
      "-----Results for weight decay: 0.01-----\n",
      "Accuracy on validation set: 54.09%\n",
      "{'accuracy': 54.09,\n",
      " 'conf_matrix': array([[6858,  562,  619,   23,   53,   13,  151,   91,  620,   10],\n",
      "       [ 228, 7764,   56,   97,   40,   33,  424,  110,  159,   89],\n",
      "       [ 644,   42, 4670,  288,  437,   50, 2616,   26,  227,    0],\n",
      "       [  80,   54, 1128, 2820,  738,  636, 3347,   88,  106,    3],\n",
      "       [ 317,   38, 1437,  384, 4431,  166, 1695,  423,  105,    4],\n",
      "       [ 154,   69, 1269, 2527, 1466, 1576, 1422,  408,   99,   10],\n",
      "       [  24,   44,  332,  128,   76,   10, 8337,    2,   47,    0],\n",
      "       [ 423,   91,  571,  261, 2073,  365,  302, 4814,   73,   27],\n",
      "       [ 881, 1167,  528,  101,   51,   30,  529,   44, 5636,   33],\n",
      "       [ 537, 5321,  125,  111,   95,   95,  230,  298,  413, 1775]]),\n",
      " 'f1': 0.5165649510130478,\n",
      " 'precision': 0.5904054989992228,\n",
      " 'recall': 0.5409}\n",
      "\n"
     ]
    }
   ],
   "source": [
    "tests_wd = []\n",
    "for train_results, wd in zip(models_wd, weight_decays):\n",
    "    print(f\"-----Results for weight decay: {wd}-----\")\n",
    "    test_results = test_model(test_data, train_results['model'])\n",
    "    tests_wd.append(test_results)\n",
    "    pprint(test_results)\n",
    "    print()"
   ]
  },
  {
   "cell_type": "code",
   "execution_count": 55,
   "metadata": {},
   "outputs": [],
   "source": [
    "# saving the models and training results\n",
    "base_file_path = 'C:/Users/zp13279/Desktop/Repos_other/DeepLearning/kod/training_results'\n",
    "os.makedirs(base_file_path, exist_ok=True)\n",
    "\n",
    "model_results = [models_lr, models_bs, models_dr, models_wd]\n",
    "param_names = ['models_lr.txt', 'models_bs.txt', 'models_dr.txt', 'models_wd.txt']\n",
    "\n",
    "# Saving the models and training results\n",
    "for data, param_name in zip(model_results, param_names):\n",
    "    file_path = f\"{base_file_path}/{param_name}\"  # Create the full file path\n",
    "    with open(file_path, 'w') as file:\n",
    "        for entry in data:\n",
    "            file.write(str(entry) + '\\n')"
   ]
  },
  {
   "cell_type": "code",
   "execution_count": 56,
   "metadata": {},
   "outputs": [],
   "source": [
    "# saving the validation results\n",
    "base_file_path = 'C:/Users/zp13279/Desktop/Repos_other/DeepLearning/kod/validation_results'\n",
    "os.makedirs(base_file_path, exist_ok=True)\n",
    "\n",
    "model_validation_results = [tests_lr, tests_bs, tests_dr, tests_wd]\n",
    "param_names = ['tests_lr.txt', 'tests_bs.txt', 'tests_dr.txt', 'tests_wd.txt']\n",
    "\n",
    "# Saving the models and training results\n",
    "for data, param_name in zip(model_validation_results, param_names):\n",
    "    file_path = f\"{base_file_path}/{param_name}\"  # Create the full file path\n",
    "    with open(file_path, 'w') as file:\n",
    "        for entry in data:\n",
    "            file.write(str(entry) + '\\n')"
   ]
  },
  {
   "cell_type": "markdown",
   "metadata": {},
   "source": [
    "## Few-shot learning approach"
   ]
  },
  {
   "cell_type": "code",
   "execution_count": 62,
   "metadata": {},
   "outputs": [],
   "source": [
    "def load_data_few_shot(batch_size=128, few_shot_samples_per_class=None):\n",
    "    cinic_directory = 'C:/Users/zp13279/Desktop/Repos_other/DeepLearning/kod/data'\n",
    "    cinic_mean = [0.47889522, 0.47227842, 0.43047404]\n",
    "    cinic_std = [0.24205776, 0.23828046, 0.25874835]\n",
    "\n",
    "    torch.manual_seed(42)\n",
    "\n",
    "    train_dataset = torchvision.datasets.ImageFolder(\n",
    "        cinic_directory + '/train',\n",
    "        transform=transforms.Compose([\n",
    "            transforms.ToTensor(),\n",
    "            transforms.Normalize(mean=cinic_mean, std=cinic_std)\n",
    "        ])\n",
    "    )\n",
    "    \n",
    "    if few_shot_samples_per_class is not None:\n",
    "        # Create a few-shot dataset\n",
    "        few_shot_data = []\n",
    "        class_count = defaultdict(int)\n",
    "        \n",
    "        for img, label in train_dataset:\n",
    "            if class_count[label] < few_shot_samples_per_class:\n",
    "                few_shot_data.append((img, label))\n",
    "                class_count[label] += 1\n",
    "                \n",
    "            # Stop if we have enough samples for all classes\n",
    "            if all(count >= few_shot_samples_per_class for count in class_count.values()):\n",
    "                break\n",
    "\n",
    "        train_dataset = few_shot_data\n",
    "\n",
    "    cinic_train = DataLoader(train_dataset, batch_size=batch_size, shuffle=True)\n",
    "\n",
    "    cinic_test = DataLoader(\n",
    "        torchvision.datasets.ImageFolder(cinic_directory + '/valid',\n",
    "        transform=transforms.Compose([\n",
    "            transforms.ToTensor(),\n",
    "            transforms.Normalize(mean=cinic_mean, std=cinic_std)\n",
    "        ])),\n",
    "        batch_size=batch_size, shuffle=False\n",
    "    )\n",
    "    \n",
    "    return {\n",
    "        'train': cinic_train,\n",
    "        'test': cinic_test\n",
    "    }"
   ]
  },
  {
   "cell_type": "code",
   "execution_count": 65,
   "metadata": {},
   "outputs": [],
   "source": [
    "samples_number = [500, 1000, 2000, 3000, 4000]\n",
    "models_few_shot = []\n",
    "tests_few_shot = []\n"
   ]
  },
  {
   "cell_type": "code",
   "execution_count": 66,
   "metadata": {},
   "outputs": [
    {
     "name": "stdout",
     "output_type": "stream",
     "text": [
      "------Training model with: 500 samples-------\n"
     ]
    },
    {
     "name": "stderr",
     "output_type": "stream",
     "text": [
      "Epoch 1/10: 100%|██████████| 8/8 [00:03<00:00,  2.62it/s, loss=0]  \n"
     ]
    },
    {
     "name": "stdout",
     "output_type": "stream",
     "text": [
      "Epoch [1/10], Loss: 0.3121, Accuracy: 87.20%\n"
     ]
    },
    {
     "name": "stderr",
     "output_type": "stream",
     "text": [
      "Epoch 2/10: 100%|██████████| 8/8 [00:01<00:00,  7.92it/s, loss=0]\n"
     ]
    },
    {
     "name": "stdout",
     "output_type": "stream",
     "text": [
      "Epoch [2/10], Loss: 0.0000, Accuracy: 100.00%\n"
     ]
    },
    {
     "name": "stderr",
     "output_type": "stream",
     "text": [
      "Epoch 3/10: 100%|██████████| 8/8 [00:00<00:00,  8.14it/s, loss=0]\n"
     ]
    },
    {
     "name": "stdout",
     "output_type": "stream",
     "text": [
      "Epoch [3/10], Loss: 0.0000, Accuracy: 100.00%\n"
     ]
    },
    {
     "name": "stderr",
     "output_type": "stream",
     "text": [
      "Epoch 4/10: 100%|██████████| 8/8 [00:01<00:00,  7.90it/s, loss=0]\n"
     ]
    },
    {
     "name": "stdout",
     "output_type": "stream",
     "text": [
      "Epoch [4/10], Loss: 0.0000, Accuracy: 100.00%\n"
     ]
    },
    {
     "name": "stderr",
     "output_type": "stream",
     "text": [
      "Epoch 5/10: 100%|██████████| 8/8 [00:01<00:00,  7.85it/s, loss=0]\n"
     ]
    },
    {
     "name": "stdout",
     "output_type": "stream",
     "text": [
      "Epoch [5/10], Loss: 0.0000, Accuracy: 100.00%\n"
     ]
    },
    {
     "name": "stderr",
     "output_type": "stream",
     "text": [
      "Epoch 6/10: 100%|██████████| 8/8 [00:01<00:00,  7.95it/s, loss=0]\n"
     ]
    },
    {
     "name": "stdout",
     "output_type": "stream",
     "text": [
      "Epoch [6/10], Loss: 0.0000, Accuracy: 100.00%\n"
     ]
    },
    {
     "name": "stderr",
     "output_type": "stream",
     "text": [
      "Epoch 7/10: 100%|██████████| 8/8 [00:01<00:00,  7.88it/s, loss=0]\n"
     ]
    },
    {
     "name": "stdout",
     "output_type": "stream",
     "text": [
      "Epoch [7/10], Loss: 0.0000, Accuracy: 100.00%\n"
     ]
    },
    {
     "name": "stderr",
     "output_type": "stream",
     "text": [
      "Epoch 8/10: 100%|██████████| 8/8 [00:01<00:00,  7.79it/s, loss=0]\n"
     ]
    },
    {
     "name": "stdout",
     "output_type": "stream",
     "text": [
      "Epoch [8/10], Loss: 0.0000, Accuracy: 100.00%\n"
     ]
    },
    {
     "name": "stderr",
     "output_type": "stream",
     "text": [
      "Epoch 9/10: 100%|██████████| 8/8 [00:01<00:00,  7.69it/s, loss=0]\n"
     ]
    },
    {
     "name": "stdout",
     "output_type": "stream",
     "text": [
      "Epoch [9/10], Loss: 0.0000, Accuracy: 100.00%\n"
     ]
    },
    {
     "name": "stderr",
     "output_type": "stream",
     "text": [
      "Epoch 10/10: 100%|██████████| 8/8 [00:01<00:00,  7.83it/s, loss=0]\n"
     ]
    },
    {
     "name": "stdout",
     "output_type": "stream",
     "text": [
      "Epoch [10/10], Loss: 0.0000, Accuracy: 100.00%\n",
      "Model saved at: models/few_shot/lr_0.001_dropout_0.5_wd_0_bs_64 \n",
      "\n",
      "------Training model with: 1000 samples-------\n"
     ]
    },
    {
     "name": "stderr",
     "output_type": "stream",
     "text": [
      "Epoch 1/10: 100%|██████████| 16/16 [00:04<00:00,  3.94it/s, loss=0] \n"
     ]
    },
    {
     "name": "stdout",
     "output_type": "stream",
     "text": [
      "Epoch [1/10], Loss: 0.1565, Accuracy: 93.60%\n"
     ]
    },
    {
     "name": "stderr",
     "output_type": "stream",
     "text": [
      "Epoch 2/10: 100%|██████████| 16/16 [00:02<00:00,  7.66it/s, loss=0]\n"
     ]
    },
    {
     "name": "stdout",
     "output_type": "stream",
     "text": [
      "Epoch [2/10], Loss: 0.0000, Accuracy: 100.00%\n"
     ]
    },
    {
     "name": "stderr",
     "output_type": "stream",
     "text": [
      "Epoch 3/10: 100%|██████████| 16/16 [00:01<00:00,  8.02it/s, loss=0]\n"
     ]
    },
    {
     "name": "stdout",
     "output_type": "stream",
     "text": [
      "Epoch [3/10], Loss: 0.0000, Accuracy: 100.00%\n"
     ]
    },
    {
     "name": "stderr",
     "output_type": "stream",
     "text": [
      "Epoch 4/10: 100%|██████████| 16/16 [00:02<00:00,  7.69it/s, loss=0]\n"
     ]
    },
    {
     "name": "stdout",
     "output_type": "stream",
     "text": [
      "Epoch [4/10], Loss: 0.0000, Accuracy: 100.00%\n"
     ]
    },
    {
     "name": "stderr",
     "output_type": "stream",
     "text": [
      "Epoch 5/10: 100%|██████████| 16/16 [00:01<00:00,  8.01it/s, loss=0]\n"
     ]
    },
    {
     "name": "stdout",
     "output_type": "stream",
     "text": [
      "Epoch [5/10], Loss: 0.0000, Accuracy: 100.00%\n"
     ]
    },
    {
     "name": "stderr",
     "output_type": "stream",
     "text": [
      "Epoch 6/10: 100%|██████████| 16/16 [00:02<00:00,  7.81it/s, loss=0]\n"
     ]
    },
    {
     "name": "stdout",
     "output_type": "stream",
     "text": [
      "Epoch [6/10], Loss: 0.0000, Accuracy: 100.00%\n"
     ]
    },
    {
     "name": "stderr",
     "output_type": "stream",
     "text": [
      "Epoch 7/10: 100%|██████████| 16/16 [00:01<00:00,  8.09it/s, loss=0]\n"
     ]
    },
    {
     "name": "stdout",
     "output_type": "stream",
     "text": [
      "Epoch [7/10], Loss: 0.0000, Accuracy: 100.00%\n"
     ]
    },
    {
     "name": "stderr",
     "output_type": "stream",
     "text": [
      "Epoch 8/10: 100%|██████████| 16/16 [00:02<00:00,  7.22it/s, loss=0]\n"
     ]
    },
    {
     "name": "stdout",
     "output_type": "stream",
     "text": [
      "Epoch [8/10], Loss: 0.0000, Accuracy: 100.00%\n"
     ]
    },
    {
     "name": "stderr",
     "output_type": "stream",
     "text": [
      "Epoch 9/10: 100%|██████████| 16/16 [00:02<00:00,  7.46it/s, loss=0]\n"
     ]
    },
    {
     "name": "stdout",
     "output_type": "stream",
     "text": [
      "Epoch [9/10], Loss: 0.0000, Accuracy: 100.00%\n"
     ]
    },
    {
     "name": "stderr",
     "output_type": "stream",
     "text": [
      "Epoch 10/10: 100%|██████████| 16/16 [00:01<00:00,  8.15it/s, loss=0]\n"
     ]
    },
    {
     "name": "stdout",
     "output_type": "stream",
     "text": [
      "Epoch [10/10], Loss: 0.0000, Accuracy: 100.00%\n",
      "Model saved at: models/few_shot/lr_0.001_dropout_0.5_wd_0_bs_64 \n",
      "\n",
      "------Training model with: 2000 samples-------\n"
     ]
    },
    {
     "name": "stderr",
     "output_type": "stream",
     "text": [
      "Epoch 1/10: 100%|██████████| 32/32 [00:04<00:00,  7.60it/s, loss=0]  \n"
     ]
    },
    {
     "name": "stdout",
     "output_type": "stream",
     "text": [
      "Epoch [1/10], Loss: 0.0787, Accuracy: 96.85%\n"
     ]
    },
    {
     "name": "stderr",
     "output_type": "stream",
     "text": [
      "Epoch 2/10: 100%|██████████| 32/32 [00:04<00:00,  7.93it/s, loss=0]\n"
     ]
    },
    {
     "name": "stdout",
     "output_type": "stream",
     "text": [
      "Epoch [2/10], Loss: 0.0000, Accuracy: 100.00%\n"
     ]
    },
    {
     "name": "stderr",
     "output_type": "stream",
     "text": [
      "Epoch 3/10: 100%|██████████| 32/32 [00:03<00:00,  8.15it/s, loss=0]\n"
     ]
    },
    {
     "name": "stdout",
     "output_type": "stream",
     "text": [
      "Epoch [3/10], Loss: 0.0000, Accuracy: 100.00%\n"
     ]
    },
    {
     "name": "stderr",
     "output_type": "stream",
     "text": [
      "Epoch 4/10: 100%|██████████| 32/32 [00:03<00:00,  8.10it/s, loss=0]\n"
     ]
    },
    {
     "name": "stdout",
     "output_type": "stream",
     "text": [
      "Epoch [4/10], Loss: 0.0000, Accuracy: 100.00%\n"
     ]
    },
    {
     "name": "stderr",
     "output_type": "stream",
     "text": [
      "Epoch 5/10: 100%|██████████| 32/32 [00:03<00:00,  8.06it/s, loss=0]\n"
     ]
    },
    {
     "name": "stdout",
     "output_type": "stream",
     "text": [
      "Epoch [5/10], Loss: 0.0000, Accuracy: 100.00%\n"
     ]
    },
    {
     "name": "stderr",
     "output_type": "stream",
     "text": [
      "Epoch 6/10: 100%|██████████| 32/32 [00:03<00:00,  8.16it/s, loss=0]\n"
     ]
    },
    {
     "name": "stdout",
     "output_type": "stream",
     "text": [
      "Epoch [6/10], Loss: 0.0000, Accuracy: 100.00%\n"
     ]
    },
    {
     "name": "stderr",
     "output_type": "stream",
     "text": [
      "Epoch 7/10: 100%|██████████| 32/32 [00:03<00:00,  8.06it/s, loss=0]\n"
     ]
    },
    {
     "name": "stdout",
     "output_type": "stream",
     "text": [
      "Epoch [7/10], Loss: 0.0000, Accuracy: 100.00%\n"
     ]
    },
    {
     "name": "stderr",
     "output_type": "stream",
     "text": [
      "Epoch 8/10: 100%|██████████| 32/32 [00:03<00:00,  8.06it/s, loss=0]\n"
     ]
    },
    {
     "name": "stdout",
     "output_type": "stream",
     "text": [
      "Epoch [8/10], Loss: 0.0000, Accuracy: 100.00%\n"
     ]
    },
    {
     "name": "stderr",
     "output_type": "stream",
     "text": [
      "Epoch 9/10: 100%|██████████| 32/32 [00:03<00:00,  8.11it/s, loss=0]\n"
     ]
    },
    {
     "name": "stdout",
     "output_type": "stream",
     "text": [
      "Epoch [9/10], Loss: 0.0000, Accuracy: 100.00%\n"
     ]
    },
    {
     "name": "stderr",
     "output_type": "stream",
     "text": [
      "Epoch 10/10: 100%|██████████| 32/32 [00:03<00:00,  8.09it/s, loss=0]\n"
     ]
    },
    {
     "name": "stdout",
     "output_type": "stream",
     "text": [
      "Epoch [10/10], Loss: 0.0000, Accuracy: 100.00%\n",
      "Model saved at: models/few_shot/lr_0.001_dropout_0.5_wd_0_bs_64 \n",
      "\n",
      "------Training model with: 3000 samples-------\n"
     ]
    },
    {
     "name": "stderr",
     "output_type": "stream",
     "text": [
      "Epoch 1/10: 100%|██████████| 47/47 [00:07<00:00,  5.94it/s, loss=0]  \n"
     ]
    },
    {
     "name": "stdout",
     "output_type": "stream",
     "text": [
      "Epoch [1/10], Loss: 0.0526, Accuracy: 97.93%\n"
     ]
    },
    {
     "name": "stderr",
     "output_type": "stream",
     "text": [
      "Epoch 2/10: 100%|██████████| 47/47 [00:05<00:00,  7.95it/s, loss=0]\n"
     ]
    },
    {
     "name": "stdout",
     "output_type": "stream",
     "text": [
      "Epoch [2/10], Loss: 0.0000, Accuracy: 100.00%\n"
     ]
    },
    {
     "name": "stderr",
     "output_type": "stream",
     "text": [
      "Epoch 3/10: 100%|██████████| 47/47 [00:05<00:00,  7.99it/s, loss=0]\n"
     ]
    },
    {
     "name": "stdout",
     "output_type": "stream",
     "text": [
      "Epoch [3/10], Loss: 0.0000, Accuracy: 100.00%\n"
     ]
    },
    {
     "name": "stderr",
     "output_type": "stream",
     "text": [
      "Epoch 4/10: 100%|██████████| 47/47 [00:05<00:00,  7.94it/s, loss=0]\n"
     ]
    },
    {
     "name": "stdout",
     "output_type": "stream",
     "text": [
      "Epoch [4/10], Loss: 0.0000, Accuracy: 100.00%\n"
     ]
    },
    {
     "name": "stderr",
     "output_type": "stream",
     "text": [
      "Epoch 5/10: 100%|██████████| 47/47 [00:05<00:00,  8.03it/s, loss=0]\n"
     ]
    },
    {
     "name": "stdout",
     "output_type": "stream",
     "text": [
      "Epoch [5/10], Loss: 0.0000, Accuracy: 100.00%\n"
     ]
    },
    {
     "name": "stderr",
     "output_type": "stream",
     "text": [
      "Epoch 6/10: 100%|██████████| 47/47 [00:05<00:00,  8.03it/s, loss=0]\n"
     ]
    },
    {
     "name": "stdout",
     "output_type": "stream",
     "text": [
      "Epoch [6/10], Loss: 0.0000, Accuracy: 100.00%\n"
     ]
    },
    {
     "name": "stderr",
     "output_type": "stream",
     "text": [
      "Epoch 7/10: 100%|██████████| 47/47 [00:05<00:00,  8.10it/s, loss=0]\n"
     ]
    },
    {
     "name": "stdout",
     "output_type": "stream",
     "text": [
      "Epoch [7/10], Loss: 0.0000, Accuracy: 100.00%\n"
     ]
    },
    {
     "name": "stderr",
     "output_type": "stream",
     "text": [
      "Epoch 8/10: 100%|██████████| 47/47 [00:05<00:00,  7.85it/s, loss=0]\n"
     ]
    },
    {
     "name": "stdout",
     "output_type": "stream",
     "text": [
      "Epoch [8/10], Loss: 0.0000, Accuracy: 100.00%\n"
     ]
    },
    {
     "name": "stderr",
     "output_type": "stream",
     "text": [
      "Epoch 9/10: 100%|██████████| 47/47 [00:06<00:00,  7.75it/s, loss=0]\n"
     ]
    },
    {
     "name": "stdout",
     "output_type": "stream",
     "text": [
      "Epoch [9/10], Loss: 0.0000, Accuracy: 100.00%\n"
     ]
    },
    {
     "name": "stderr",
     "output_type": "stream",
     "text": [
      "Epoch 10/10: 100%|██████████| 47/47 [00:05<00:00,  8.08it/s, loss=0]\n"
     ]
    },
    {
     "name": "stdout",
     "output_type": "stream",
     "text": [
      "Epoch [10/10], Loss: 0.0000, Accuracy: 100.00%\n",
      "Model saved at: models/few_shot/lr_0.001_dropout_0.5_wd_0_bs_64 \n",
      "\n",
      "------Training model with: 4000 samples-------\n"
     ]
    },
    {
     "name": "stderr",
     "output_type": "stream",
     "text": [
      "Epoch 1/10: 100%|██████████| 63/63 [00:08<00:00,  7.43it/s, loss=0]  \n"
     ]
    },
    {
     "name": "stdout",
     "output_type": "stream",
     "text": [
      "Epoch [1/10], Loss: 0.0404, Accuracy: 98.42%\n"
     ]
    },
    {
     "name": "stderr",
     "output_type": "stream",
     "text": [
      "Epoch 2/10: 100%|██████████| 63/63 [00:07<00:00,  8.03it/s, loss=0]\n"
     ]
    },
    {
     "name": "stdout",
     "output_type": "stream",
     "text": [
      "Epoch [2/10], Loss: 0.0000, Accuracy: 100.00%\n"
     ]
    },
    {
     "name": "stderr",
     "output_type": "stream",
     "text": [
      "Epoch 3/10: 100%|██████████| 63/63 [00:07<00:00,  8.32it/s, loss=0]\n"
     ]
    },
    {
     "name": "stdout",
     "output_type": "stream",
     "text": [
      "Epoch [3/10], Loss: 0.0000, Accuracy: 100.00%\n"
     ]
    },
    {
     "name": "stderr",
     "output_type": "stream",
     "text": [
      "Epoch 4/10: 100%|██████████| 63/63 [00:07<00:00,  7.95it/s, loss=0]\n"
     ]
    },
    {
     "name": "stdout",
     "output_type": "stream",
     "text": [
      "Epoch [4/10], Loss: 0.0000, Accuracy: 100.00%\n"
     ]
    },
    {
     "name": "stderr",
     "output_type": "stream",
     "text": [
      "Epoch 5/10: 100%|██████████| 63/63 [00:07<00:00,  7.94it/s, loss=0]\n"
     ]
    },
    {
     "name": "stdout",
     "output_type": "stream",
     "text": [
      "Epoch [5/10], Loss: 0.0000, Accuracy: 100.00%\n"
     ]
    },
    {
     "name": "stderr",
     "output_type": "stream",
     "text": [
      "Epoch 6/10: 100%|██████████| 63/63 [00:07<00:00,  8.09it/s, loss=0]\n"
     ]
    },
    {
     "name": "stdout",
     "output_type": "stream",
     "text": [
      "Epoch [6/10], Loss: 0.0000, Accuracy: 100.00%\n"
     ]
    },
    {
     "name": "stderr",
     "output_type": "stream",
     "text": [
      "Epoch 7/10: 100%|██████████| 63/63 [00:08<00:00,  7.67it/s, loss=0]\n"
     ]
    },
    {
     "name": "stdout",
     "output_type": "stream",
     "text": [
      "Epoch [7/10], Loss: 0.0000, Accuracy: 100.00%\n"
     ]
    },
    {
     "name": "stderr",
     "output_type": "stream",
     "text": [
      "Epoch 8/10: 100%|██████████| 63/63 [00:08<00:00,  7.70it/s, loss=0]\n"
     ]
    },
    {
     "name": "stdout",
     "output_type": "stream",
     "text": [
      "Epoch [8/10], Loss: 0.0000, Accuracy: 100.00%\n"
     ]
    },
    {
     "name": "stderr",
     "output_type": "stream",
     "text": [
      "Epoch 9/10: 100%|██████████| 63/63 [00:07<00:00,  8.05it/s, loss=0]\n"
     ]
    },
    {
     "name": "stdout",
     "output_type": "stream",
     "text": [
      "Epoch [9/10], Loss: 0.0000, Accuracy: 100.00%\n"
     ]
    },
    {
     "name": "stderr",
     "output_type": "stream",
     "text": [
      "Epoch 10/10: 100%|██████████| 63/63 [00:07<00:00,  8.07it/s, loss=0]\n"
     ]
    },
    {
     "name": "stdout",
     "output_type": "stream",
     "text": [
      "Epoch [10/10], Loss: 0.0000, Accuracy: 100.00%\n",
      "Model saved at: models/few_shot/lr_0.001_dropout_0.5_wd_0_bs_64 \n",
      "\n"
     ]
    }
   ],
   "source": [
    "for samples_no in samples_number:\n",
    "    loaded_shot_data = load_data_few_shot(batch_size=64, few_shot_samples_per_class=samples_no)\n",
    "    train_data, test_data = loaded_shot_data['train'], loaded_shot_data['test']\n",
    "    tests_few_shot.append(test_data)\n",
    "\n",
    "    print(f'------Training model with: {samples_no} samples-------')\n",
    "    train_results = train_model(train_data, directory='few_shot', num_epochs=10, batch_size=64)\n",
    "    models_few_shot.append(train_results)"
   ]
  },
  {
   "cell_type": "code",
   "execution_count": 68,
   "metadata": {},
   "outputs": [
    {
     "name": "stdout",
     "output_type": "stream",
     "text": [
      "-----Results for samples number 500-----\n",
      "Accuracy on validation set: 10.00%\n",
      "{'accuracy': 10.0,\n",
      " 'conf_matrix': array([[9000,    0,    0,    0,    0,    0,    0,    0,    0,    0],\n",
      "       [9000,    0,    0,    0,    0,    0,    0,    0,    0,    0],\n",
      "       [9000,    0,    0,    0,    0,    0,    0,    0,    0,    0],\n",
      "       [9000,    0,    0,    0,    0,    0,    0,    0,    0,    0],\n",
      "       [9000,    0,    0,    0,    0,    0,    0,    0,    0,    0],\n",
      "       [9000,    0,    0,    0,    0,    0,    0,    0,    0,    0],\n",
      "       [9000,    0,    0,    0,    0,    0,    0,    0,    0,    0],\n",
      "       [9000,    0,    0,    0,    0,    0,    0,    0,    0,    0],\n",
      "       [9000,    0,    0,    0,    0,    0,    0,    0,    0,    0],\n",
      "       [9000,    0,    0,    0,    0,    0,    0,    0,    0,    0]]),\n",
      " 'f1': 0.018181818181818184,\n",
      " 'precision': 0.01,\n",
      " 'recall': 0.1}\n",
      "\n",
      "-----Results for samples number 1000-----\n",
      "Accuracy on validation set: 10.00%\n",
      "{'accuracy': 10.0,\n",
      " 'conf_matrix': array([[9000,    0,    0,    0,    0,    0,    0,    0,    0,    0],\n",
      "       [9000,    0,    0,    0,    0,    0,    0,    0,    0,    0],\n",
      "       [9000,    0,    0,    0,    0,    0,    0,    0,    0,    0],\n",
      "       [9000,    0,    0,    0,    0,    0,    0,    0,    0,    0],\n",
      "       [9000,    0,    0,    0,    0,    0,    0,    0,    0,    0],\n",
      "       [9000,    0,    0,    0,    0,    0,    0,    0,    0,    0],\n",
      "       [9000,    0,    0,    0,    0,    0,    0,    0,    0,    0],\n",
      "       [9000,    0,    0,    0,    0,    0,    0,    0,    0,    0],\n",
      "       [9000,    0,    0,    0,    0,    0,    0,    0,    0,    0],\n",
      "       [9000,    0,    0,    0,    0,    0,    0,    0,    0,    0]]),\n",
      " 'f1': 0.018181818181818184,\n",
      " 'precision': 0.01,\n",
      " 'recall': 0.1}\n",
      "\n",
      "-----Results for samples number 2000-----\n",
      "Accuracy on validation set: 10.00%\n",
      "{'accuracy': 10.0,\n",
      " 'conf_matrix': array([[9000,    0,    0,    0,    0,    0,    0,    0,    0,    0],\n",
      "       [9000,    0,    0,    0,    0,    0,    0,    0,    0,    0],\n",
      "       [9000,    0,    0,    0,    0,    0,    0,    0,    0,    0],\n",
      "       [9000,    0,    0,    0,    0,    0,    0,    0,    0,    0],\n",
      "       [9000,    0,    0,    0,    0,    0,    0,    0,    0,    0],\n",
      "       [9000,    0,    0,    0,    0,    0,    0,    0,    0,    0],\n",
      "       [9000,    0,    0,    0,    0,    0,    0,    0,    0,    0],\n",
      "       [9000,    0,    0,    0,    0,    0,    0,    0,    0,    0],\n",
      "       [9000,    0,    0,    0,    0,    0,    0,    0,    0,    0],\n",
      "       [9000,    0,    0,    0,    0,    0,    0,    0,    0,    0]]),\n",
      " 'f1': 0.018181818181818184,\n",
      " 'precision': 0.01,\n",
      " 'recall': 0.1}\n",
      "\n",
      "-----Results for samples number 3000-----\n",
      "Accuracy on validation set: 10.00%\n",
      "{'accuracy': 10.0,\n",
      " 'conf_matrix': array([[9000,    0,    0,    0,    0,    0,    0,    0,    0,    0],\n",
      "       [9000,    0,    0,    0,    0,    0,    0,    0,    0,    0],\n",
      "       [9000,    0,    0,    0,    0,    0,    0,    0,    0,    0],\n",
      "       [9000,    0,    0,    0,    0,    0,    0,    0,    0,    0],\n",
      "       [9000,    0,    0,    0,    0,    0,    0,    0,    0,    0],\n",
      "       [9000,    0,    0,    0,    0,    0,    0,    0,    0,    0],\n",
      "       [9000,    0,    0,    0,    0,    0,    0,    0,    0,    0],\n",
      "       [9000,    0,    0,    0,    0,    0,    0,    0,    0,    0],\n",
      "       [9000,    0,    0,    0,    0,    0,    0,    0,    0,    0],\n",
      "       [9000,    0,    0,    0,    0,    0,    0,    0,    0,    0]]),\n",
      " 'f1': 0.018181818181818184,\n",
      " 'precision': 0.01,\n",
      " 'recall': 0.1}\n",
      "\n",
      "-----Results for samples number 4000-----\n",
      "Accuracy on validation set: 10.00%\n",
      "{'accuracy': 10.0,\n",
      " 'conf_matrix': array([[9000,    0,    0,    0,    0,    0,    0,    0,    0,    0],\n",
      "       [9000,    0,    0,    0,    0,    0,    0,    0,    0,    0],\n",
      "       [9000,    0,    0,    0,    0,    0,    0,    0,    0,    0],\n",
      "       [9000,    0,    0,    0,    0,    0,    0,    0,    0,    0],\n",
      "       [9000,    0,    0,    0,    0,    0,    0,    0,    0,    0],\n",
      "       [9000,    0,    0,    0,    0,    0,    0,    0,    0,    0],\n",
      "       [9000,    0,    0,    0,    0,    0,    0,    0,    0,    0],\n",
      "       [9000,    0,    0,    0,    0,    0,    0,    0,    0,    0],\n",
      "       [9000,    0,    0,    0,    0,    0,    0,    0,    0,    0],\n",
      "       [9000,    0,    0,    0,    0,    0,    0,    0,    0,    0]]),\n",
      " 'f1': 0.018181818181818184,\n",
      " 'precision': 0.01,\n",
      " 'recall': 0.1}\n",
      "\n"
     ]
    }
   ],
   "source": [
    "tests_few_shot_results = []\n",
    "for train_results, sn, test_data in zip(models_few_shot, samples_number, tests_few_shot):\n",
    "    print(f\"-----Results for samples number {sn}-----\")\n",
    "    test_results = test_model(test_data, train_results['model'])\n",
    "    tests_few_shot_results.append(test_results)\n",
    "    pprint(test_results)\n",
    "    print()"
   ]
  },
  {
   "cell_type": "code",
   "execution_count": null,
   "metadata": {},
   "outputs": [],
   "source": []
  }
 ],
 "metadata": {
  "kernelspec": {
   "display_name": "pytorch-intel",
   "language": "python",
   "name": "python3"
  },
  "language_info": {
   "codemirror_mode": {
    "name": "ipython",
    "version": 3
   },
   "file_extension": ".py",
   "mimetype": "text/x-python",
   "name": "python",
   "nbconvert_exporter": "python",
   "pygments_lexer": "ipython3",
   "version": "3.11.11"
  }
 },
 "nbformat": 4,
 "nbformat_minor": 2
}
